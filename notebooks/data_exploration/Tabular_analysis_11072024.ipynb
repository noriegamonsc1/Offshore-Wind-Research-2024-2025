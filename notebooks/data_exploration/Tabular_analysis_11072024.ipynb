{
 "cells": [
  {
   "cell_type": "code",
   "execution_count": 1,
   "id": "4ea091d7-75c0-4256-8356-7bf696899b3f",
   "metadata": {},
   "outputs": [
    {
     "name": "stderr",
     "output_type": "stream",
     "text": [
      "\u001b[32m2024-11-07 22:34:10.889\u001b[0m | \u001b[1mINFO    \u001b[0m | \u001b[36moffshore_wind_nj.config\u001b[0m:\u001b[36m<module>\u001b[0m:\u001b[36m11\u001b[0m - \u001b[1mPROJ_ROOT path is: C:\\Users\\crist\\OneDrive - montclair.edu\\00.MSU_MsDataScience\\2024.FALL(Offshore_research)\\03.CODING\\00.CCNM_OffshoreWind2425(Github)\u001b[0m\n"
     ]
    },
    {
     "name": "stdout",
     "output_type": "stream",
     "text": [
      "There are 11 files\n"
     ]
    }
   ],
   "source": [
    "import sys\n",
    "import os\n",
    "import numpy as np\n",
    "\n",
    "sys.path.append(os.path.abspath('../..'))\n",
    "\n",
    "\n",
    "from offshore_wind_nj.data_loader import data_files, load_data, all_arrays, extract_datetime_from_filename, removed_files, load_single_data\n",
    "from offshore_wind_nj.sar_wind_plot import plot_wind_field, plot_wind_field_by_arrays\n",
    "from offshore_wind_nj.data_cleaning import fill_zeros, find_zeros\n",
    "import offshore_wind_nj.data_processing as data_processing"
   ]
  },
  {
   "cell_type": "markdown",
   "id": "0aac5838-dde2-4051-84f6-365dcf6d8500",
   "metadata": {},
   "source": [
    "# Get the filtered flattened data (No Nan values), file names & dates"
   ]
  },
  {
   "cell_type": "code",
   "execution_count": 2,
   "id": "40fb0525-c007-4de4-960e-7b3af5ebcaba",
   "metadata": {},
   "outputs": [],
   "source": [
    "flattened_data_list, filename_datetimes = data_processing.flatten_data(all_arrays, data_files, mask=True)"
   ]
  },
  {
   "cell_type": "markdown",
   "id": "e13bbff1-dec8-4e67-88b0-ccd1b8491e29",
   "metadata": {},
   "source": [
    "# Scale the data \n",
    "## if there are any error indices, then remove them from the filename_datetimes list"
   ]
  },
  {
   "cell_type": "code",
   "execution_count": 3,
   "id": "e0a00d61-93e3-4908-96af-574b887fb8b5",
   "metadata": {},
   "outputs": [
    {
     "name": "stdout",
     "output_type": "stream",
     "text": [
      "No error indices\n"
     ]
    }
   ],
   "source": [
    "scaler = data_processing.scaler_flattened_data(flattened_data_list)\n",
    "scaled_data_list, error_indices = data_processing.scale_flat_data(flattened_data_list, scaler)\n",
    "\n",
    "if error_indices:\n",
    "    for index in sorted(error_indices, reverse=True):\n",
    "        del all_arrays[index]\n",
    "        del data_files[index]\n",
    "    print(f\"The error indices were removed from the all_arrays ({len(all_arrays)}) & datafiles ({len(data_files)})\")\n",
    "else:\n",
    "    print(\"No error indices\")"
   ]
  },
  {
   "cell_type": "code",
   "execution_count": 6,
   "id": "86ba0db7-fa27-41e3-a115-db366f3e8505",
   "metadata": {},
   "outputs": [],
   "source": [
    "import pandas as pd\n",
    "# Initialize a list to store each array's DataFrame with metadata\n",
    "dataframes = []\n",
    "\n",
    "# Process each array and corresponding metadata\n",
    "for array, (ID, date, start_time, end_time) in zip(flattened_data_list, filename_datetimes):\n",
    "    # Convert the array to a DataFrame\n",
    "    array_df = pd.DataFrame(array, columns=['Speed','Direction', 'Cos(dir)', 'Sen(dir)', 'Lat', 'Lon'])\n",
    "    \n",
    "    # Add metadata columns to each row of the array DataFrame\n",
    "    array_df['ID'] = ID\n",
    "    array_df['Date'] = date\n",
    "    array_df['Start Time'] = start_time\n",
    "    array_df['End Time'] = end_time\n",
    "    \n",
    "    # Append to the list\n",
    "    dataframes.append(array_df)\n",
    "\n",
    "# Concatenate all dataframes\n",
    "df = pd.concat(dataframes, ignore_index=True)"
   ]
  },
  {
   "cell_type": "code",
   "execution_count": 12,
   "id": "1c08ae14-9981-481a-a113-d58d986994b9",
   "metadata": {},
   "outputs": [
    {
     "data": {
      "text/html": [
       "<div>\n",
       "<style scoped>\n",
       "    .dataframe tbody tr th:only-of-type {\n",
       "        vertical-align: middle;\n",
       "    }\n",
       "\n",
       "    .dataframe tbody tr th {\n",
       "        vertical-align: top;\n",
       "    }\n",
       "\n",
       "    .dataframe thead th {\n",
       "        text-align: right;\n",
       "    }\n",
       "</style>\n",
       "<table border=\"1\" class=\"dataframe\">\n",
       "  <thead>\n",
       "    <tr style=\"text-align: right;\">\n",
       "      <th></th>\n",
       "      <th>Speed</th>\n",
       "      <th>Direction</th>\n",
       "      <th>Cos(dir)</th>\n",
       "      <th>Sen(dir)</th>\n",
       "      <th>Lat</th>\n",
       "      <th>Lon</th>\n",
       "    </tr>\n",
       "  </thead>\n",
       "  <tbody>\n",
       "    <tr>\n",
       "      <th>count</th>\n",
       "      <td>469376.000000</td>\n",
       "      <td>469376.000000</td>\n",
       "      <td>469376.000000</td>\n",
       "      <td>469376.000000</td>\n",
       "      <td>469376.000000</td>\n",
       "      <td>469376.000000</td>\n",
       "    </tr>\n",
       "    <tr>\n",
       "      <th>mean</th>\n",
       "      <td>9.196745</td>\n",
       "      <td>194.110565</td>\n",
       "      <td>-0.245499</td>\n",
       "      <td>-0.080610</td>\n",
       "      <td>40.308575</td>\n",
       "      <td>-70.539680</td>\n",
       "    </tr>\n",
       "    <tr>\n",
       "      <th>std</th>\n",
       "      <td>3.284831</td>\n",
       "      <td>94.987091</td>\n",
       "      <td>0.821271</td>\n",
       "      <td>0.508605</td>\n",
       "      <td>1.639136</td>\n",
       "      <td>2.449620</td>\n",
       "    </tr>\n",
       "    <tr>\n",
       "      <th>min</th>\n",
       "      <td>0.003102</td>\n",
       "      <td>0.000000</td>\n",
       "      <td>-1.000000</td>\n",
       "      <td>-0.999998</td>\n",
       "      <td>35.735710</td>\n",
       "      <td>-75.330620</td>\n",
       "    </tr>\n",
       "    <tr>\n",
       "      <th>25%</th>\n",
       "      <td>7.105077</td>\n",
       "      <td>147.502384</td>\n",
       "      <td>-0.939774</td>\n",
       "      <td>-0.452039</td>\n",
       "      <td>39.627407</td>\n",
       "      <td>-72.506784</td>\n",
       "    </tr>\n",
       "    <tr>\n",
       "      <th>50%</th>\n",
       "      <td>8.899047</td>\n",
       "      <td>193.185150</td>\n",
       "      <td>-0.769499</td>\n",
       "      <td>-0.144915</td>\n",
       "      <td>40.706781</td>\n",
       "      <td>-70.887772</td>\n",
       "    </tr>\n",
       "    <tr>\n",
       "      <th>75%</th>\n",
       "      <td>11.689569</td>\n",
       "      <td>234.302559</td>\n",
       "      <td>0.715308</td>\n",
       "      <td>0.341952</td>\n",
       "      <td>41.421494</td>\n",
       "      <td>-68.396656</td>\n",
       "    </tr>\n",
       "    <tr>\n",
       "      <th>max</th>\n",
       "      <td>28.343872</td>\n",
       "      <td>359.999878</td>\n",
       "      <td>1.000000</td>\n",
       "      <td>0.999999</td>\n",
       "      <td>43.123699</td>\n",
       "      <td>-65.590340</td>\n",
       "    </tr>\n",
       "  </tbody>\n",
       "</table>\n",
       "</div>"
      ],
      "text/plain": [
       "               Speed      Direction       Cos(dir)       Sen(dir)  \\\n",
       "count  469376.000000  469376.000000  469376.000000  469376.000000   \n",
       "mean        9.196745     194.110565      -0.245499      -0.080610   \n",
       "std         3.284831      94.987091       0.821271       0.508605   \n",
       "min         0.003102       0.000000      -1.000000      -0.999998   \n",
       "25%         7.105077     147.502384      -0.939774      -0.452039   \n",
       "50%         8.899047     193.185150      -0.769499      -0.144915   \n",
       "75%        11.689569     234.302559       0.715308       0.341952   \n",
       "max        28.343872     359.999878       1.000000       0.999999   \n",
       "\n",
       "                 Lat            Lon  \n",
       "count  469376.000000  469376.000000  \n",
       "mean       40.308575     -70.539680  \n",
       "std         1.639136       2.449620  \n",
       "min        35.735710     -75.330620  \n",
       "25%        39.627407     -72.506784  \n",
       "50%        40.706781     -70.887772  \n",
       "75%        41.421494     -68.396656  \n",
       "max        43.123699     -65.590340  "
      ]
     },
     "execution_count": 12,
     "metadata": {},
     "output_type": "execute_result"
    }
   ],
   "source": [
    "df.describe()"
   ]
  },
  {
   "cell_type": "code",
   "execution_count": null,
   "id": "222614e9-cab0-4a19-8b74-fb15200b4439",
   "metadata": {},
   "outputs": [],
   "source": []
  }
 ],
 "metadata": {
  "kernelspec": {
   "display_name": "OffshoreWind",
   "language": "python",
   "name": "cris_env"
  },
  "language_info": {
   "codemirror_mode": {
    "name": "ipython",
    "version": 3
   },
   "file_extension": ".py",
   "mimetype": "text/x-python",
   "name": "python",
   "nbconvert_exporter": "python",
   "pygments_lexer": "ipython3",
   "version": "3.12.7"
  }
 },
 "nbformat": 4,
 "nbformat_minor": 5
}
