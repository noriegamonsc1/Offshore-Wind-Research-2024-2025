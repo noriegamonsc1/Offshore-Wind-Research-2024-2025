{
 "cells": [
  {
   "cell_type": "code",
   "execution_count": 31,
   "id": "852ca33b-e619-44d5-b225-1593ad77ede8",
   "metadata": {},
   "outputs": [],
   "source": [
    "### import sys\n",
    "import os\n",
    "import numpy as np\n",
    "import pandas as pd\n",
    "\n",
    "sys.path.append(os.path.abspath('../..'))\n",
    "\n",
    "from offshore_wind_nj.config import INTERIM_DATA_DIR, ERA5_DATA_DIR, BUOY_DATA_DIR\n",
    "import matplotlib.pyplot as plt\n",
    "from pyproj import Proj, Transformer"
   ]
  },
  {
   "cell_type": "code",
   "execution_count": 2,
   "id": "650f30ae-e0a2-4966-8869-415ddb535eaa",
   "metadata": {},
   "outputs": [
    {
     "data": {
      "text/plain": [
       "['44025h2023.txt', '44025h2023.txt.gz', '44065h2023.txt', '44065h2023.txt.gz']"
      ]
     },
     "execution_count": 2,
     "metadata": {},
     "output_type": "execute_result"
    }
   ],
   "source": [
    "os.listdir(BUOY_DATA_DIR)"
   ]
  },
  {
   "cell_type": "markdown",
   "id": "7c3494ab-5b7f-4848-aeaf-9dffeafec982",
   "metadata": {},
   "source": [
    "# Buoys path"
   ]
  },
  {
   "cell_type": "code",
   "execution_count": 3,
   "id": "231d4478-510d-41d2-bb1f-7f8f00c3f79e",
   "metadata": {},
   "outputs": [],
   "source": [
    "buoy_44025_path = os.path.join(BUOY_DATA_DIR, '44025h2023.txt')\n",
    "buoy_44065_path = os.path.join(BUOY_DATA_DIR, '44065h2023.txt')"
   ]
  },
  {
   "cell_type": "markdown",
   "id": "188e2f7b-44cc-4b62-bcdf-99ada0b88c36",
   "metadata": {},
   "source": [
    "## Function to read Buoy files"
   ]
  },
  {
   "cell_type": "code",
   "execution_count": 11,
   "id": "0c1a9e15-0ce7-4bff-b788-1767f7b5ace4",
   "metadata": {},
   "outputs": [],
   "source": [
    "def read_buoy_data(file_path):\n",
    "    \"\"\"\n",
    "    Reads a buoy data file, extracts headers and units, and returns a DataFrame \n",
    "    with formatted column names.\n",
    "    \n",
    "    Parameters:\n",
    "        file_path (str): Path to the buoy data file.\n",
    "    \n",
    "    Returns:\n",
    "        pd.DataFrame: Processed buoy data with column names including units.\n",
    "    \"\"\"\n",
    "    # Read header and units\n",
    "    header = pd.read_csv(file_path, sep=r\"\\s+\", nrows=1)\n",
    "    units = pd.read_csv(file_path, sep=r\"\\s+\", skiprows=0, nrows=1)\n",
    "    \n",
    "    # Create new column names with units\n",
    "    new_columns = [f\"{col} ({unit})\" for col, unit in zip(header.columns, units.iloc[0])]\n",
    "    \n",
    "    # Read the main data with updated column names\n",
    "    data = pd.read_csv(file_path, sep=r\"\\s+\", skiprows=2, names=new_columns)\n",
    "    \n",
    "    return data"
   ]
  },
  {
   "cell_type": "markdown",
   "id": "54ae3fe7-c9ce-48fc-9a29-5e1d3a642a0c",
   "metadata": {},
   "source": [
    "# Load the datasets"
   ]
  },
  {
   "cell_type": "code",
   "execution_count": 16,
   "id": "639ae6ed-0f3d-4eb7-9d24-e9d8989f4fad",
   "metadata": {},
   "outputs": [],
   "source": [
    "buoy_44025 = read_buoy_data(buoy_44025_path)\n",
    "buoy_44065 = read_buoy_data(buoy_44065_path)"
   ]
  },
  {
   "cell_type": "markdown",
   "id": "1f5b365a-166b-4ecc-940b-12d9782bd338",
   "metadata": {},
   "source": [
    "# Data matching"
   ]
  },
  {
   "cell_type": "code",
   "execution_count": 30,
   "id": "30ba9d8e-67ae-4335-bff5-cfe768593c03",
   "metadata": {},
   "outputs": [
    {
     "data": {
      "text/html": [
       "<div>\n",
       "<style scoped>\n",
       "    .dataframe tbody tr th:only-of-type {\n",
       "        vertical-align: middle;\n",
       "    }\n",
       "\n",
       "    .dataframe tbody tr th {\n",
       "        vertical-align: top;\n",
       "    }\n",
       "\n",
       "    .dataframe thead th {\n",
       "        text-align: right;\n",
       "    }\n",
       "</style>\n",
       "<table border=\"1\" class=\"dataframe\">\n",
       "  <thead>\n",
       "    <tr style=\"text-align: right;\">\n",
       "      <th></th>\n",
       "      <th>#YY (#yr)</th>\n",
       "      <th>MM (mo)</th>\n",
       "      <th>DD (dy)</th>\n",
       "      <th>hh (hr)</th>\n",
       "      <th>mm (mn)</th>\n",
       "      <th>WDIR (degT)</th>\n",
       "      <th>WSPD (m/s)</th>\n",
       "      <th>GST (m/s)</th>\n",
       "      <th>WVHT (m)</th>\n",
       "      <th>DPD (sec)</th>\n",
       "      <th>APD (sec)</th>\n",
       "      <th>MWD (degT)</th>\n",
       "      <th>PRES (hPa)</th>\n",
       "      <th>ATMP (degC)</th>\n",
       "      <th>WTMP (degC)</th>\n",
       "      <th>DEWP (degC)</th>\n",
       "      <th>VIS (mi)</th>\n",
       "      <th>TIDE (ft)</th>\n",
       "    </tr>\n",
       "  </thead>\n",
       "  <tbody>\n",
       "    <tr>\n",
       "      <th>23952</th>\n",
       "      <td>2023</td>\n",
       "      <td>6</td>\n",
       "      <td>16</td>\n",
       "      <td>11</td>\n",
       "      <td>0</td>\n",
       "      <td>999</td>\n",
       "      <td>2.2</td>\n",
       "      <td>2.7</td>\n",
       "      <td>99.00</td>\n",
       "      <td>99.00</td>\n",
       "      <td>99.00</td>\n",
       "      <td>999</td>\n",
       "      <td>1005.9</td>\n",
       "      <td>999.0</td>\n",
       "      <td>18.5</td>\n",
       "      <td>999.0</td>\n",
       "      <td>99.0</td>\n",
       "      <td>99.0</td>\n",
       "    </tr>\n",
       "    <tr>\n",
       "      <th>23953</th>\n",
       "      <td>2023</td>\n",
       "      <td>6</td>\n",
       "      <td>16</td>\n",
       "      <td>11</td>\n",
       "      <td>10</td>\n",
       "      <td>999</td>\n",
       "      <td>2.1</td>\n",
       "      <td>2.7</td>\n",
       "      <td>0.64</td>\n",
       "      <td>7.14</td>\n",
       "      <td>4.95</td>\n",
       "      <td>158</td>\n",
       "      <td>1005.9</td>\n",
       "      <td>999.0</td>\n",
       "      <td>18.5</td>\n",
       "      <td>999.0</td>\n",
       "      <td>99.0</td>\n",
       "      <td>99.0</td>\n",
       "    </tr>\n",
       "    <tr>\n",
       "      <th>23954</th>\n",
       "      <td>2023</td>\n",
       "      <td>6</td>\n",
       "      <td>16</td>\n",
       "      <td>11</td>\n",
       "      <td>20</td>\n",
       "      <td>999</td>\n",
       "      <td>2.1</td>\n",
       "      <td>2.7</td>\n",
       "      <td>99.00</td>\n",
       "      <td>99.00</td>\n",
       "      <td>99.00</td>\n",
       "      <td>999</td>\n",
       "      <td>1005.9</td>\n",
       "      <td>999.0</td>\n",
       "      <td>18.5</td>\n",
       "      <td>999.0</td>\n",
       "      <td>99.0</td>\n",
       "      <td>99.0</td>\n",
       "    </tr>\n",
       "    <tr>\n",
       "      <th>23955</th>\n",
       "      <td>2023</td>\n",
       "      <td>6</td>\n",
       "      <td>16</td>\n",
       "      <td>11</td>\n",
       "      <td>30</td>\n",
       "      <td>999</td>\n",
       "      <td>3.1</td>\n",
       "      <td>4.5</td>\n",
       "      <td>99.00</td>\n",
       "      <td>99.00</td>\n",
       "      <td>99.00</td>\n",
       "      <td>999</td>\n",
       "      <td>1006.2</td>\n",
       "      <td>999.0</td>\n",
       "      <td>18.5</td>\n",
       "      <td>999.0</td>\n",
       "      <td>99.0</td>\n",
       "      <td>99.0</td>\n",
       "    </tr>\n",
       "    <tr>\n",
       "      <th>23956</th>\n",
       "      <td>2023</td>\n",
       "      <td>6</td>\n",
       "      <td>16</td>\n",
       "      <td>11</td>\n",
       "      <td>40</td>\n",
       "      <td>999</td>\n",
       "      <td>4.0</td>\n",
       "      <td>5.3</td>\n",
       "      <td>0.59</td>\n",
       "      <td>6.67</td>\n",
       "      <td>4.79</td>\n",
       "      <td>171</td>\n",
       "      <td>1006.1</td>\n",
       "      <td>999.0</td>\n",
       "      <td>18.5</td>\n",
       "      <td>999.0</td>\n",
       "      <td>99.0</td>\n",
       "      <td>99.0</td>\n",
       "    </tr>\n",
       "    <tr>\n",
       "      <th>23957</th>\n",
       "      <td>2023</td>\n",
       "      <td>6</td>\n",
       "      <td>16</td>\n",
       "      <td>11</td>\n",
       "      <td>50</td>\n",
       "      <td>999</td>\n",
       "      <td>4.3</td>\n",
       "      <td>5.3</td>\n",
       "      <td>99.00</td>\n",
       "      <td>99.00</td>\n",
       "      <td>99.00</td>\n",
       "      <td>999</td>\n",
       "      <td>1006.3</td>\n",
       "      <td>999.0</td>\n",
       "      <td>18.5</td>\n",
       "      <td>999.0</td>\n",
       "      <td>99.0</td>\n",
       "      <td>99.0</td>\n",
       "    </tr>\n",
       "  </tbody>\n",
       "</table>\n",
       "</div>"
      ],
      "text/plain": [
       "       #YY (#yr)  MM (mo)  DD (dy)  hh (hr)  mm (mn)  WDIR (degT)  WSPD (m/s)  \\\n",
       "23952       2023        6       16       11        0          999         2.2   \n",
       "23953       2023        6       16       11       10          999         2.1   \n",
       "23954       2023        6       16       11       20          999         2.1   \n",
       "23955       2023        6       16       11       30          999         3.1   \n",
       "23956       2023        6       16       11       40          999         4.0   \n",
       "23957       2023        6       16       11       50          999         4.3   \n",
       "\n",
       "       GST (m/s)  WVHT (m)  DPD (sec)  APD (sec)  MWD (degT)  PRES (hPa)  \\\n",
       "23952        2.7     99.00      99.00      99.00         999      1005.9   \n",
       "23953        2.7      0.64       7.14       4.95         158      1005.9   \n",
       "23954        2.7     99.00      99.00      99.00         999      1005.9   \n",
       "23955        4.5     99.00      99.00      99.00         999      1006.2   \n",
       "23956        5.3      0.59       6.67       4.79         171      1006.1   \n",
       "23957        5.3     99.00      99.00      99.00         999      1006.3   \n",
       "\n",
       "       ATMP (degC)  WTMP (degC)  DEWP (degC)  VIS (mi)  TIDE (ft)  \n",
       "23952        999.0         18.5        999.0      99.0       99.0  \n",
       "23953        999.0         18.5        999.0      99.0       99.0  \n",
       "23954        999.0         18.5        999.0      99.0       99.0  \n",
       "23955        999.0         18.5        999.0      99.0       99.0  \n",
       "23956        999.0         18.5        999.0      99.0       99.0  \n",
       "23957        999.0         18.5        999.0      99.0       99.0  "
      ]
     },
     "execution_count": 30,
     "metadata": {},
     "output_type": "execute_result"
    }
   ],
   "source": [
    "'2023-06-16T11:00:00'\n",
    "buoy_44065[(buoy_44065['MM (mo)']==6) & (buoy_44065['DD (dy)']==16) & (buoy_44065['hh (hr)']==11)]"
   ]
  },
  {
   "cell_type": "code",
   "execution_count": 29,
   "id": "bb70f421-a4ad-4e12-b0a9-89d215911145",
   "metadata": {},
   "outputs": [
    {
     "data": {
      "text/plain": [
       "array([194, 198, 207, 206, 203, 197, 195, 192, 191, 193, 190, 196, 201,\n",
       "       202, 200, 214, 182, 181, 220, 241, 232, 223, 219, 229, 228, 235,\n",
       "       224, 237, 247, 251, 252, 255, 256, 253, 254, 257, 258, 259, 261,\n",
       "       249, 246, 226, 230, 242, 248, 243, 245, 250, 265, 266, 273, 280,\n",
       "       283, 282, 279, 272, 262, 268, 274, 281, 284, 289, 292, 291, 297,\n",
       "       299, 294, 288, 304, 317, 310, 270, 263, 260, 276, 239, 238, 234,\n",
       "       236, 233, 269, 301, 221, 227, 231, 212, 225, 264, 267, 240, 216,\n",
       "       218, 205, 199, 204, 209, 210, 208, 188, 148, 152, 140, 138, 146,\n",
       "       172, 173, 165, 158, 161, 168, 166, 163, 164, 149, 151, 154, 156,\n",
       "       159, 155, 143, 144, 153, 141, 127, 132, 134, 145, 169, 162, 167,\n",
       "       176, 178, 177, 184, 186, 175, 189, 213, 217, 271, 179, 174, 185,\n",
       "       187, 139, 133, 157, 160, 180, 171, 147, 150, 103,  72, 222, 275,\n",
       "       306, 330, 346,  32,  27, 359, 355, 356, 333, 318, 315, 348, 357,\n",
       "        43,  49,  30,  36,  50,  52,  53,  51,  42,  55,  59,  58,  65,\n",
       "        70,  69,  60,  56,  46,  40,  39,  45,  54,  61,  57,  63,  67,\n",
       "        71,  74,  75,  82,  88,  86,  80,  78,  73,  68,  79,  94, 100,\n",
       "        77,  97,  92,  91,  90,  98,  95,  76,  66,  83,  35,  34,  25,\n",
       "        47,  48,  62,  81,  84,  41,  14,  10,  18,  19,   9,  26,  17,\n",
       "       354,   5, 337,  38, 142, 277, 286, 285, 293, 290, 295, 298, 296,\n",
       "       278, 287, 307, 302, 300, 305, 303, 311, 312, 313, 314, 326, 321,\n",
       "       323, 324, 322, 325, 320, 319, 327, 332, 338, 343, 339, 336, 347,\n",
       "         7,   3,   6,   1, 358,   2, 352, 345, 353, 335, 342, 334, 215,\n",
       "       211, 308, 340,   4, 350, 351,   8,  13,  16,  20,  44,  33,  23,\n",
       "        22,  24,  29,  37,  64,  89,  85,  96,  87, 114, 111, 110, 109,\n",
       "       102, 101,  93, 105, 107, 119, 131, 118, 108, 112, 113, 116, 115,\n",
       "       117, 120, 123, 121, 122, 124, 128, 135, 137, 183, 309, 328, 341,\n",
       "       344, 331, 329, 349, 244, 316, 104,  99, 106, 129,  28,  15,  11,\n",
       "       360, 125, 170,  31,  12,  21, 999, 126, 130, 136])"
      ]
     },
     "execution_count": 29,
     "metadata": {},
     "output_type": "execute_result"
    }
   ],
   "source": [
    "buoy_44065['WDIR (degT)'].unique()"
   ]
  },
  {
   "cell_type": "code",
   "execution_count": null,
   "id": "bfe4df93-70be-4bb5-89cc-5aee0b0398bd",
   "metadata": {},
   "outputs": [],
   "source": []
  }
 ],
 "metadata": {
  "kernelspec": {
   "display_name": "Python (cris_env)",
   "language": "python",
   "name": "cris_env"
  },
  "language_info": {
   "codemirror_mode": {
    "name": "ipython",
    "version": 3
   },
   "file_extension": ".py",
   "mimetype": "text/x-python",
   "name": "python",
   "nbconvert_exporter": "python",
   "pygments_lexer": "ipython3",
   "version": "3.12.2"
  },
  "toc-autonumbering": true
 },
 "nbformat": 4,
 "nbformat_minor": 5
}
