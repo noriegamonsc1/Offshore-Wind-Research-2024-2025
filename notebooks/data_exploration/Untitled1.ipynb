{
 "cells": [
  {
   "cell_type": "code",
   "execution_count": 1,
   "id": "c0acd7a4-562e-4050-953e-443ef6cc23bd",
   "metadata": {},
   "outputs": [
    {
     "name": "stderr",
     "output_type": "stream",
     "text": [
      "\u001b[32m2024-11-03 21:16:01.514\u001b[0m | \u001b[1mINFO    \u001b[0m | \u001b[36moffshore_wind_nj.config\u001b[0m:\u001b[36m<module>\u001b[0m:\u001b[36m11\u001b[0m - \u001b[1mPROJ_ROOT path is: /nfs/storage1/home/noriegac/Documents/Offshore Wind Research\u001b[0m\n"
     ]
    },
    {
     "name": "stdout",
     "output_type": "stream",
     "text": [
      "There are 5766 files\n"
     ]
    }
   ],
   "source": [
    "import sys\n",
    "import os\n",
    "import numpy as np\n",
    "\n",
    "sys.path.append(os.path.abspath('../..'))\n",
    "\n",
    "\n",
    "from offshore_wind_nj.data_loader import data_files, load_data, all_arrays, extract_datetime_from_filename, removed_files, load_single_data\n",
    "from offshore_wind_nj.sar_wind_plot import plot_wind_field, plot_wind_field_by_arrays\n",
    "from offshore_wind_nj.data_cleaning import fill_zeros, find_zeros\n",
    "import offshore_wind_nj.data_processing as data_processing"
   ]
  },
  {
   "cell_type": "code",
   "execution_count": 2,
   "id": "559e99a4-3043-450b-91cf-f01938ff4dc5",
   "metadata": {},
   "outputs": [],
   "source": [
    "from sklearn.model_selection import train_test_split"
   ]
  },
  {
   "cell_type": "code",
   "execution_count": 1,
   "id": "3136c5ec-91a5-4742-8847-2e851795ae53",
   "metadata": {},
   "outputs": [],
   "source": [
    "import torch"
   ]
  },
  {
   "cell_type": "code",
   "execution_count": null,
   "id": "1cd6416d-9705-4ded-b28e-2705393220b8",
   "metadata": {},
   "outputs": [],
   "source": []
  }
 ],
 "metadata": {
  "kernelspec": {
   "display_name": "Python (cris_env)",
   "language": "python",
   "name": "cris_env"
  },
  "language_info": {
   "codemirror_mode": {
    "name": "ipython",
    "version": 3
   },
   "file_extension": ".py",
   "mimetype": "text/x-python",
   "name": "python",
   "nbconvert_exporter": "python",
   "pygments_lexer": "ipython3",
   "version": "3.12.7"
  }
 },
 "nbformat": 4,
 "nbformat_minor": 5
}
