{
 "cells": [
  {
   "cell_type": "code",
   "execution_count": 61,
   "id": "82b5bbb2-0296-45ab-aefc-a3dfa05ba5a2",
   "metadata": {},
   "outputs": [],
   "source": [
    "import sys\n",
    "import os\n",
    "import numpy as np\n",
    "\n",
    "sys.path.append(os.path.abspath('../..'))\n",
    "\n",
    "from offshore_wind_nj.config import INTERIM_DATA_DIR, ERA5_DATA_DIR\n",
    "import matplotlib.pyplot as plt\n",
    "from pyproj import Proj, Transformer\n",
    "\n",
    "# import pygrib\n",
    "\n",
    "import xarray as xr\n",
    "from scipy.spatial import cKDTree\n",
    "import torch"
   ]
  },
  {
   "cell_type": "code",
   "execution_count": 2,
   "id": "5eb071fa-81b7-4a60-a7d9-90b8eff9c038",
   "metadata": {},
   "outputs": [
    {
     "name": "stdout",
     "output_type": "stream",
     "text": [
      "{'netcdf4': <NetCDF4BackendEntrypoint>\n",
      "  Open netCDF (.nc, .nc4 and .cdf) and most HDF5 files using netCDF4 in Xarray\n",
      "  Learn more at https://docs.xarray.dev/en/stable/generated/xarray.backends.NetCDF4BackendEntrypoint.html, 'scipy': <ScipyBackendEntrypoint>\n",
      "  Open netCDF files (.nc, .nc4, .cdf and .gz) using scipy in Xarray\n",
      "  Learn more at https://docs.xarray.dev/en/stable/generated/xarray.backends.ScipyBackendEntrypoint.html, 'cfgrib': <CfGribBackend>\n",
      "  Open GRIB files (.grib, .grib2, .grb and .grb2) in Xarray\n",
      "  Learn more at https://github.com/ecmwf/cfgrib, 'store': <StoreBackendEntrypoint>\n",
      "  Open AbstractDataStore instances in Xarray\n",
      "  Learn more at https://docs.xarray.dev/en/stable/generated/xarray.backends.StoreBackendEntrypoint.html}\n"
     ]
    },
    {
     "name": "stderr",
     "output_type": "stream",
     "text": [
      "/home/noriegac/.conda/envs/cris_env/lib/python3.12/site-packages/gribapi/__init__.py:23: UserWarning: ecCodes 2.31.0 or higher is recommended. You are running version 2.26.0\n",
      "  warnings.warn(\n"
     ]
    }
   ],
   "source": [
    "print(xr.backends.plugins.list_engines())\n"
   ]
  },
  {
   "cell_type": "markdown",
   "id": "98f690f6-d9b5-4015-b3f2-7449bc080ef0",
   "metadata": {},
   "source": [
    "# Load the ERA5 Reanalysis dataset"
   ]
  },
  {
   "cell_type": "code",
   "execution_count": 3,
   "id": "0e780ad4-9869-4cb7-8dbb-05b0f03aaee5",
   "metadata": {},
   "outputs": [],
   "source": [
    "era_path = os.path.join(ERA5_DATA_DIR, 'ERA5_2023_TO_2024.grib')"
   ]
  },
  {
   "cell_type": "code",
   "execution_count": 4,
   "id": "5af0f4c8-89a9-49f3-ac1d-7f03d02b36f8",
   "metadata": {},
   "outputs": [
    {
     "name": "stderr",
     "output_type": "stream",
     "text": [
      "/home/noriegac/.conda/envs/cris_env/lib/python3.12/site-packages/cfgrib/xarray_plugin.py:131: FutureWarning: In a future version of xarray decode_timedelta will default to False rather than None. To silence this warning, set decode_timedelta to True, False, or a 'CFTimedeltaCoder' instance.\n",
      "  vars, attrs, coord_names = xr.conventions.decode_cf_variables(\n"
     ]
    }
   ],
   "source": [
    "era5_ds = xr.open_dataset(era_path, engine='cfgrib')"
   ]
  },
  {
   "cell_type": "markdown",
   "id": "ddafabf6-52a0-4871-9edf-0b5a40adba10",
   "metadata": {
    "jp-MarkdownHeadingCollapsed": true,
    "tags": []
   },
   "source": [
    "## Inspect ERA5 Reanalysis dataset"
   ]
  },
  {
   "cell_type": "code",
   "execution_count": 8,
   "id": "4b4d6a7d-8829-4a6c-9a17-bbc674111294",
   "metadata": {},
   "outputs": [
    {
     "data": {
      "text/html": [
       "<div><svg style=\"position: absolute; width: 0; height: 0; overflow: hidden\">\n",
       "<defs>\n",
       "<symbol id=\"icon-database\" viewBox=\"0 0 32 32\">\n",
       "<path d=\"M16 0c-8.837 0-16 2.239-16 5v4c0 2.761 7.163 5 16 5s16-2.239 16-5v-4c0-2.761-7.163-5-16-5z\"></path>\n",
       "<path d=\"M16 17c-8.837 0-16-2.239-16-5v6c0 2.761 7.163 5 16 5s16-2.239 16-5v-6c0 2.761-7.163 5-16 5z\"></path>\n",
       "<path d=\"M16 26c-8.837 0-16-2.239-16-5v6c0 2.761 7.163 5 16 5s16-2.239 16-5v-6c0 2.761-7.163 5-16 5z\"></path>\n",
       "</symbol>\n",
       "<symbol id=\"icon-file-text2\" viewBox=\"0 0 32 32\">\n",
       "<path d=\"M28.681 7.159c-0.694-0.947-1.662-2.053-2.724-3.116s-2.169-2.030-3.116-2.724c-1.612-1.182-2.393-1.319-2.841-1.319h-15.5c-1.378 0-2.5 1.121-2.5 2.5v27c0 1.378 1.122 2.5 2.5 2.5h23c1.378 0 2.5-1.122 2.5-2.5v-19.5c0-0.448-0.137-1.23-1.319-2.841zM24.543 5.457c0.959 0.959 1.712 1.825 2.268 2.543h-4.811v-4.811c0.718 0.556 1.584 1.309 2.543 2.268zM28 29.5c0 0.271-0.229 0.5-0.5 0.5h-23c-0.271 0-0.5-0.229-0.5-0.5v-27c0-0.271 0.229-0.5 0.5-0.5 0 0 15.499-0 15.5 0v7c0 0.552 0.448 1 1 1h7v19.5z\"></path>\n",
       "<path d=\"M23 26h-14c-0.552 0-1-0.448-1-1s0.448-1 1-1h14c0.552 0 1 0.448 1 1s-0.448 1-1 1z\"></path>\n",
       "<path d=\"M23 22h-14c-0.552 0-1-0.448-1-1s0.448-1 1-1h14c0.552 0 1 0.448 1 1s-0.448 1-1 1z\"></path>\n",
       "<path d=\"M23 18h-14c-0.552 0-1-0.448-1-1s0.448-1 1-1h14c0.552 0 1 0.448 1 1s-0.448 1-1 1z\"></path>\n",
       "</symbol>\n",
       "</defs>\n",
       "</svg>\n",
       "<style>/* CSS stylesheet for displaying xarray objects in jupyterlab.\n",
       " *\n",
       " */\n",
       "\n",
       ":root {\n",
       "  --xr-font-color0: var(--jp-content-font-color0, rgba(0, 0, 0, 1));\n",
       "  --xr-font-color2: var(--jp-content-font-color2, rgba(0, 0, 0, 0.54));\n",
       "  --xr-font-color3: var(--jp-content-font-color3, rgba(0, 0, 0, 0.38));\n",
       "  --xr-border-color: var(--jp-border-color2, #e0e0e0);\n",
       "  --xr-disabled-color: var(--jp-layout-color3, #bdbdbd);\n",
       "  --xr-background-color: var(--jp-layout-color0, white);\n",
       "  --xr-background-color-row-even: var(--jp-layout-color1, white);\n",
       "  --xr-background-color-row-odd: var(--jp-layout-color2, #eeeeee);\n",
       "}\n",
       "\n",
       "html[theme=\"dark\"],\n",
       "html[data-theme=\"dark\"],\n",
       "body[data-theme=\"dark\"],\n",
       "body.vscode-dark {\n",
       "  --xr-font-color0: rgba(255, 255, 255, 1);\n",
       "  --xr-font-color2: rgba(255, 255, 255, 0.54);\n",
       "  --xr-font-color3: rgba(255, 255, 255, 0.38);\n",
       "  --xr-border-color: #1f1f1f;\n",
       "  --xr-disabled-color: #515151;\n",
       "  --xr-background-color: #111111;\n",
       "  --xr-background-color-row-even: #111111;\n",
       "  --xr-background-color-row-odd: #313131;\n",
       "}\n",
       "\n",
       ".xr-wrap {\n",
       "  display: block !important;\n",
       "  min-width: 300px;\n",
       "  max-width: 700px;\n",
       "}\n",
       "\n",
       ".xr-text-repr-fallback {\n",
       "  /* fallback to plain text repr when CSS is not injected (untrusted notebook) */\n",
       "  display: none;\n",
       "}\n",
       "\n",
       ".xr-header {\n",
       "  padding-top: 6px;\n",
       "  padding-bottom: 6px;\n",
       "  margin-bottom: 4px;\n",
       "  border-bottom: solid 1px var(--xr-border-color);\n",
       "}\n",
       "\n",
       ".xr-header > div,\n",
       ".xr-header > ul {\n",
       "  display: inline;\n",
       "  margin-top: 0;\n",
       "  margin-bottom: 0;\n",
       "}\n",
       "\n",
       ".xr-obj-type,\n",
       ".xr-array-name {\n",
       "  margin-left: 2px;\n",
       "  margin-right: 10px;\n",
       "}\n",
       "\n",
       ".xr-obj-type {\n",
       "  color: var(--xr-font-color2);\n",
       "}\n",
       "\n",
       ".xr-sections {\n",
       "  padding-left: 0 !important;\n",
       "  display: grid;\n",
       "  grid-template-columns: 150px auto auto 1fr 0 20px 0 20px;\n",
       "}\n",
       "\n",
       ".xr-section-item {\n",
       "  display: contents;\n",
       "}\n",
       "\n",
       ".xr-section-item input {\n",
       "  display: inline-block;\n",
       "  opacity: 0;\n",
       "  height: 0;\n",
       "}\n",
       "\n",
       ".xr-section-item input + label {\n",
       "  color: var(--xr-disabled-color);\n",
       "}\n",
       "\n",
       ".xr-section-item input:enabled + label {\n",
       "  cursor: pointer;\n",
       "  color: var(--xr-font-color2);\n",
       "}\n",
       "\n",
       ".xr-section-item input:focus + label {\n",
       "  border: 2px solid var(--xr-font-color0);\n",
       "}\n",
       "\n",
       ".xr-section-item input:enabled + label:hover {\n",
       "  color: var(--xr-font-color0);\n",
       "}\n",
       "\n",
       ".xr-section-summary {\n",
       "  grid-column: 1;\n",
       "  color: var(--xr-font-color2);\n",
       "  font-weight: 500;\n",
       "}\n",
       "\n",
       ".xr-section-summary > span {\n",
       "  display: inline-block;\n",
       "  padding-left: 0.5em;\n",
       "}\n",
       "\n",
       ".xr-section-summary-in:disabled + label {\n",
       "  color: var(--xr-font-color2);\n",
       "}\n",
       "\n",
       ".xr-section-summary-in + label:before {\n",
       "  display: inline-block;\n",
       "  content: \"►\";\n",
       "  font-size: 11px;\n",
       "  width: 15px;\n",
       "  text-align: center;\n",
       "}\n",
       "\n",
       ".xr-section-summary-in:disabled + label:before {\n",
       "  color: var(--xr-disabled-color);\n",
       "}\n",
       "\n",
       ".xr-section-summary-in:checked + label:before {\n",
       "  content: \"▼\";\n",
       "}\n",
       "\n",
       ".xr-section-summary-in:checked + label > span {\n",
       "  display: none;\n",
       "}\n",
       "\n",
       ".xr-section-summary,\n",
       ".xr-section-inline-details {\n",
       "  padding-top: 4px;\n",
       "  padding-bottom: 4px;\n",
       "}\n",
       "\n",
       ".xr-section-inline-details {\n",
       "  grid-column: 2 / -1;\n",
       "}\n",
       "\n",
       ".xr-section-details {\n",
       "  display: none;\n",
       "  grid-column: 1 / -1;\n",
       "  margin-bottom: 5px;\n",
       "}\n",
       "\n",
       ".xr-section-summary-in:checked ~ .xr-section-details {\n",
       "  display: contents;\n",
       "}\n",
       "\n",
       ".xr-array-wrap {\n",
       "  grid-column: 1 / -1;\n",
       "  display: grid;\n",
       "  grid-template-columns: 20px auto;\n",
       "}\n",
       "\n",
       ".xr-array-wrap > label {\n",
       "  grid-column: 1;\n",
       "  vertical-align: top;\n",
       "}\n",
       "\n",
       ".xr-preview {\n",
       "  color: var(--xr-font-color3);\n",
       "}\n",
       "\n",
       ".xr-array-preview,\n",
       ".xr-array-data {\n",
       "  padding: 0 5px !important;\n",
       "  grid-column: 2;\n",
       "}\n",
       "\n",
       ".xr-array-data,\n",
       ".xr-array-in:checked ~ .xr-array-preview {\n",
       "  display: none;\n",
       "}\n",
       "\n",
       ".xr-array-in:checked ~ .xr-array-data,\n",
       ".xr-array-preview {\n",
       "  display: inline-block;\n",
       "}\n",
       "\n",
       ".xr-dim-list {\n",
       "  display: inline-block !important;\n",
       "  list-style: none;\n",
       "  padding: 0 !important;\n",
       "  margin: 0;\n",
       "}\n",
       "\n",
       ".xr-dim-list li {\n",
       "  display: inline-block;\n",
       "  padding: 0;\n",
       "  margin: 0;\n",
       "}\n",
       "\n",
       ".xr-dim-list:before {\n",
       "  content: \"(\";\n",
       "}\n",
       "\n",
       ".xr-dim-list:after {\n",
       "  content: \")\";\n",
       "}\n",
       "\n",
       ".xr-dim-list li:not(:last-child):after {\n",
       "  content: \",\";\n",
       "  padding-right: 5px;\n",
       "}\n",
       "\n",
       ".xr-has-index {\n",
       "  font-weight: bold;\n",
       "}\n",
       "\n",
       ".xr-var-list,\n",
       ".xr-var-item {\n",
       "  display: contents;\n",
       "}\n",
       "\n",
       ".xr-var-item > div,\n",
       ".xr-var-item label,\n",
       ".xr-var-item > .xr-var-name span {\n",
       "  background-color: var(--xr-background-color-row-even);\n",
       "  margin-bottom: 0;\n",
       "}\n",
       "\n",
       ".xr-var-item > .xr-var-name:hover span {\n",
       "  padding-right: 5px;\n",
       "}\n",
       "\n",
       ".xr-var-list > li:nth-child(odd) > div,\n",
       ".xr-var-list > li:nth-child(odd) > label,\n",
       ".xr-var-list > li:nth-child(odd) > .xr-var-name span {\n",
       "  background-color: var(--xr-background-color-row-odd);\n",
       "}\n",
       "\n",
       ".xr-var-name {\n",
       "  grid-column: 1;\n",
       "}\n",
       "\n",
       ".xr-var-dims {\n",
       "  grid-column: 2;\n",
       "}\n",
       "\n",
       ".xr-var-dtype {\n",
       "  grid-column: 3;\n",
       "  text-align: right;\n",
       "  color: var(--xr-font-color2);\n",
       "}\n",
       "\n",
       ".xr-var-preview {\n",
       "  grid-column: 4;\n",
       "}\n",
       "\n",
       ".xr-index-preview {\n",
       "  grid-column: 2 / 5;\n",
       "  color: var(--xr-font-color2);\n",
       "}\n",
       "\n",
       ".xr-var-name,\n",
       ".xr-var-dims,\n",
       ".xr-var-dtype,\n",
       ".xr-preview,\n",
       ".xr-attrs dt {\n",
       "  white-space: nowrap;\n",
       "  overflow: hidden;\n",
       "  text-overflow: ellipsis;\n",
       "  padding-right: 10px;\n",
       "}\n",
       "\n",
       ".xr-var-name:hover,\n",
       ".xr-var-dims:hover,\n",
       ".xr-var-dtype:hover,\n",
       ".xr-attrs dt:hover {\n",
       "  overflow: visible;\n",
       "  width: auto;\n",
       "  z-index: 1;\n",
       "}\n",
       "\n",
       ".xr-var-attrs,\n",
       ".xr-var-data,\n",
       ".xr-index-data {\n",
       "  display: none;\n",
       "  background-color: var(--xr-background-color) !important;\n",
       "  padding-bottom: 5px !important;\n",
       "}\n",
       "\n",
       ".xr-var-attrs-in:checked ~ .xr-var-attrs,\n",
       ".xr-var-data-in:checked ~ .xr-var-data,\n",
       ".xr-index-data-in:checked ~ .xr-index-data {\n",
       "  display: block;\n",
       "}\n",
       "\n",
       ".xr-var-data > table {\n",
       "  float: right;\n",
       "}\n",
       "\n",
       ".xr-var-name span,\n",
       ".xr-var-data,\n",
       ".xr-index-name div,\n",
       ".xr-index-data,\n",
       ".xr-attrs {\n",
       "  padding-left: 25px !important;\n",
       "}\n",
       "\n",
       ".xr-attrs,\n",
       ".xr-var-attrs,\n",
       ".xr-var-data,\n",
       ".xr-index-data {\n",
       "  grid-column: 1 / -1;\n",
       "}\n",
       "\n",
       "dl.xr-attrs {\n",
       "  padding: 0;\n",
       "  margin: 0;\n",
       "  display: grid;\n",
       "  grid-template-columns: 125px auto;\n",
       "}\n",
       "\n",
       ".xr-attrs dt,\n",
       ".xr-attrs dd {\n",
       "  padding: 0;\n",
       "  margin: 0;\n",
       "  float: left;\n",
       "  padding-right: 10px;\n",
       "  width: auto;\n",
       "}\n",
       "\n",
       ".xr-attrs dt {\n",
       "  font-weight: normal;\n",
       "  grid-column: 1;\n",
       "}\n",
       "\n",
       ".xr-attrs dt:hover span {\n",
       "  display: inline-block;\n",
       "  background: var(--xr-background-color);\n",
       "  padding-right: 10px;\n",
       "}\n",
       "\n",
       ".xr-attrs dd {\n",
       "  grid-column: 2;\n",
       "  white-space: pre-wrap;\n",
       "  word-break: break-all;\n",
       "}\n",
       "\n",
       ".xr-icon-database,\n",
       ".xr-icon-file-text2,\n",
       ".xr-no-icon {\n",
       "  display: inline-block;\n",
       "  vertical-align: middle;\n",
       "  width: 1em;\n",
       "  height: 1.5em !important;\n",
       "  stroke-width: 0;\n",
       "  stroke: currentColor;\n",
       "  fill: currentColor;\n",
       "}\n",
       "</style><pre class='xr-text-repr-fallback'>&lt;xarray.Dataset&gt; Size: 1GB\n",
       "Dimensions:     (time: 17544, latitude: 45, longitude: 65)\n",
       "Coordinates:\n",
       "    number      int64 8B ...\n",
       "  * time        (time) datetime64[ns] 140kB 2023-01-01 ... 2024-12-31T23:00:00\n",
       "    step        timedelta64[ns] 8B ...\n",
       "    surface     float64 8B ...\n",
       "  * latitude    (latitude) float64 360B 44.0 43.75 43.5 ... 33.5 33.25 33.0\n",
       "  * longitude   (longitude) float64 520B -78.0 -77.75 -77.5 ... -62.25 -62.0\n",
       "    valid_time  (time) datetime64[ns] 140kB ...\n",
       "Data variables:\n",
       "    u10         (time, latitude, longitude) float32 205MB ...\n",
       "    v10         (time, latitude, longitude) float32 205MB ...\n",
       "    u100        (time, latitude, longitude) float32 205MB ...\n",
       "    v100        (time, latitude, longitude) float32 205MB ...\n",
       "    u10n        (time, latitude, longitude) float32 205MB ...\n",
       "    v10n        (time, latitude, longitude) float32 205MB ...\n",
       "Attributes:\n",
       "    GRIB_edition:            1\n",
       "    GRIB_centre:             ecmf\n",
       "    GRIB_centreDescription:  European Centre for Medium-Range Weather Forecasts\n",
       "    GRIB_subCentre:          0\n",
       "    Conventions:             CF-1.7\n",
       "    institution:             European Centre for Medium-Range Weather Forecasts\n",
       "    history:                 2025-02-18T11:43 GRIB to CDM+CF via cfgrib-0.9.1...</pre><div class='xr-wrap' style='display:none'><div class='xr-header'><div class='xr-obj-type'>xarray.Dataset</div></div><ul class='xr-sections'><li class='xr-section-item'><input id='section-3772e638-ec47-4b11-abc0-ed0baa2d7592' class='xr-section-summary-in' type='checkbox' disabled ><label for='section-3772e638-ec47-4b11-abc0-ed0baa2d7592' class='xr-section-summary'  title='Expand/collapse section'>Dimensions:</label><div class='xr-section-inline-details'><ul class='xr-dim-list'><li><span class='xr-has-index'>time</span>: 17544</li><li><span class='xr-has-index'>latitude</span>: 45</li><li><span class='xr-has-index'>longitude</span>: 65</li></ul></div><div class='xr-section-details'></div></li><li class='xr-section-item'><input id='section-28e18a91-3d5b-4fef-bb25-e5ed2e76ba7c' class='xr-section-summary-in' type='checkbox'  checked><label for='section-28e18a91-3d5b-4fef-bb25-e5ed2e76ba7c' class='xr-section-summary' >Coordinates: <span>(7)</span></label><div class='xr-section-inline-details'></div><div class='xr-section-details'><ul class='xr-var-list'><li class='xr-var-item'><div class='xr-var-name'><span>number</span></div><div class='xr-var-dims'>()</div><div class='xr-var-dtype'>int64</div><div class='xr-var-preview xr-preview'>...</div><input id='attrs-e1daf860-7da3-4402-964d-f82514313c57' class='xr-var-attrs-in' type='checkbox' ><label for='attrs-e1daf860-7da3-4402-964d-f82514313c57' title='Show/Hide attributes'><svg class='icon xr-icon-file-text2'><use xlink:href='#icon-file-text2'></use></svg></label><input id='data-4e6e3049-2103-4d85-9d76-746617750ccf' class='xr-var-data-in' type='checkbox'><label for='data-4e6e3049-2103-4d85-9d76-746617750ccf' title='Show/Hide data repr'><svg class='icon xr-icon-database'><use xlink:href='#icon-database'></use></svg></label><div class='xr-var-attrs'><dl class='xr-attrs'><dt><span>long_name :</span></dt><dd>ensemble member numerical id</dd><dt><span>units :</span></dt><dd>1</dd><dt><span>standard_name :</span></dt><dd>realization</dd></dl></div><div class='xr-var-data'><pre>[1 values with dtype=int64]</pre></div></li><li class='xr-var-item'><div class='xr-var-name'><span class='xr-has-index'>time</span></div><div class='xr-var-dims'>(time)</div><div class='xr-var-dtype'>datetime64[ns]</div><div class='xr-var-preview xr-preview'>2023-01-01 ... 2024-12-31T23:00:00</div><input id='attrs-0999331d-69aa-441b-a48c-cc84267fd11b' class='xr-var-attrs-in' type='checkbox' ><label for='attrs-0999331d-69aa-441b-a48c-cc84267fd11b' title='Show/Hide attributes'><svg class='icon xr-icon-file-text2'><use xlink:href='#icon-file-text2'></use></svg></label><input id='data-5760483c-cf30-4c9b-a3cf-e4b7ecce9ec7' class='xr-var-data-in' type='checkbox'><label for='data-5760483c-cf30-4c9b-a3cf-e4b7ecce9ec7' title='Show/Hide data repr'><svg class='icon xr-icon-database'><use xlink:href='#icon-database'></use></svg></label><div class='xr-var-attrs'><dl class='xr-attrs'><dt><span>long_name :</span></dt><dd>initial time of forecast</dd><dt><span>standard_name :</span></dt><dd>forecast_reference_time</dd></dl></div><div class='xr-var-data'><pre>array([&#x27;2023-01-01T00:00:00.000000000&#x27;, &#x27;2023-01-01T01:00:00.000000000&#x27;,\n",
       "       &#x27;2023-01-01T02:00:00.000000000&#x27;, ..., &#x27;2024-12-31T21:00:00.000000000&#x27;,\n",
       "       &#x27;2024-12-31T22:00:00.000000000&#x27;, &#x27;2024-12-31T23:00:00.000000000&#x27;],\n",
       "      dtype=&#x27;datetime64[ns]&#x27;)</pre></div></li><li class='xr-var-item'><div class='xr-var-name'><span>step</span></div><div class='xr-var-dims'>()</div><div class='xr-var-dtype'>timedelta64[ns]</div><div class='xr-var-preview xr-preview'>...</div><input id='attrs-7a4aedf0-dc5c-4ac6-be7c-ca8e3a8c6229' class='xr-var-attrs-in' type='checkbox' ><label for='attrs-7a4aedf0-dc5c-4ac6-be7c-ca8e3a8c6229' title='Show/Hide attributes'><svg class='icon xr-icon-file-text2'><use xlink:href='#icon-file-text2'></use></svg></label><input id='data-6d26a38c-55d4-4c4b-87e1-21890aecaae4' class='xr-var-data-in' type='checkbox'><label for='data-6d26a38c-55d4-4c4b-87e1-21890aecaae4' title='Show/Hide data repr'><svg class='icon xr-icon-database'><use xlink:href='#icon-database'></use></svg></label><div class='xr-var-attrs'><dl class='xr-attrs'><dt><span>long_name :</span></dt><dd>time since forecast_reference_time</dd><dt><span>standard_name :</span></dt><dd>forecast_period</dd></dl></div><div class='xr-var-data'><pre>[1 values with dtype=timedelta64[ns]]</pre></div></li><li class='xr-var-item'><div class='xr-var-name'><span>surface</span></div><div class='xr-var-dims'>()</div><div class='xr-var-dtype'>float64</div><div class='xr-var-preview xr-preview'>...</div><input id='attrs-b13c32c3-9991-48e5-8276-b66068bd4c32' class='xr-var-attrs-in' type='checkbox' ><label for='attrs-b13c32c3-9991-48e5-8276-b66068bd4c32' title='Show/Hide attributes'><svg class='icon xr-icon-file-text2'><use xlink:href='#icon-file-text2'></use></svg></label><input id='data-65e72598-171d-44f3-a4f5-1ad790d23ebc' class='xr-var-data-in' type='checkbox'><label for='data-65e72598-171d-44f3-a4f5-1ad790d23ebc' title='Show/Hide data repr'><svg class='icon xr-icon-database'><use xlink:href='#icon-database'></use></svg></label><div class='xr-var-attrs'><dl class='xr-attrs'><dt><span>long_name :</span></dt><dd>original GRIB coordinate for key: level(surface)</dd><dt><span>units :</span></dt><dd>1</dd></dl></div><div class='xr-var-data'><pre>[1 values with dtype=float64]</pre></div></li><li class='xr-var-item'><div class='xr-var-name'><span class='xr-has-index'>latitude</span></div><div class='xr-var-dims'>(latitude)</div><div class='xr-var-dtype'>float64</div><div class='xr-var-preview xr-preview'>44.0 43.75 43.5 ... 33.5 33.25 33.0</div><input id='attrs-c6194fe1-4c25-479c-b75c-1daefaea77c1' class='xr-var-attrs-in' type='checkbox' ><label for='attrs-c6194fe1-4c25-479c-b75c-1daefaea77c1' title='Show/Hide attributes'><svg class='icon xr-icon-file-text2'><use xlink:href='#icon-file-text2'></use></svg></label><input id='data-34bad184-214b-49cf-af81-326572e85b24' class='xr-var-data-in' type='checkbox'><label for='data-34bad184-214b-49cf-af81-326572e85b24' title='Show/Hide data repr'><svg class='icon xr-icon-database'><use xlink:href='#icon-database'></use></svg></label><div class='xr-var-attrs'><dl class='xr-attrs'><dt><span>units :</span></dt><dd>degrees_north</dd><dt><span>standard_name :</span></dt><dd>latitude</dd><dt><span>long_name :</span></dt><dd>latitude</dd><dt><span>stored_direction :</span></dt><dd>decreasing</dd></dl></div><div class='xr-var-data'><pre>array([44.  , 43.75, 43.5 , 43.25, 43.  , 42.75, 42.5 , 42.25, 42.  , 41.75,\n",
       "       41.5 , 41.25, 41.  , 40.75, 40.5 , 40.25, 40.  , 39.75, 39.5 , 39.25,\n",
       "       39.  , 38.75, 38.5 , 38.25, 38.  , 37.75, 37.5 , 37.25, 37.  , 36.75,\n",
       "       36.5 , 36.25, 36.  , 35.75, 35.5 , 35.25, 35.  , 34.75, 34.5 , 34.25,\n",
       "       34.  , 33.75, 33.5 , 33.25, 33.  ])</pre></div></li><li class='xr-var-item'><div class='xr-var-name'><span class='xr-has-index'>longitude</span></div><div class='xr-var-dims'>(longitude)</div><div class='xr-var-dtype'>float64</div><div class='xr-var-preview xr-preview'>-78.0 -77.75 -77.5 ... -62.25 -62.0</div><input id='attrs-f277ff2a-7523-4f0f-982f-0ed4ab7d1af6' class='xr-var-attrs-in' type='checkbox' ><label for='attrs-f277ff2a-7523-4f0f-982f-0ed4ab7d1af6' title='Show/Hide attributes'><svg class='icon xr-icon-file-text2'><use xlink:href='#icon-file-text2'></use></svg></label><input id='data-bdbf1dfd-9017-448a-8bec-fdc4faebc3b7' class='xr-var-data-in' type='checkbox'><label for='data-bdbf1dfd-9017-448a-8bec-fdc4faebc3b7' title='Show/Hide data repr'><svg class='icon xr-icon-database'><use xlink:href='#icon-database'></use></svg></label><div class='xr-var-attrs'><dl class='xr-attrs'><dt><span>units :</span></dt><dd>degrees_east</dd><dt><span>standard_name :</span></dt><dd>longitude</dd><dt><span>long_name :</span></dt><dd>longitude</dd></dl></div><div class='xr-var-data'><pre>array([-78.  , -77.75, -77.5 , -77.25, -77.  , -76.75, -76.5 , -76.25, -76.  ,\n",
       "       -75.75, -75.5 , -75.25, -75.  , -74.75, -74.5 , -74.25, -74.  , -73.75,\n",
       "       -73.5 , -73.25, -73.  , -72.75, -72.5 , -72.25, -72.  , -71.75, -71.5 ,\n",
       "       -71.25, -71.  , -70.75, -70.5 , -70.25, -70.  , -69.75, -69.5 , -69.25,\n",
       "       -69.  , -68.75, -68.5 , -68.25, -68.  , -67.75, -67.5 , -67.25, -67.  ,\n",
       "       -66.75, -66.5 , -66.25, -66.  , -65.75, -65.5 , -65.25, -65.  , -64.75,\n",
       "       -64.5 , -64.25, -64.  , -63.75, -63.5 , -63.25, -63.  , -62.75, -62.5 ,\n",
       "       -62.25, -62.  ])</pre></div></li><li class='xr-var-item'><div class='xr-var-name'><span>valid_time</span></div><div class='xr-var-dims'>(time)</div><div class='xr-var-dtype'>datetime64[ns]</div><div class='xr-var-preview xr-preview'>...</div><input id='attrs-6313b528-d987-4d79-bc87-f5cddf911d76' class='xr-var-attrs-in' type='checkbox' ><label for='attrs-6313b528-d987-4d79-bc87-f5cddf911d76' title='Show/Hide attributes'><svg class='icon xr-icon-file-text2'><use xlink:href='#icon-file-text2'></use></svg></label><input id='data-38e94514-7a89-4594-988f-18eeb69ecf86' class='xr-var-data-in' type='checkbox'><label for='data-38e94514-7a89-4594-988f-18eeb69ecf86' title='Show/Hide data repr'><svg class='icon xr-icon-database'><use xlink:href='#icon-database'></use></svg></label><div class='xr-var-attrs'><dl class='xr-attrs'><dt><span>standard_name :</span></dt><dd>time</dd><dt><span>long_name :</span></dt><dd>time</dd></dl></div><div class='xr-var-data'><pre>[17544 values with dtype=datetime64[ns]]</pre></div></li></ul></div></li><li class='xr-section-item'><input id='section-ce6247cb-e89e-4115-956a-572cbda7465a' class='xr-section-summary-in' type='checkbox'  checked><label for='section-ce6247cb-e89e-4115-956a-572cbda7465a' class='xr-section-summary' >Data variables: <span>(6)</span></label><div class='xr-section-inline-details'></div><div class='xr-section-details'><ul class='xr-var-list'><li class='xr-var-item'><div class='xr-var-name'><span>u10</span></div><div class='xr-var-dims'>(time, latitude, longitude)</div><div class='xr-var-dtype'>float32</div><div class='xr-var-preview xr-preview'>...</div><input id='attrs-eb422c61-73cb-4c24-aad8-6a02286e3246' class='xr-var-attrs-in' type='checkbox' ><label for='attrs-eb422c61-73cb-4c24-aad8-6a02286e3246' title='Show/Hide attributes'><svg class='icon xr-icon-file-text2'><use xlink:href='#icon-file-text2'></use></svg></label><input id='data-182f98ad-51b2-4034-989e-01479351aedf' class='xr-var-data-in' type='checkbox'><label for='data-182f98ad-51b2-4034-989e-01479351aedf' title='Show/Hide data repr'><svg class='icon xr-icon-database'><use xlink:href='#icon-database'></use></svg></label><div class='xr-var-attrs'><dl class='xr-attrs'><dt><span>GRIB_paramId :</span></dt><dd>165</dd><dt><span>GRIB_dataType :</span></dt><dd>an</dd><dt><span>GRIB_numberOfPoints :</span></dt><dd>2925</dd><dt><span>GRIB_typeOfLevel :</span></dt><dd>surface</dd><dt><span>GRIB_stepUnits :</span></dt><dd>1</dd><dt><span>GRIB_stepType :</span></dt><dd>instant</dd><dt><span>GRIB_gridType :</span></dt><dd>regular_ll</dd><dt><span>GRIB_uvRelativeToGrid :</span></dt><dd>0</dd><dt><span>GRIB_NV :</span></dt><dd>0</dd><dt><span>GRIB_Nx :</span></dt><dd>65</dd><dt><span>GRIB_Ny :</span></dt><dd>45</dd><dt><span>GRIB_cfName :</span></dt><dd>unknown</dd><dt><span>GRIB_cfVarName :</span></dt><dd>u10</dd><dt><span>GRIB_gridDefinitionDescription :</span></dt><dd>Latitude/Longitude Grid</dd><dt><span>GRIB_iDirectionIncrementInDegrees :</span></dt><dd>0.25</dd><dt><span>GRIB_iScansNegatively :</span></dt><dd>0</dd><dt><span>GRIB_jDirectionIncrementInDegrees :</span></dt><dd>0.25</dd><dt><span>GRIB_jPointsAreConsecutive :</span></dt><dd>0</dd><dt><span>GRIB_jScansPositively :</span></dt><dd>0</dd><dt><span>GRIB_latitudeOfFirstGridPointInDegrees :</span></dt><dd>44.0</dd><dt><span>GRIB_latitudeOfLastGridPointInDegrees :</span></dt><dd>33.0</dd><dt><span>GRIB_longitudeOfFirstGridPointInDegrees :</span></dt><dd>-78.0</dd><dt><span>GRIB_longitudeOfLastGridPointInDegrees :</span></dt><dd>-62.0</dd><dt><span>GRIB_missingValue :</span></dt><dd>3.4028234663852886e+38</dd><dt><span>GRIB_name :</span></dt><dd>10 metre U wind component</dd><dt><span>GRIB_shortName :</span></dt><dd>10u</dd><dt><span>GRIB_totalNumber :</span></dt><dd>0</dd><dt><span>GRIB_units :</span></dt><dd>m s**-1</dd><dt><span>long_name :</span></dt><dd>10 metre U wind component</dd><dt><span>units :</span></dt><dd>m s**-1</dd><dt><span>standard_name :</span></dt><dd>unknown</dd></dl></div><div class='xr-var-data'><pre>[51316200 values with dtype=float32]</pre></div></li><li class='xr-var-item'><div class='xr-var-name'><span>v10</span></div><div class='xr-var-dims'>(time, latitude, longitude)</div><div class='xr-var-dtype'>float32</div><div class='xr-var-preview xr-preview'>...</div><input id='attrs-1571b69e-d60e-4196-9f20-a1c7b445ce00' class='xr-var-attrs-in' type='checkbox' ><label for='attrs-1571b69e-d60e-4196-9f20-a1c7b445ce00' title='Show/Hide attributes'><svg class='icon xr-icon-file-text2'><use xlink:href='#icon-file-text2'></use></svg></label><input id='data-957252ac-d764-4a25-bd2d-abca214e5361' class='xr-var-data-in' type='checkbox'><label for='data-957252ac-d764-4a25-bd2d-abca214e5361' title='Show/Hide data repr'><svg class='icon xr-icon-database'><use xlink:href='#icon-database'></use></svg></label><div class='xr-var-attrs'><dl class='xr-attrs'><dt><span>GRIB_paramId :</span></dt><dd>166</dd><dt><span>GRIB_dataType :</span></dt><dd>an</dd><dt><span>GRIB_numberOfPoints :</span></dt><dd>2925</dd><dt><span>GRIB_typeOfLevel :</span></dt><dd>surface</dd><dt><span>GRIB_stepUnits :</span></dt><dd>1</dd><dt><span>GRIB_stepType :</span></dt><dd>instant</dd><dt><span>GRIB_gridType :</span></dt><dd>regular_ll</dd><dt><span>GRIB_uvRelativeToGrid :</span></dt><dd>0</dd><dt><span>GRIB_NV :</span></dt><dd>0</dd><dt><span>GRIB_Nx :</span></dt><dd>65</dd><dt><span>GRIB_Ny :</span></dt><dd>45</dd><dt><span>GRIB_cfName :</span></dt><dd>unknown</dd><dt><span>GRIB_cfVarName :</span></dt><dd>v10</dd><dt><span>GRIB_gridDefinitionDescription :</span></dt><dd>Latitude/Longitude Grid</dd><dt><span>GRIB_iDirectionIncrementInDegrees :</span></dt><dd>0.25</dd><dt><span>GRIB_iScansNegatively :</span></dt><dd>0</dd><dt><span>GRIB_jDirectionIncrementInDegrees :</span></dt><dd>0.25</dd><dt><span>GRIB_jPointsAreConsecutive :</span></dt><dd>0</dd><dt><span>GRIB_jScansPositively :</span></dt><dd>0</dd><dt><span>GRIB_latitudeOfFirstGridPointInDegrees :</span></dt><dd>44.0</dd><dt><span>GRIB_latitudeOfLastGridPointInDegrees :</span></dt><dd>33.0</dd><dt><span>GRIB_longitudeOfFirstGridPointInDegrees :</span></dt><dd>-78.0</dd><dt><span>GRIB_longitudeOfLastGridPointInDegrees :</span></dt><dd>-62.0</dd><dt><span>GRIB_missingValue :</span></dt><dd>3.4028234663852886e+38</dd><dt><span>GRIB_name :</span></dt><dd>10 metre V wind component</dd><dt><span>GRIB_shortName :</span></dt><dd>10v</dd><dt><span>GRIB_totalNumber :</span></dt><dd>0</dd><dt><span>GRIB_units :</span></dt><dd>m s**-1</dd><dt><span>long_name :</span></dt><dd>10 metre V wind component</dd><dt><span>units :</span></dt><dd>m s**-1</dd><dt><span>standard_name :</span></dt><dd>unknown</dd></dl></div><div class='xr-var-data'><pre>[51316200 values with dtype=float32]</pre></div></li><li class='xr-var-item'><div class='xr-var-name'><span>u100</span></div><div class='xr-var-dims'>(time, latitude, longitude)</div><div class='xr-var-dtype'>float32</div><div class='xr-var-preview xr-preview'>...</div><input id='attrs-10c199ab-f2ea-4b95-b748-9f4baeefec41' class='xr-var-attrs-in' type='checkbox' ><label for='attrs-10c199ab-f2ea-4b95-b748-9f4baeefec41' title='Show/Hide attributes'><svg class='icon xr-icon-file-text2'><use xlink:href='#icon-file-text2'></use></svg></label><input id='data-d011c280-f14e-4845-ad2c-e72004bd8d60' class='xr-var-data-in' type='checkbox'><label for='data-d011c280-f14e-4845-ad2c-e72004bd8d60' title='Show/Hide data repr'><svg class='icon xr-icon-database'><use xlink:href='#icon-database'></use></svg></label><div class='xr-var-attrs'><dl class='xr-attrs'><dt><span>GRIB_paramId :</span></dt><dd>228246</dd><dt><span>GRIB_dataType :</span></dt><dd>an</dd><dt><span>GRIB_numberOfPoints :</span></dt><dd>2925</dd><dt><span>GRIB_typeOfLevel :</span></dt><dd>surface</dd><dt><span>GRIB_stepUnits :</span></dt><dd>1</dd><dt><span>GRIB_stepType :</span></dt><dd>instant</dd><dt><span>GRIB_gridType :</span></dt><dd>regular_ll</dd><dt><span>GRIB_uvRelativeToGrid :</span></dt><dd>0</dd><dt><span>GRIB_NV :</span></dt><dd>0</dd><dt><span>GRIB_Nx :</span></dt><dd>65</dd><dt><span>GRIB_Ny :</span></dt><dd>45</dd><dt><span>GRIB_cfName :</span></dt><dd>unknown</dd><dt><span>GRIB_cfVarName :</span></dt><dd>u100</dd><dt><span>GRIB_gridDefinitionDescription :</span></dt><dd>Latitude/Longitude Grid</dd><dt><span>GRIB_iDirectionIncrementInDegrees :</span></dt><dd>0.25</dd><dt><span>GRIB_iScansNegatively :</span></dt><dd>0</dd><dt><span>GRIB_jDirectionIncrementInDegrees :</span></dt><dd>0.25</dd><dt><span>GRIB_jPointsAreConsecutive :</span></dt><dd>0</dd><dt><span>GRIB_jScansPositively :</span></dt><dd>0</dd><dt><span>GRIB_latitudeOfFirstGridPointInDegrees :</span></dt><dd>44.0</dd><dt><span>GRIB_latitudeOfLastGridPointInDegrees :</span></dt><dd>33.0</dd><dt><span>GRIB_longitudeOfFirstGridPointInDegrees :</span></dt><dd>-78.0</dd><dt><span>GRIB_longitudeOfLastGridPointInDegrees :</span></dt><dd>-62.0</dd><dt><span>GRIB_missingValue :</span></dt><dd>3.4028234663852886e+38</dd><dt><span>GRIB_name :</span></dt><dd>100 metre U wind component</dd><dt><span>GRIB_shortName :</span></dt><dd>100u</dd><dt><span>GRIB_totalNumber :</span></dt><dd>0</dd><dt><span>GRIB_units :</span></dt><dd>m s**-1</dd><dt><span>long_name :</span></dt><dd>100 metre U wind component</dd><dt><span>units :</span></dt><dd>m s**-1</dd><dt><span>standard_name :</span></dt><dd>unknown</dd></dl></div><div class='xr-var-data'><pre>[51316200 values with dtype=float32]</pre></div></li><li class='xr-var-item'><div class='xr-var-name'><span>v100</span></div><div class='xr-var-dims'>(time, latitude, longitude)</div><div class='xr-var-dtype'>float32</div><div class='xr-var-preview xr-preview'>...</div><input id='attrs-7195d971-e814-4d27-b8b8-8678e7018bae' class='xr-var-attrs-in' type='checkbox' ><label for='attrs-7195d971-e814-4d27-b8b8-8678e7018bae' title='Show/Hide attributes'><svg class='icon xr-icon-file-text2'><use xlink:href='#icon-file-text2'></use></svg></label><input id='data-d4791e6f-0441-487b-9ccb-9740f735dede' class='xr-var-data-in' type='checkbox'><label for='data-d4791e6f-0441-487b-9ccb-9740f735dede' title='Show/Hide data repr'><svg class='icon xr-icon-database'><use xlink:href='#icon-database'></use></svg></label><div class='xr-var-attrs'><dl class='xr-attrs'><dt><span>GRIB_paramId :</span></dt><dd>228247</dd><dt><span>GRIB_dataType :</span></dt><dd>an</dd><dt><span>GRIB_numberOfPoints :</span></dt><dd>2925</dd><dt><span>GRIB_typeOfLevel :</span></dt><dd>surface</dd><dt><span>GRIB_stepUnits :</span></dt><dd>1</dd><dt><span>GRIB_stepType :</span></dt><dd>instant</dd><dt><span>GRIB_gridType :</span></dt><dd>regular_ll</dd><dt><span>GRIB_uvRelativeToGrid :</span></dt><dd>0</dd><dt><span>GRIB_NV :</span></dt><dd>0</dd><dt><span>GRIB_Nx :</span></dt><dd>65</dd><dt><span>GRIB_Ny :</span></dt><dd>45</dd><dt><span>GRIB_cfName :</span></dt><dd>unknown</dd><dt><span>GRIB_cfVarName :</span></dt><dd>v100</dd><dt><span>GRIB_gridDefinitionDescription :</span></dt><dd>Latitude/Longitude Grid</dd><dt><span>GRIB_iDirectionIncrementInDegrees :</span></dt><dd>0.25</dd><dt><span>GRIB_iScansNegatively :</span></dt><dd>0</dd><dt><span>GRIB_jDirectionIncrementInDegrees :</span></dt><dd>0.25</dd><dt><span>GRIB_jPointsAreConsecutive :</span></dt><dd>0</dd><dt><span>GRIB_jScansPositively :</span></dt><dd>0</dd><dt><span>GRIB_latitudeOfFirstGridPointInDegrees :</span></dt><dd>44.0</dd><dt><span>GRIB_latitudeOfLastGridPointInDegrees :</span></dt><dd>33.0</dd><dt><span>GRIB_longitudeOfFirstGridPointInDegrees :</span></dt><dd>-78.0</dd><dt><span>GRIB_longitudeOfLastGridPointInDegrees :</span></dt><dd>-62.0</dd><dt><span>GRIB_missingValue :</span></dt><dd>3.4028234663852886e+38</dd><dt><span>GRIB_name :</span></dt><dd>100 metre V wind component</dd><dt><span>GRIB_shortName :</span></dt><dd>100v</dd><dt><span>GRIB_totalNumber :</span></dt><dd>0</dd><dt><span>GRIB_units :</span></dt><dd>m s**-1</dd><dt><span>long_name :</span></dt><dd>100 metre V wind component</dd><dt><span>units :</span></dt><dd>m s**-1</dd><dt><span>standard_name :</span></dt><dd>unknown</dd></dl></div><div class='xr-var-data'><pre>[51316200 values with dtype=float32]</pre></div></li><li class='xr-var-item'><div class='xr-var-name'><span>u10n</span></div><div class='xr-var-dims'>(time, latitude, longitude)</div><div class='xr-var-dtype'>float32</div><div class='xr-var-preview xr-preview'>...</div><input id='attrs-af1badc3-a23e-4999-a52e-9af402556ff9' class='xr-var-attrs-in' type='checkbox' ><label for='attrs-af1badc3-a23e-4999-a52e-9af402556ff9' title='Show/Hide attributes'><svg class='icon xr-icon-file-text2'><use xlink:href='#icon-file-text2'></use></svg></label><input id='data-d116f13c-91a6-435c-bc1d-1e4e7876d1a8' class='xr-var-data-in' type='checkbox'><label for='data-d116f13c-91a6-435c-bc1d-1e4e7876d1a8' title='Show/Hide data repr'><svg class='icon xr-icon-database'><use xlink:href='#icon-database'></use></svg></label><div class='xr-var-attrs'><dl class='xr-attrs'><dt><span>GRIB_paramId :</span></dt><dd>228131</dd><dt><span>GRIB_dataType :</span></dt><dd>an</dd><dt><span>GRIB_numberOfPoints :</span></dt><dd>2925</dd><dt><span>GRIB_typeOfLevel :</span></dt><dd>surface</dd><dt><span>GRIB_stepUnits :</span></dt><dd>1</dd><dt><span>GRIB_stepType :</span></dt><dd>instant</dd><dt><span>GRIB_gridType :</span></dt><dd>regular_ll</dd><dt><span>GRIB_uvRelativeToGrid :</span></dt><dd>0</dd><dt><span>GRIB_NV :</span></dt><dd>0</dd><dt><span>GRIB_Nx :</span></dt><dd>65</dd><dt><span>GRIB_Ny :</span></dt><dd>45</dd><dt><span>GRIB_cfName :</span></dt><dd>unknown</dd><dt><span>GRIB_cfVarName :</span></dt><dd>u10n</dd><dt><span>GRIB_gridDefinitionDescription :</span></dt><dd>Latitude/Longitude Grid</dd><dt><span>GRIB_iDirectionIncrementInDegrees :</span></dt><dd>0.25</dd><dt><span>GRIB_iScansNegatively :</span></dt><dd>0</dd><dt><span>GRIB_jDirectionIncrementInDegrees :</span></dt><dd>0.25</dd><dt><span>GRIB_jPointsAreConsecutive :</span></dt><dd>0</dd><dt><span>GRIB_jScansPositively :</span></dt><dd>0</dd><dt><span>GRIB_latitudeOfFirstGridPointInDegrees :</span></dt><dd>44.0</dd><dt><span>GRIB_latitudeOfLastGridPointInDegrees :</span></dt><dd>33.0</dd><dt><span>GRIB_longitudeOfFirstGridPointInDegrees :</span></dt><dd>-78.0</dd><dt><span>GRIB_longitudeOfLastGridPointInDegrees :</span></dt><dd>-62.0</dd><dt><span>GRIB_missingValue :</span></dt><dd>3.4028234663852886e+38</dd><dt><span>GRIB_name :</span></dt><dd>Neutral wind at 10 m u-component</dd><dt><span>GRIB_shortName :</span></dt><dd>u10n</dd><dt><span>GRIB_totalNumber :</span></dt><dd>0</dd><dt><span>GRIB_units :</span></dt><dd>m s**-1</dd><dt><span>long_name :</span></dt><dd>Neutral wind at 10 m u-component</dd><dt><span>units :</span></dt><dd>m s**-1</dd><dt><span>standard_name :</span></dt><dd>unknown</dd></dl></div><div class='xr-var-data'><pre>[51316200 values with dtype=float32]</pre></div></li><li class='xr-var-item'><div class='xr-var-name'><span>v10n</span></div><div class='xr-var-dims'>(time, latitude, longitude)</div><div class='xr-var-dtype'>float32</div><div class='xr-var-preview xr-preview'>...</div><input id='attrs-4d3b4f0a-1b72-4afd-aa3f-0409d387e261' class='xr-var-attrs-in' type='checkbox' ><label for='attrs-4d3b4f0a-1b72-4afd-aa3f-0409d387e261' title='Show/Hide attributes'><svg class='icon xr-icon-file-text2'><use xlink:href='#icon-file-text2'></use></svg></label><input id='data-91f577c6-e77c-473c-a217-98ea6a3f9896' class='xr-var-data-in' type='checkbox'><label for='data-91f577c6-e77c-473c-a217-98ea6a3f9896' title='Show/Hide data repr'><svg class='icon xr-icon-database'><use xlink:href='#icon-database'></use></svg></label><div class='xr-var-attrs'><dl class='xr-attrs'><dt><span>GRIB_paramId :</span></dt><dd>228132</dd><dt><span>GRIB_dataType :</span></dt><dd>an</dd><dt><span>GRIB_numberOfPoints :</span></dt><dd>2925</dd><dt><span>GRIB_typeOfLevel :</span></dt><dd>surface</dd><dt><span>GRIB_stepUnits :</span></dt><dd>1</dd><dt><span>GRIB_stepType :</span></dt><dd>instant</dd><dt><span>GRIB_gridType :</span></dt><dd>regular_ll</dd><dt><span>GRIB_uvRelativeToGrid :</span></dt><dd>0</dd><dt><span>GRIB_NV :</span></dt><dd>0</dd><dt><span>GRIB_Nx :</span></dt><dd>65</dd><dt><span>GRIB_Ny :</span></dt><dd>45</dd><dt><span>GRIB_cfName :</span></dt><dd>unknown</dd><dt><span>GRIB_cfVarName :</span></dt><dd>v10n</dd><dt><span>GRIB_gridDefinitionDescription :</span></dt><dd>Latitude/Longitude Grid</dd><dt><span>GRIB_iDirectionIncrementInDegrees :</span></dt><dd>0.25</dd><dt><span>GRIB_iScansNegatively :</span></dt><dd>0</dd><dt><span>GRIB_jDirectionIncrementInDegrees :</span></dt><dd>0.25</dd><dt><span>GRIB_jPointsAreConsecutive :</span></dt><dd>0</dd><dt><span>GRIB_jScansPositively :</span></dt><dd>0</dd><dt><span>GRIB_latitudeOfFirstGridPointInDegrees :</span></dt><dd>44.0</dd><dt><span>GRIB_latitudeOfLastGridPointInDegrees :</span></dt><dd>33.0</dd><dt><span>GRIB_longitudeOfFirstGridPointInDegrees :</span></dt><dd>-78.0</dd><dt><span>GRIB_longitudeOfLastGridPointInDegrees :</span></dt><dd>-62.0</dd><dt><span>GRIB_missingValue :</span></dt><dd>3.4028234663852886e+38</dd><dt><span>GRIB_name :</span></dt><dd>Neutral wind at 10 m v-component</dd><dt><span>GRIB_shortName :</span></dt><dd>v10n</dd><dt><span>GRIB_totalNumber :</span></dt><dd>0</dd><dt><span>GRIB_units :</span></dt><dd>m s**-1</dd><dt><span>long_name :</span></dt><dd>Neutral wind at 10 m v-component</dd><dt><span>units :</span></dt><dd>m s**-1</dd><dt><span>standard_name :</span></dt><dd>unknown</dd></dl></div><div class='xr-var-data'><pre>[51316200 values with dtype=float32]</pre></div></li></ul></div></li><li class='xr-section-item'><input id='section-fbcf4130-3c0e-4a77-8d8b-fbf3f84d576d' class='xr-section-summary-in' type='checkbox'  ><label for='section-fbcf4130-3c0e-4a77-8d8b-fbf3f84d576d' class='xr-section-summary' >Indexes: <span>(3)</span></label><div class='xr-section-inline-details'></div><div class='xr-section-details'><ul class='xr-var-list'><li class='xr-var-item'><div class='xr-index-name'><div>time</div></div><div class='xr-index-preview'>PandasIndex</div><input type='checkbox' disabled/><label></label><input id='index-40f31d27-dd47-483e-a779-afbb6b28e9a6' class='xr-index-data-in' type='checkbox'/><label for='index-40f31d27-dd47-483e-a779-afbb6b28e9a6' title='Show/Hide index repr'><svg class='icon xr-icon-database'><use xlink:href='#icon-database'></use></svg></label><div class='xr-index-data'><pre>PandasIndex(DatetimeIndex([&#x27;2023-01-01 00:00:00&#x27;, &#x27;2023-01-01 01:00:00&#x27;,\n",
       "               &#x27;2023-01-01 02:00:00&#x27;, &#x27;2023-01-01 03:00:00&#x27;,\n",
       "               &#x27;2023-01-01 04:00:00&#x27;, &#x27;2023-01-01 05:00:00&#x27;,\n",
       "               &#x27;2023-01-01 06:00:00&#x27;, &#x27;2023-01-01 07:00:00&#x27;,\n",
       "               &#x27;2023-01-01 08:00:00&#x27;, &#x27;2023-01-01 09:00:00&#x27;,\n",
       "               ...\n",
       "               &#x27;2024-12-31 14:00:00&#x27;, &#x27;2024-12-31 15:00:00&#x27;,\n",
       "               &#x27;2024-12-31 16:00:00&#x27;, &#x27;2024-12-31 17:00:00&#x27;,\n",
       "               &#x27;2024-12-31 18:00:00&#x27;, &#x27;2024-12-31 19:00:00&#x27;,\n",
       "               &#x27;2024-12-31 20:00:00&#x27;, &#x27;2024-12-31 21:00:00&#x27;,\n",
       "               &#x27;2024-12-31 22:00:00&#x27;, &#x27;2024-12-31 23:00:00&#x27;],\n",
       "              dtype=&#x27;datetime64[ns]&#x27;, name=&#x27;time&#x27;, length=17544, freq=None))</pre></div></li><li class='xr-var-item'><div class='xr-index-name'><div>latitude</div></div><div class='xr-index-preview'>PandasIndex</div><input type='checkbox' disabled/><label></label><input id='index-916752c0-25a2-4027-9af0-8330b5e4b3e8' class='xr-index-data-in' type='checkbox'/><label for='index-916752c0-25a2-4027-9af0-8330b5e4b3e8' title='Show/Hide index repr'><svg class='icon xr-icon-database'><use xlink:href='#icon-database'></use></svg></label><div class='xr-index-data'><pre>PandasIndex(Index([ 44.0, 43.75,  43.5, 43.25,  43.0, 42.75,  42.5, 42.25,  42.0, 41.75,\n",
       "        41.5, 41.25,  41.0, 40.75,  40.5, 40.25,  40.0, 39.75,  39.5, 39.25,\n",
       "        39.0, 38.75,  38.5, 38.25,  38.0, 37.75,  37.5, 37.25,  37.0, 36.75,\n",
       "        36.5, 36.25,  36.0, 35.75,  35.5, 35.25,  35.0, 34.75,  34.5, 34.25,\n",
       "        34.0, 33.75,  33.5, 33.25,  33.0],\n",
       "      dtype=&#x27;float64&#x27;, name=&#x27;latitude&#x27;))</pre></div></li><li class='xr-var-item'><div class='xr-index-name'><div>longitude</div></div><div class='xr-index-preview'>PandasIndex</div><input type='checkbox' disabled/><label></label><input id='index-b440db7b-6640-413a-89e7-6ae4218697f7' class='xr-index-data-in' type='checkbox'/><label for='index-b440db7b-6640-413a-89e7-6ae4218697f7' title='Show/Hide index repr'><svg class='icon xr-icon-database'><use xlink:href='#icon-database'></use></svg></label><div class='xr-index-data'><pre>PandasIndex(Index([ -78.0, -77.75,  -77.5, -77.25,  -77.0, -76.75,  -76.5, -76.25,  -76.0,\n",
       "       -75.75,  -75.5, -75.25,  -75.0, -74.75,  -74.5, -74.25,  -74.0, -73.75,\n",
       "        -73.5, -73.25,  -73.0, -72.75,  -72.5, -72.25,  -72.0, -71.75,  -71.5,\n",
       "       -71.25,  -71.0, -70.75,  -70.5, -70.25,  -70.0, -69.75,  -69.5, -69.25,\n",
       "        -69.0, -68.75,  -68.5, -68.25,  -68.0, -67.75,  -67.5, -67.25,  -67.0,\n",
       "       -66.75,  -66.5, -66.25,  -66.0, -65.75,  -65.5, -65.25,  -65.0, -64.75,\n",
       "        -64.5, -64.25,  -64.0, -63.75,  -63.5, -63.25,  -63.0, -62.75,  -62.5,\n",
       "       -62.25,  -62.0],\n",
       "      dtype=&#x27;float64&#x27;, name=&#x27;longitude&#x27;))</pre></div></li></ul></div></li><li class='xr-section-item'><input id='section-66c174f1-5355-4609-a36d-72d05e48feb6' class='xr-section-summary-in' type='checkbox'  checked><label for='section-66c174f1-5355-4609-a36d-72d05e48feb6' class='xr-section-summary' >Attributes: <span>(7)</span></label><div class='xr-section-inline-details'></div><div class='xr-section-details'><dl class='xr-attrs'><dt><span>GRIB_edition :</span></dt><dd>1</dd><dt><span>GRIB_centre :</span></dt><dd>ecmf</dd><dt><span>GRIB_centreDescription :</span></dt><dd>European Centre for Medium-Range Weather Forecasts</dd><dt><span>GRIB_subCentre :</span></dt><dd>0</dd><dt><span>Conventions :</span></dt><dd>CF-1.7</dd><dt><span>institution :</span></dt><dd>European Centre for Medium-Range Weather Forecasts</dd><dt><span>history :</span></dt><dd>2025-02-18T11:43 GRIB to CDM+CF via cfgrib-0.9.15.0/ecCodes-2.26.0 with {&quot;source&quot;: &quot;../../data/ERA5_reanalysis_data/ERA5_2023_TO_2024.grib&quot;, &quot;filter_by_keys&quot;: {}, &quot;encode_cf&quot;: [&quot;parameter&quot;, &quot;time&quot;, &quot;geography&quot;, &quot;vertical&quot;]}</dd></dl></div></li></ul></div></div>"
      ],
      "text/plain": [
       "<xarray.Dataset> Size: 1GB\n",
       "Dimensions:     (time: 17544, latitude: 45, longitude: 65)\n",
       "Coordinates:\n",
       "    number      int64 8B ...\n",
       "  * time        (time) datetime64[ns] 140kB 2023-01-01 ... 2024-12-31T23:00:00\n",
       "    step        timedelta64[ns] 8B ...\n",
       "    surface     float64 8B ...\n",
       "  * latitude    (latitude) float64 360B 44.0 43.75 43.5 ... 33.5 33.25 33.0\n",
       "  * longitude   (longitude) float64 520B -78.0 -77.75 -77.5 ... -62.25 -62.0\n",
       "    valid_time  (time) datetime64[ns] 140kB ...\n",
       "Data variables:\n",
       "    u10         (time, latitude, longitude) float32 205MB ...\n",
       "    v10         (time, latitude, longitude) float32 205MB ...\n",
       "    u100        (time, latitude, longitude) float32 205MB ...\n",
       "    v100        (time, latitude, longitude) float32 205MB ...\n",
       "    u10n        (time, latitude, longitude) float32 205MB ...\n",
       "    v10n        (time, latitude, longitude) float32 205MB ...\n",
       "Attributes:\n",
       "    GRIB_edition:            1\n",
       "    GRIB_centre:             ecmf\n",
       "    GRIB_centreDescription:  European Centre for Medium-Range Weather Forecasts\n",
       "    GRIB_subCentre:          0\n",
       "    Conventions:             CF-1.7\n",
       "    institution:             European Centre for Medium-Range Weather Forecasts\n",
       "    history:                 2025-02-18T11:43 GRIB to CDM+CF via cfgrib-0.9.1..."
      ]
     },
     "execution_count": 8,
     "metadata": {},
     "output_type": "execute_result"
    }
   ],
   "source": [
    "era5_ds"
   ]
  },
  {
   "cell_type": "markdown",
   "id": "1396d9f8-3e42-4284-b8b8-0e5639d81fb7",
   "metadata": {},
   "source": [
    "### Check the dimensions"
   ]
  },
  {
   "cell_type": "code",
   "execution_count": 9,
   "id": "4f264842-4cdd-4602-8312-d1dadfa8c8b3",
   "metadata": {},
   "outputs": [
    {
     "data": {
      "text/plain": [
       "FrozenMappingWarningOnValuesAccess({'time': 17544, 'latitude': 45, 'longitude': 65})"
      ]
     },
     "execution_count": 9,
     "metadata": {},
     "output_type": "execute_result"
    }
   ],
   "source": [
    "era5_ds.dims"
   ]
  },
  {
   "cell_type": "markdown",
   "id": "713b5ce9-98ac-41d5-93d0-5a0dc82660a4",
   "metadata": {},
   "source": [
    "### Check coordinates"
   ]
  },
  {
   "cell_type": "code",
   "execution_count": 10,
   "id": "1c85b377-f9aa-45db-8bfc-61c8ab04fdaf",
   "metadata": {},
   "outputs": [
    {
     "data": {
      "text/plain": [
       "Coordinates:\n",
       "    number      int64 8B ...\n",
       "  * time        (time) datetime64[ns] 140kB 2023-01-01 ... 2024-12-31T23:00:00\n",
       "    step        timedelta64[ns] 8B ...\n",
       "    surface     float64 8B ...\n",
       "  * latitude    (latitude) float64 360B 44.0 43.75 43.5 ... 33.5 33.25 33.0\n",
       "  * longitude   (longitude) float64 520B -78.0 -77.75 -77.5 ... -62.25 -62.0\n",
       "    valid_time  (time) datetime64[ns] 140kB ..."
      ]
     },
     "execution_count": 10,
     "metadata": {},
     "output_type": "execute_result"
    }
   ],
   "source": [
    "era5_ds.coords"
   ]
  },
  {
   "cell_type": "markdown",
   "id": "3f6193e3-b98b-49b6-9c52-af8e54b11be3",
   "metadata": {},
   "source": [
    "### Check data variables"
   ]
  },
  {
   "cell_type": "code",
   "execution_count": 11,
   "id": "fa571bf7-ef1a-4599-b2a7-e9af53961876",
   "metadata": {},
   "outputs": [
    {
     "data": {
      "text/plain": [
       "Frozen({'number': <xarray.Variable ()> Size: 8B\n",
       "[1 values with dtype=int64]\n",
       "Attributes:\n",
       "    long_name:      ensemble member numerical id\n",
       "    units:          1\n",
       "    standard_name:  realization, 'time': <xarray.IndexVariable 'time' (time: 17544)> Size: 140kB\n",
       "array(['2023-01-01T00:00:00.000000000', '2023-01-01T01:00:00.000000000',\n",
       "       '2023-01-01T02:00:00.000000000', ..., '2024-12-31T21:00:00.000000000',\n",
       "       '2024-12-31T22:00:00.000000000', '2024-12-31T23:00:00.000000000'],\n",
       "      dtype='datetime64[ns]')\n",
       "Attributes:\n",
       "    long_name:      initial time of forecast\n",
       "    standard_name:  forecast_reference_time, 'step': <xarray.Variable ()> Size: 8B\n",
       "[1 values with dtype=timedelta64[ns]]\n",
       "Attributes:\n",
       "    long_name:      time since forecast_reference_time\n",
       "    standard_name:  forecast_period, 'surface': <xarray.Variable ()> Size: 8B\n",
       "[1 values with dtype=float64]\n",
       "Attributes:\n",
       "    long_name:  original GRIB coordinate for key: level(surface)\n",
       "    units:      1, 'latitude': <xarray.IndexVariable 'latitude' (latitude: 45)> Size: 360B\n",
       "array([44.  , 43.75, 43.5 , 43.25, 43.  , 42.75, 42.5 , 42.25, 42.  , 41.75,\n",
       "       41.5 , 41.25, 41.  , 40.75, 40.5 , 40.25, 40.  , 39.75, 39.5 , 39.25,\n",
       "       39.  , 38.75, 38.5 , 38.25, 38.  , 37.75, 37.5 , 37.25, 37.  , 36.75,\n",
       "       36.5 , 36.25, 36.  , 35.75, 35.5 , 35.25, 35.  , 34.75, 34.5 , 34.25,\n",
       "       34.  , 33.75, 33.5 , 33.25, 33.  ])\n",
       "Attributes:\n",
       "    units:             degrees_north\n",
       "    standard_name:     latitude\n",
       "    long_name:         latitude\n",
       "    stored_direction:  decreasing, 'longitude': <xarray.IndexVariable 'longitude' (longitude: 65)> Size: 520B\n",
       "array([-78.  , -77.75, -77.5 , -77.25, -77.  , -76.75, -76.5 , -76.25, -76.  ,\n",
       "       -75.75, -75.5 , -75.25, -75.  , -74.75, -74.5 , -74.25, -74.  , -73.75,\n",
       "       -73.5 , -73.25, -73.  , -72.75, -72.5 , -72.25, -72.  , -71.75, -71.5 ,\n",
       "       -71.25, -71.  , -70.75, -70.5 , -70.25, -70.  , -69.75, -69.5 , -69.25,\n",
       "       -69.  , -68.75, -68.5 , -68.25, -68.  , -67.75, -67.5 , -67.25, -67.  ,\n",
       "       -66.75, -66.5 , -66.25, -66.  , -65.75, -65.5 , -65.25, -65.  , -64.75,\n",
       "       -64.5 , -64.25, -64.  , -63.75, -63.5 , -63.25, -63.  , -62.75, -62.5 ,\n",
       "       -62.25, -62.  ])\n",
       "Attributes:\n",
       "    units:          degrees_east\n",
       "    standard_name:  longitude\n",
       "    long_name:      longitude, 'valid_time': <xarray.Variable (time: 17544)> Size: 140kB\n",
       "[17544 values with dtype=datetime64[ns]]\n",
       "Attributes:\n",
       "    standard_name:  time\n",
       "    long_name:      time, 'u10': <xarray.Variable (time: 17544, latitude: 45, longitude: 65)> Size: 205MB\n",
       "[51316200 values with dtype=float32]\n",
       "Attributes: (12/31)\n",
       "    GRIB_paramId:                             165\n",
       "    GRIB_dataType:                            an\n",
       "    GRIB_numberOfPoints:                      2925\n",
       "    GRIB_typeOfLevel:                         surface\n",
       "    GRIB_stepUnits:                           1\n",
       "    GRIB_stepType:                            instant\n",
       "    ...                                       ...\n",
       "    GRIB_shortName:                           10u\n",
       "    GRIB_totalNumber:                         0\n",
       "    GRIB_units:                               m s**-1\n",
       "    long_name:                                10 metre U wind component\n",
       "    units:                                    m s**-1\n",
       "    standard_name:                            unknown, 'v10': <xarray.Variable (time: 17544, latitude: 45, longitude: 65)> Size: 205MB\n",
       "[51316200 values with dtype=float32]\n",
       "Attributes: (12/31)\n",
       "    GRIB_paramId:                             166\n",
       "    GRIB_dataType:                            an\n",
       "    GRIB_numberOfPoints:                      2925\n",
       "    GRIB_typeOfLevel:                         surface\n",
       "    GRIB_stepUnits:                           1\n",
       "    GRIB_stepType:                            instant\n",
       "    ...                                       ...\n",
       "    GRIB_shortName:                           10v\n",
       "    GRIB_totalNumber:                         0\n",
       "    GRIB_units:                               m s**-1\n",
       "    long_name:                                10 metre V wind component\n",
       "    units:                                    m s**-1\n",
       "    standard_name:                            unknown, 'u100': <xarray.Variable (time: 17544, latitude: 45, longitude: 65)> Size: 205MB\n",
       "[51316200 values with dtype=float32]\n",
       "Attributes: (12/31)\n",
       "    GRIB_paramId:                             228246\n",
       "    GRIB_dataType:                            an\n",
       "    GRIB_numberOfPoints:                      2925\n",
       "    GRIB_typeOfLevel:                         surface\n",
       "    GRIB_stepUnits:                           1\n",
       "    GRIB_stepType:                            instant\n",
       "    ...                                       ...\n",
       "    GRIB_shortName:                           100u\n",
       "    GRIB_totalNumber:                         0\n",
       "    GRIB_units:                               m s**-1\n",
       "    long_name:                                100 metre U wind component\n",
       "    units:                                    m s**-1\n",
       "    standard_name:                            unknown, 'v100': <xarray.Variable (time: 17544, latitude: 45, longitude: 65)> Size: 205MB\n",
       "[51316200 values with dtype=float32]\n",
       "Attributes: (12/31)\n",
       "    GRIB_paramId:                             228247\n",
       "    GRIB_dataType:                            an\n",
       "    GRIB_numberOfPoints:                      2925\n",
       "    GRIB_typeOfLevel:                         surface\n",
       "    GRIB_stepUnits:                           1\n",
       "    GRIB_stepType:                            instant\n",
       "    ...                                       ...\n",
       "    GRIB_shortName:                           100v\n",
       "    GRIB_totalNumber:                         0\n",
       "    GRIB_units:                               m s**-1\n",
       "    long_name:                                100 metre V wind component\n",
       "    units:                                    m s**-1\n",
       "    standard_name:                            unknown, 'u10n': <xarray.Variable (time: 17544, latitude: 45, longitude: 65)> Size: 205MB\n",
       "[51316200 values with dtype=float32]\n",
       "Attributes: (12/31)\n",
       "    GRIB_paramId:                             228131\n",
       "    GRIB_dataType:                            an\n",
       "    GRIB_numberOfPoints:                      2925\n",
       "    GRIB_typeOfLevel:                         surface\n",
       "    GRIB_stepUnits:                           1\n",
       "    GRIB_stepType:                            instant\n",
       "    ...                                       ...\n",
       "    GRIB_shortName:                           u10n\n",
       "    GRIB_totalNumber:                         0\n",
       "    GRIB_units:                               m s**-1\n",
       "    long_name:                                Neutral wind at 10 m u-component\n",
       "    units:                                    m s**-1\n",
       "    standard_name:                            unknown, 'v10n': <xarray.Variable (time: 17544, latitude: 45, longitude: 65)> Size: 205MB\n",
       "[51316200 values with dtype=float32]\n",
       "Attributes: (12/31)\n",
       "    GRIB_paramId:                             228132\n",
       "    GRIB_dataType:                            an\n",
       "    GRIB_numberOfPoints:                      2925\n",
       "    GRIB_typeOfLevel:                         surface\n",
       "    GRIB_stepUnits:                           1\n",
       "    GRIB_stepType:                            instant\n",
       "    ...                                       ...\n",
       "    GRIB_shortName:                           v10n\n",
       "    GRIB_totalNumber:                         0\n",
       "    GRIB_units:                               m s**-1\n",
       "    long_name:                                Neutral wind at 10 m v-component\n",
       "    units:                                    m s**-1\n",
       "    standard_name:                            unknown})"
      ]
     },
     "execution_count": 11,
     "metadata": {},
     "output_type": "execute_result"
    }
   ],
   "source": [
    "era5_ds.variables"
   ]
  },
  {
   "cell_type": "code",
   "execution_count": 12,
   "id": "46978fca-197a-4a93-939d-24bc5a5bd073",
   "metadata": {},
   "outputs": [
    {
     "name": "stdout",
     "output_type": "stream",
     "text": [
      "FrozenMappingWarningOnValuesAccess({'time': 17544, 'latitude': 45, 'longitude': 65})\n",
      "Coordinates:\n",
      "    number      int64 8B ...\n",
      "  * time        (time) datetime64[ns] 140kB 2023-01-01 ... 2024-12-31T23:00:00\n",
      "    step        timedelta64[ns] 8B ...\n",
      "    surface     float64 8B ...\n",
      "  * latitude    (latitude) float64 360B 44.0 43.75 43.5 ... 33.5 33.25 33.0\n",
      "  * longitude   (longitude) float64 520B -78.0 -77.75 -77.5 ... -62.25 -62.0\n",
      "    valid_time  (time) datetime64[ns] 140kB ...\n",
      "Frozen({'number': <xarray.Variable ()> Size: 8B\n",
      "[1 values with dtype=int64]\n",
      "Attributes:\n",
      "    long_name:      ensemble member numerical id\n",
      "    units:          1\n",
      "    standard_name:  realization, 'time': <xarray.IndexVariable 'time' (time: 17544)> Size: 140kB\n",
      "array(['2023-01-01T00:00:00.000000000', '2023-01-01T01:00:00.000000000',\n",
      "       '2023-01-01T02:00:00.000000000', ..., '2024-12-31T21:00:00.000000000',\n",
      "       '2024-12-31T22:00:00.000000000', '2024-12-31T23:00:00.000000000'],\n",
      "      dtype='datetime64[ns]')\n",
      "Attributes:\n",
      "    long_name:      initial time of forecast\n",
      "    standard_name:  forecast_reference_time, 'step': <xarray.Variable ()> Size: 8B\n",
      "[1 values with dtype=timedelta64[ns]]\n",
      "Attributes:\n",
      "    long_name:      time since forecast_reference_time\n",
      "    standard_name:  forecast_period, 'surface': <xarray.Variable ()> Size: 8B\n",
      "[1 values with dtype=float64]\n",
      "Attributes:\n",
      "    long_name:  original GRIB coordinate for key: level(surface)\n",
      "    units:      1, 'latitude': <xarray.IndexVariable 'latitude' (latitude: 45)> Size: 360B\n",
      "array([44.  , 43.75, 43.5 , 43.25, 43.  , 42.75, 42.5 , 42.25, 42.  , 41.75,\n",
      "       41.5 , 41.25, 41.  , 40.75, 40.5 , 40.25, 40.  , 39.75, 39.5 , 39.25,\n",
      "       39.  , 38.75, 38.5 , 38.25, 38.  , 37.75, 37.5 , 37.25, 37.  , 36.75,\n",
      "       36.5 , 36.25, 36.  , 35.75, 35.5 , 35.25, 35.  , 34.75, 34.5 , 34.25,\n",
      "       34.  , 33.75, 33.5 , 33.25, 33.  ])\n",
      "Attributes:\n",
      "    units:             degrees_north\n",
      "    standard_name:     latitude\n",
      "    long_name:         latitude\n",
      "    stored_direction:  decreasing, 'longitude': <xarray.IndexVariable 'longitude' (longitude: 65)> Size: 520B\n",
      "array([-78.  , -77.75, -77.5 , -77.25, -77.  , -76.75, -76.5 , -76.25, -76.  ,\n",
      "       -75.75, -75.5 , -75.25, -75.  , -74.75, -74.5 , -74.25, -74.  , -73.75,\n",
      "       -73.5 , -73.25, -73.  , -72.75, -72.5 , -72.25, -72.  , -71.75, -71.5 ,\n",
      "       -71.25, -71.  , -70.75, -70.5 , -70.25, -70.  , -69.75, -69.5 , -69.25,\n",
      "       -69.  , -68.75, -68.5 , -68.25, -68.  , -67.75, -67.5 , -67.25, -67.  ,\n",
      "       -66.75, -66.5 , -66.25, -66.  , -65.75, -65.5 , -65.25, -65.  , -64.75,\n",
      "       -64.5 , -64.25, -64.  , -63.75, -63.5 , -63.25, -63.  , -62.75, -62.5 ,\n",
      "       -62.25, -62.  ])\n",
      "Attributes:\n",
      "    units:          degrees_east\n",
      "    standard_name:  longitude\n",
      "    long_name:      longitude, 'valid_time': <xarray.Variable (time: 17544)> Size: 140kB\n",
      "[17544 values with dtype=datetime64[ns]]\n",
      "Attributes:\n",
      "    standard_name:  time\n",
      "    long_name:      time, 'u10': <xarray.Variable (time: 17544, latitude: 45, longitude: 65)> Size: 205MB\n",
      "[51316200 values with dtype=float32]\n",
      "Attributes: (12/31)\n",
      "    GRIB_paramId:                             165\n",
      "    GRIB_dataType:                            an\n",
      "    GRIB_numberOfPoints:                      2925\n",
      "    GRIB_typeOfLevel:                         surface\n",
      "    GRIB_stepUnits:                           1\n",
      "    GRIB_stepType:                            instant\n",
      "    ...                                       ...\n",
      "    GRIB_shortName:                           10u\n",
      "    GRIB_totalNumber:                         0\n",
      "    GRIB_units:                               m s**-1\n",
      "    long_name:                                10 metre U wind component\n",
      "    units:                                    m s**-1\n",
      "    standard_name:                            unknown, 'v10': <xarray.Variable (time: 17544, latitude: 45, longitude: 65)> Size: 205MB\n",
      "[51316200 values with dtype=float32]\n",
      "Attributes: (12/31)\n",
      "    GRIB_paramId:                             166\n",
      "    GRIB_dataType:                            an\n",
      "    GRIB_numberOfPoints:                      2925\n",
      "    GRIB_typeOfLevel:                         surface\n",
      "    GRIB_stepUnits:                           1\n",
      "    GRIB_stepType:                            instant\n",
      "    ...                                       ...\n",
      "    GRIB_shortName:                           10v\n",
      "    GRIB_totalNumber:                         0\n",
      "    GRIB_units:                               m s**-1\n",
      "    long_name:                                10 metre V wind component\n",
      "    units:                                    m s**-1\n",
      "    standard_name:                            unknown, 'u100': <xarray.Variable (time: 17544, latitude: 45, longitude: 65)> Size: 205MB\n",
      "[51316200 values with dtype=float32]\n",
      "Attributes: (12/31)\n",
      "    GRIB_paramId:                             228246\n",
      "    GRIB_dataType:                            an\n",
      "    GRIB_numberOfPoints:                      2925\n",
      "    GRIB_typeOfLevel:                         surface\n",
      "    GRIB_stepUnits:                           1\n",
      "    GRIB_stepType:                            instant\n",
      "    ...                                       ...\n",
      "    GRIB_shortName:                           100u\n",
      "    GRIB_totalNumber:                         0\n",
      "    GRIB_units:                               m s**-1\n",
      "    long_name:                                100 metre U wind component\n",
      "    units:                                    m s**-1\n",
      "    standard_name:                            unknown, 'v100': <xarray.Variable (time: 17544, latitude: 45, longitude: 65)> Size: 205MB\n",
      "[51316200 values with dtype=float32]\n",
      "Attributes: (12/31)\n",
      "    GRIB_paramId:                             228247\n",
      "    GRIB_dataType:                            an\n",
      "    GRIB_numberOfPoints:                      2925\n",
      "    GRIB_typeOfLevel:                         surface\n",
      "    GRIB_stepUnits:                           1\n",
      "    GRIB_stepType:                            instant\n",
      "    ...                                       ...\n",
      "    GRIB_shortName:                           100v\n",
      "    GRIB_totalNumber:                         0\n",
      "    GRIB_units:                               m s**-1\n",
      "    long_name:                                100 metre V wind component\n",
      "    units:                                    m s**-1\n",
      "    standard_name:                            unknown, 'u10n': <xarray.Variable (time: 17544, latitude: 45, longitude: 65)> Size: 205MB\n",
      "[51316200 values with dtype=float32]\n",
      "Attributes: (12/31)\n",
      "    GRIB_paramId:                             228131\n",
      "    GRIB_dataType:                            an\n",
      "    GRIB_numberOfPoints:                      2925\n",
      "    GRIB_typeOfLevel:                         surface\n",
      "    GRIB_stepUnits:                           1\n",
      "    GRIB_stepType:                            instant\n",
      "    ...                                       ...\n",
      "    GRIB_shortName:                           u10n\n",
      "    GRIB_totalNumber:                         0\n",
      "    GRIB_units:                               m s**-1\n",
      "    long_name:                                Neutral wind at 10 m u-component\n",
      "    units:                                    m s**-1\n",
      "    standard_name:                            unknown, 'v10n': <xarray.Variable (time: 17544, latitude: 45, longitude: 65)> Size: 205MB\n",
      "[51316200 values with dtype=float32]\n",
      "Attributes: (12/31)\n",
      "    GRIB_paramId:                             228132\n",
      "    GRIB_dataType:                            an\n",
      "    GRIB_numberOfPoints:                      2925\n",
      "    GRIB_typeOfLevel:                         surface\n",
      "    GRIB_stepUnits:                           1\n",
      "    GRIB_stepType:                            instant\n",
      "    ...                                       ...\n",
      "    GRIB_shortName:                           v10n\n",
      "    GRIB_totalNumber:                         0\n",
      "    GRIB_units:                               m s**-1\n",
      "    long_name:                                Neutral wind at 10 m v-component\n",
      "    units:                                    m s**-1\n",
      "    standard_name:                            unknown})\n"
     ]
    }
   ],
   "source": [
    "print(era5_ds.dims)\n",
    "print(era5_ds.coords)\n",
    "print(era5_ds.variables)\n"
   ]
  },
  {
   "cell_type": "markdown",
   "id": "ae9a43c0-4df5-4c9b-9a75-bbbf98c86ee3",
   "metadata": {},
   "source": [
    "### See available vars"
   ]
  },
  {
   "cell_type": "code",
   "execution_count": 13,
   "id": "113edefd-007f-4163-953f-fcaea42ca30e",
   "metadata": {},
   "outputs": [
    {
     "data": {
      "text/plain": [
       "Data variables:\n",
       "    u10      (time, latitude, longitude) float32 205MB ...\n",
       "    v10      (time, latitude, longitude) float32 205MB ...\n",
       "    u100     (time, latitude, longitude) float32 205MB ...\n",
       "    v100     (time, latitude, longitude) float32 205MB ...\n",
       "    u10n     (time, latitude, longitude) float32 205MB ...\n",
       "    v10n     (time, latitude, longitude) float32 205MB ..."
      ]
     },
     "execution_count": 13,
     "metadata": {},
     "output_type": "execute_result"
    }
   ],
   "source": [
    "era5_ds.data_vars  # See available variables.\n"
   ]
  },
  {
   "cell_type": "markdown",
   "id": "32067578-9828-4c68-90f5-acc944adea75",
   "metadata": {},
   "source": [
    "# Extract Key variables"
   ]
  },
  {
   "cell_type": "code",
   "execution_count": 5,
   "id": "b7f278ea-6c62-4344-b8c7-a60d5b9331f5",
   "metadata": {},
   "outputs": [],
   "source": [
    "# Extract key variables\n",
    "u10 = era5_ds[\"u10\"]  # 10m wind component U\n",
    "v10 = era5_ds[\"v10\"]  # 10m wind component V\n",
    "time = era5_ds[\"time\"]\n",
    "lat = era5_ds[\"latitude\"].values\n",
    "lon = era5_ds[\"longitude\"].values"
   ]
  },
  {
   "cell_type": "code",
   "execution_count": 6,
   "id": "932b149e-0737-4c82-879f-6d7d669f11ae",
   "metadata": {},
   "outputs": [
    {
     "data": {
      "text/plain": [
       "(45,)"
      ]
     },
     "execution_count": 6,
     "metadata": {},
     "output_type": "execute_result"
    }
   ],
   "source": [
    "lat.shape"
   ]
  },
  {
   "cell_type": "code",
   "execution_count": 7,
   "id": "7f126d35-044e-4878-beed-82fd63c8d79e",
   "metadata": {},
   "outputs": [
    {
     "data": {
      "text/plain": [
       "array([ 44., -78.])"
      ]
     },
     "execution_count": 7,
     "metadata": {},
     "output_type": "execute_result"
    }
   ],
   "source": [
    "len(np.array(list(zip(lat, lon)))[0])\n",
    "np.array(list(zip(lat, lon)))[0]"
   ]
  },
  {
   "cell_type": "markdown",
   "id": "23a37203-20ee-4bcf-a1bc-81a8a48a6d90",
   "metadata": {},
   "source": [
    "# Load Sentinel-1 Data and Match Spatially"
   ]
  },
  {
   "cell_type": "code",
   "execution_count": 8,
   "id": "f2450061-9228-44b4-af21-8907400b0fc7",
   "metadata": {},
   "outputs": [
    {
     "name": "stdout",
     "output_type": "stream",
     "text": [
      "There are 5766 files\n"
     ]
    }
   ],
   "source": [
    "from offshore_wind_nj.data_loader import data_files, load_data, all_arrays, extract_datetime_from_filename, removed_files\n",
    "from offshore_wind_nj.sar_wind_plot import plot_wind_field, plot_wind_field_by_arrays\n",
    "from offshore_wind_nj.data_cleaning import fill_zeros, find_zeros"
   ]
  },
  {
   "cell_type": "markdown",
   "id": "58d5b185-a1d7-421b-a19e-fa501a9306b7",
   "metadata": {},
   "source": [
    "## Use the first image to test"
   ]
  },
  {
   "cell_type": "code",
   "execution_count": 27,
   "id": "8c2c3464-5900-4ed9-ac2e-72930a0fe700",
   "metadata": {},
   "outputs": [
    {
     "data": {
      "text/plain": [
       "(150, 253)"
      ]
     },
     "execution_count": 27,
     "metadata": {},
     "output_type": "execute_result"
    }
   ],
   "source": [
    "# Extract coordinates\n",
    "sentinel_lat = all_arrays[4][2]\n",
    "sentinel_lon = all_arrays[4][3]\n",
    "sentinel_lon.shape"
   ]
  },
  {
   "cell_type": "markdown",
   "id": "0fcb6d9f-378e-4bcc-841b-65ca610e5056",
   "metadata": {},
   "source": [
    "## Flatenning the NumPy arrays; use ravel for better computing processing"
   ]
  },
  {
   "cell_type": "code",
   "execution_count": 28,
   "id": "1047acdf-090f-485e-b28c-0a6e65ab4712",
   "metadata": {},
   "outputs": [],
   "source": [
    "sentinel_lat = sentinel_lat.ravel()\n",
    "sentinel_lon = sentinel_lon.ravel()"
   ]
  },
  {
   "cell_type": "markdown",
   "id": "38722200-28fa-4b98-92c3-ff976df488f0",
   "metadata": {},
   "source": [
    "## Stack coodinates pairs"
   ]
  },
  {
   "cell_type": "code",
   "execution_count": 29,
   "id": "39b4782e-7a7c-4025-b5d1-7ba6e23dc187",
   "metadata": {},
   "outputs": [],
   "source": [
    "sentinel_coords = np.column_stack((sentinel_lat, sentinel_lon))"
   ]
  },
  {
   "cell_type": "code",
   "execution_count": 30,
   "id": "6b451e71-97fc-45c9-8a7b-a59fafe46ed2",
   "metadata": {},
   "outputs": [
    {
     "data": {
      "text/plain": [
       "array([[ 41.511654, -71.366455],\n",
       "       [ 41.513363, -71.37827 ],\n",
       "       [ 41.51507 , -71.3901  ],\n",
       "       ...,\n",
       "       [ 40.55962 , -74.61042 ],\n",
       "       [ 40.561024, -74.622086],\n",
       "       [ 40.562428, -74.63376 ]], dtype=float32)"
      ]
     },
     "execution_count": 30,
     "metadata": {},
     "output_type": "execute_result"
    }
   ],
   "source": [
    "sentinel_coords#.shape"
   ]
  },
  {
   "cell_type": "markdown",
   "id": "73ab9aac-c895-49b0-b143-10946936933c",
   "metadata": {},
   "source": [
    "## Build KDTree for fast nearest-neighbor search on GRIB data grid"
   ]
  },
  {
   "cell_type": "code",
   "execution_count": 31,
   "id": "3f157e38-b43e-457b-bfe5-31c6c95b991d",
   "metadata": {},
   "outputs": [],
   "source": [
    "grib_coords = np.array(np.meshgrid(lat, lon)).T.reshape(-1, 2)  # Flatten lat/lon grid\n",
    "tree = cKDTree(grib_coords)"
   ]
  },
  {
   "cell_type": "code",
   "execution_count": 32,
   "id": "7f0101d5-e771-45db-9955-358c27a207a7",
   "metadata": {},
   "outputs": [
    {
     "data": {
      "text/plain": [
       "(2925, 2)"
      ]
     },
     "execution_count": 32,
     "metadata": {},
     "output_type": "execute_result"
    }
   ],
   "source": [
    "grib_coords.shape"
   ]
  },
  {
   "cell_type": "markdown",
   "id": "c3d78b5c-d517-40b9-84e9-abc4d6208b51",
   "metadata": {},
   "source": [
    "## Find closest GRIB grid points for each Sentinel-1 point"
   ]
  },
  {
   "cell_type": "code",
   "execution_count": 33,
   "id": "0c6c2a12-3be6-4e6c-9bef-e0d70bdc3080",
   "metadata": {},
   "outputs": [],
   "source": [
    "_, idxs = tree.query(sentinel_coords)"
   ]
  },
  {
   "cell_type": "markdown",
   "id": "cde37a05-3d78-4dc9-92ee-5c7a1bd73d88",
   "metadata": {},
   "source": [
    "## Extract nearest lat/lon values from GRIB"
   ]
  },
  {
   "cell_type": "code",
   "execution_count": 34,
   "id": "59e0cf30-0462-4b16-995b-b5afdd0477a1",
   "metadata": {},
   "outputs": [],
   "source": [
    "matched_lat_lon = grib_coords[idxs]"
   ]
  },
  {
   "cell_type": "code",
   "execution_count": 35,
   "id": "0cde5b53-6588-49e1-83e5-a5c5a7bdffda",
   "metadata": {},
   "outputs": [
    {
     "data": {
      "text/plain": [
       "array([[ 41.5 , -71.25],\n",
       "       [ 41.5 , -71.5 ],\n",
       "       [ 41.5 , -71.5 ],\n",
       "       ...,\n",
       "       [ 40.5 , -74.5 ],\n",
       "       [ 40.5 , -74.5 ],\n",
       "       [ 40.5 , -74.75]])"
      ]
     },
     "execution_count": 35,
     "metadata": {},
     "output_type": "execute_result"
    }
   ],
   "source": [
    "matched_lat_lon#[:, 0]"
   ]
  },
  {
   "cell_type": "markdown",
   "id": "ac5f2427-e6ff-43e2-b1e7-1e0872368560",
   "metadata": {},
   "source": [
    "# Match Temporally"
   ]
  },
  {
   "cell_type": "markdown",
   "id": "6a6dadf4-2e40-455f-9c8b-e496e50ee66c",
   "metadata": {},
   "source": [
    "## ERA5 Reanalysis dataset"
   ]
  },
  {
   "cell_type": "code",
   "execution_count": 36,
   "id": "745817fd-527e-4489-a2a0-25a3927ca437",
   "metadata": {},
   "outputs": [
    {
     "data": {
      "text/plain": [
       "array(['2023-01-01T00:00:00.000000000', '2023-01-01T01:00:00.000000000',\n",
       "       '2023-01-01T02:00:00.000000000', ...,\n",
       "       '2024-12-31T21:00:00.000000000', '2024-12-31T22:00:00.000000000',\n",
       "       '2024-12-31T23:00:00.000000000'], dtype='datetime64[ns]')"
      ]
     },
     "execution_count": 36,
     "metadata": {},
     "output_type": "execute_result"
    }
   ],
   "source": [
    "time.values"
   ]
  },
  {
   "cell_type": "code",
   "execution_count": 19,
   "id": "d0b411b8-0619-40bd-b5ff-6b1629f6886a",
   "metadata": {},
   "outputs": [
    {
     "data": {
      "text/plain": [
       "array(['2023-01-01T00:00:00.000000000', '2023-01-01T01:00:00.000000000',\n",
       "       '2023-01-01T02:00:00.000000000', ...,\n",
       "       '2024-12-31T21:00:00.000000000', '2024-12-31T22:00:00.000000000',\n",
       "       '2024-12-31T23:00:00.000000000'], dtype='datetime64[ns]')"
      ]
     },
     "execution_count": 19,
     "metadata": {},
     "output_type": "execute_result"
    }
   ],
   "source": [
    "(time.values)"
   ]
  },
  {
   "cell_type": "markdown",
   "id": "62e10286-8470-4039-be1b-72b982291a0e",
   "metadata": {},
   "source": [
    "## Sentinel 1 products dataset"
   ]
  },
  {
   "cell_type": "markdown",
   "id": "becb9423-fe35-43fe-9eba-ab9eb3ac9a71",
   "metadata": {},
   "source": [
    "### For loop for next steps..."
   ]
  },
  {
   "cell_type": "code",
   "execution_count": 20,
   "id": "892af1ed-7ca7-48e8-8567-eee23a78f308",
   "metadata": {},
   "outputs": [],
   "source": [
    "filename_l = []\n",
    "date_l = []\n",
    "start_time_l = []\n",
    "end_time_l = []\n",
    "\n",
    "for i in data_files:\n",
    "    filename, date, start_time, end_time = extract_datetime_from_filename(i)\n",
    "    filename_l.append(filename)\n",
    "    date_l.append(date)\n",
    "    start_time_l.append(start_time)\n",
    "    end_time_l.append(end_time)\n",
    "    "
   ]
  },
  {
   "cell_type": "markdown",
   "id": "81dbcb19-4e2e-4e1b-bb60-ff82440f607c",
   "metadata": {},
   "source": [
    "### Test dataset"
   ]
  },
  {
   "cell_type": "code",
   "execution_count": 63,
   "id": "cba70650-78fa-46ff-82a5-662288a282dc",
   "metadata": {},
   "outputs": [],
   "source": [
    "filename, date, start_time, end_time = extract_datetime_from_filename(data_files[4])\n",
    "\n",
    "# Product from '2023-01-23'"
   ]
  },
  {
   "cell_type": "code",
   "execution_count": 64,
   "id": "29bcab76-6846-40e4-863f-ff1fa210f029",
   "metadata": {},
   "outputs": [],
   "source": [
    "# Combine date and time into a single string in ISO 8601 format\n",
    "sentinel_datetime_str = np.char.add(np.char.add(date, 'T'), end_time)\n",
    "sentinel_datetime_str = sentinel_datetime_str.astype('datetime64[ns]')"
   ]
  },
  {
   "cell_type": "markdown",
   "id": "fab71cfa-3e05-4698-a8e6-178f795fbdd5",
   "metadata": {},
   "source": [
    "## Convert ERA5 & Sentinel time to datetime64"
   ]
  },
  {
   "cell_type": "code",
   "execution_count": 65,
   "id": "9dc70ba5-4b42-4396-87bf-2599c6abab23",
   "metadata": {},
   "outputs": [
    {
     "data": {
      "text/plain": [
       "array(['2023-01-01T00:00:00.000000000', '2023-01-01T01:00:00.000000000',\n",
       "       '2023-01-01T02:00:00.000000000', ...,\n",
       "       '2024-12-31T21:00:00.000000000', '2024-12-31T22:00:00.000000000',\n",
       "       '2024-12-31T23:00:00.000000000'], dtype='datetime64[ns]')"
      ]
     },
     "execution_count": 65,
     "metadata": {},
     "output_type": "execute_result"
    }
   ],
   "source": [
    "# Convert ERA5 time to datetime64\n",
    "era5_time = time.values  # ERA5 time as datetime64\n",
    "era5_time"
   ]
  },
  {
   "cell_type": "code",
   "execution_count": 66,
   "id": "2ba522e1-bf68-4b3b-b10e-af336fcedbf5",
   "metadata": {},
   "outputs": [
    {
     "data": {
      "text/plain": [
       "numpy.datetime64('2023-01-23T10:58:22.000000000')"
      ]
     },
     "execution_count": 66,
     "metadata": {},
     "output_type": "execute_result"
    }
   ],
   "source": [
    "# Convert Sentinel datetime to match ERA5 format\n",
    "sentinel_datetime = np.datetime64(sentinel_datetime_str)\n",
    "sentinel_datetime"
   ]
  },
  {
   "cell_type": "code",
   "execution_count": 52,
   "id": "6da27e11-95f0-454e-a254-60b654057b6f",
   "metadata": {},
   "outputs": [],
   "source": [
    "\n",
    "\n",
    "\n",
    "\n",
    "# Find the closest time index\n",
    "time_idx = np.argmin(np.abs(era5_time - sentinel_datetime))\n",
    "\n",
    "# Get the matched ERA5 time\n",
    "matched_era5_time = era5_time[time_idx]"
   ]
  },
  {
   "cell_type": "code",
   "execution_count": 53,
   "id": "af7bd034-cd5e-461e-abf2-05e8963cb7f2",
   "metadata": {},
   "outputs": [],
   "source": [
    "# Extract ERA5 wind components at the matched time index\n",
    "u10_matched = u10.isel(time=time_idx).values\n",
    "v10_matched = v10.isel(time=time_idx).values\n"
   ]
  },
  {
   "cell_type": "code",
   "execution_count": 67,
   "id": "548d70fd-7bb1-4683-a991-cc2f1a3be19b",
   "metadata": {},
   "outputs": [],
   "source": [
    "u10_sentinel = u10_matched.ravel()[idxs]\n",
    "v10_sentinel = v10_matched.ravel()[idxs]\n"
   ]
  },
  {
   "cell_type": "code",
   "execution_count": 68,
   "id": "32a396c6-5e4d-48d5-948a-a9f1064d6bd5",
   "metadata": {},
   "outputs": [
    {
     "ename": "DTypePromotionError",
     "evalue": "The DType <class 'numpy.dtypes.DateTime64DType'> could not be promoted by <class 'numpy.dtypes.Float32DType'>. This means that no common DType exists for the given inputs. For example they cannot be stored in a single array unless the dtype is `object`. The full list of DTypes is: (<class 'numpy.dtypes.Float32DType'>, <class 'numpy.dtypes.Float32DType'>, <class 'numpy.dtypes.Float32DType'>, <class 'numpy.dtypes.DateTime64DType'>)",
     "output_type": "error",
     "traceback": [
      "\u001b[0;31m---------------------------------------------------------------------------\u001b[0m",
      "\u001b[0;31mDTypePromotionError\u001b[0m                       Traceback (most recent call last)",
      "Cell \u001b[0;32mIn[68], line 1\u001b[0m\n\u001b[0;32m----> 1\u001b[0m sentinel_era5_data \u001b[38;5;241m=\u001b[39m \u001b[43mnp\u001b[49m\u001b[38;5;241;43m.\u001b[39;49m\u001b[43mcolumn_stack\u001b[49m\u001b[43m(\u001b[49m\u001b[43m(\u001b[49m\u001b[43msentinel_coords\u001b[49m\u001b[43m,\u001b[49m\u001b[43m \u001b[49m\u001b[43mu10_sentinel\u001b[49m\u001b[43m,\u001b[49m\u001b[43m \u001b[49m\u001b[43mv10_sentinel\u001b[49m\u001b[43m,\u001b[49m\u001b[43m \u001b[49m\u001b[43mnp\u001b[49m\u001b[38;5;241;43m.\u001b[39;49m\u001b[43mfull\u001b[49m\u001b[43m(\u001b[49m\u001b[38;5;28;43mlen\u001b[39;49m\u001b[43m(\u001b[49m\u001b[43msentinel_coords\u001b[49m\u001b[43m)\u001b[49m\u001b[43m,\u001b[49m\u001b[43m \u001b[49m\u001b[43mmatched_era5_time\u001b[49m\u001b[43m)\u001b[49m\u001b[43m)\u001b[49m\u001b[43m)\u001b[49m\n",
      "File \u001b[0;32m~/.conda/envs/cris_env/lib/python3.12/site-packages/numpy/lib/shape_base.py:652\u001b[0m, in \u001b[0;36mcolumn_stack\u001b[0;34m(tup)\u001b[0m\n\u001b[1;32m    650\u001b[0m         arr \u001b[38;5;241m=\u001b[39m array(arr, copy\u001b[38;5;241m=\u001b[39m\u001b[38;5;28;01mFalse\u001b[39;00m, subok\u001b[38;5;241m=\u001b[39m\u001b[38;5;28;01mTrue\u001b[39;00m, ndmin\u001b[38;5;241m=\u001b[39m\u001b[38;5;241m2\u001b[39m)\u001b[38;5;241m.\u001b[39mT\n\u001b[1;32m    651\u001b[0m     arrays\u001b[38;5;241m.\u001b[39mappend(arr)\n\u001b[0;32m--> 652\u001b[0m \u001b[38;5;28;01mreturn\u001b[39;00m \u001b[43m_nx\u001b[49m\u001b[38;5;241;43m.\u001b[39;49m\u001b[43mconcatenate\u001b[49m\u001b[43m(\u001b[49m\u001b[43marrays\u001b[49m\u001b[43m,\u001b[49m\u001b[43m \u001b[49m\u001b[38;5;241;43m1\u001b[39;49m\u001b[43m)\u001b[49m\n",
      "\u001b[0;31mDTypePromotionError\u001b[0m: The DType <class 'numpy.dtypes.DateTime64DType'> could not be promoted by <class 'numpy.dtypes.Float32DType'>. This means that no common DType exists for the given inputs. For example they cannot be stored in a single array unless the dtype is `object`. The full list of DTypes is: (<class 'numpy.dtypes.Float32DType'>, <class 'numpy.dtypes.Float32DType'>, <class 'numpy.dtypes.Float32DType'>, <class 'numpy.dtypes.DateTime64DType'>)"
     ]
    }
   ],
   "source": [
    "sentinel_era5_data = np.column_stack((sentinel_coords, u10_sentinel, v10_sentinel, np.full(len(sentinel_coords), matched_era5_time)))\n"
   ]
  },
  {
   "cell_type": "code",
   "execution_count": 69,
   "id": "903cd616-34c2-42c1-8494-06611f4643ce",
   "metadata": {},
   "outputs": [],
   "source": [
    "import pandas as pd\n",
    "\n",
    "df = pd.DataFrame({\n",
    "    \"latitude\": sentinel_coords[:, 0],\n",
    "    \"longitude\": sentinel_coords[:, 1],\n",
    "    \"u10\": u10_sentinel,\n",
    "    \"v10\": v10_sentinel,\n",
    "    \"time\": matched_era5_time\n",
    "})\n"
   ]
  },
  {
   "cell_type": "code",
   "execution_count": null,
   "id": "cef09778-81d4-4627-8d1d-0603d48b7823",
   "metadata": {},
   "outputs": [],
   "source": []
  },
  {
   "cell_type": "code",
   "execution_count": 71,
   "id": "4f3310cd-ac1f-4801-9694-99d069721680",
   "metadata": {},
   "outputs": [
    {
     "data": {
      "text/html": [
       "<div>\n",
       "<style scoped>\n",
       "    .dataframe tbody tr th:only-of-type {\n",
       "        vertical-align: middle;\n",
       "    }\n",
       "\n",
       "    .dataframe tbody tr th {\n",
       "        vertical-align: top;\n",
       "    }\n",
       "\n",
       "    .dataframe thead th {\n",
       "        text-align: right;\n",
       "    }\n",
       "</style>\n",
       "<table border=\"1\" class=\"dataframe\">\n",
       "  <thead>\n",
       "    <tr style=\"text-align: right;\">\n",
       "      <th></th>\n",
       "      <th>latitude</th>\n",
       "      <th>longitude</th>\n",
       "      <th>u10</th>\n",
       "      <th>v10</th>\n",
       "      <th>time</th>\n",
       "    </tr>\n",
       "  </thead>\n",
       "  <tbody>\n",
       "    <tr>\n",
       "      <th>0</th>\n",
       "      <td>41.511654</td>\n",
       "      <td>-71.366455</td>\n",
       "      <td>-2.173737</td>\n",
       "      <td>-7.981781</td>\n",
       "      <td>2023-01-23 11:00:00</td>\n",
       "    </tr>\n",
       "    <tr>\n",
       "      <th>1</th>\n",
       "      <td>41.513363</td>\n",
       "      <td>-71.378273</td>\n",
       "      <td>-1.899323</td>\n",
       "      <td>-6.183929</td>\n",
       "      <td>2023-01-23 11:00:00</td>\n",
       "    </tr>\n",
       "    <tr>\n",
       "      <th>2</th>\n",
       "      <td>41.515072</td>\n",
       "      <td>-71.390099</td>\n",
       "      <td>-1.899323</td>\n",
       "      <td>-6.183929</td>\n",
       "      <td>2023-01-23 11:00:00</td>\n",
       "    </tr>\n",
       "    <tr>\n",
       "      <th>3</th>\n",
       "      <td>41.516781</td>\n",
       "      <td>-71.401917</td>\n",
       "      <td>-1.899323</td>\n",
       "      <td>-6.183929</td>\n",
       "      <td>2023-01-23 11:00:00</td>\n",
       "    </tr>\n",
       "    <tr>\n",
       "      <th>4</th>\n",
       "      <td>41.518486</td>\n",
       "      <td>-71.413750</td>\n",
       "      <td>-1.899323</td>\n",
       "      <td>-6.183929</td>\n",
       "      <td>2023-01-23 11:00:00</td>\n",
       "    </tr>\n",
       "    <tr>\n",
       "      <th>...</th>\n",
       "      <td>...</td>\n",
       "      <td>...</td>\n",
       "      <td>...</td>\n",
       "      <td>...</td>\n",
       "      <td>...</td>\n",
       "    </tr>\n",
       "    <tr>\n",
       "      <th>37945</th>\n",
       "      <td>40.556805</td>\n",
       "      <td>-74.587097</td>\n",
       "      <td>-0.279205</td>\n",
       "      <td>-2.943695</td>\n",
       "      <td>2023-01-23 11:00:00</td>\n",
       "    </tr>\n",
       "    <tr>\n",
       "      <th>37946</th>\n",
       "      <td>40.558212</td>\n",
       "      <td>-74.598755</td>\n",
       "      <td>-0.279205</td>\n",
       "      <td>-2.943695</td>\n",
       "      <td>2023-01-23 11:00:00</td>\n",
       "    </tr>\n",
       "    <tr>\n",
       "      <th>37947</th>\n",
       "      <td>40.559620</td>\n",
       "      <td>-74.610420</td>\n",
       "      <td>-0.279205</td>\n",
       "      <td>-2.943695</td>\n",
       "      <td>2023-01-23 11:00:00</td>\n",
       "    </tr>\n",
       "    <tr>\n",
       "      <th>37948</th>\n",
       "      <td>40.561024</td>\n",
       "      <td>-74.622086</td>\n",
       "      <td>-0.279205</td>\n",
       "      <td>-2.943695</td>\n",
       "      <td>2023-01-23 11:00:00</td>\n",
       "    </tr>\n",
       "    <tr>\n",
       "      <th>37949</th>\n",
       "      <td>40.562428</td>\n",
       "      <td>-74.633759</td>\n",
       "      <td>0.256927</td>\n",
       "      <td>-2.536469</td>\n",
       "      <td>2023-01-23 11:00:00</td>\n",
       "    </tr>\n",
       "  </tbody>\n",
       "</table>\n",
       "<p>37950 rows × 5 columns</p>\n",
       "</div>"
      ],
      "text/plain": [
       "        latitude  longitude       u10       v10                time\n",
       "0      41.511654 -71.366455 -2.173737 -7.981781 2023-01-23 11:00:00\n",
       "1      41.513363 -71.378273 -1.899323 -6.183929 2023-01-23 11:00:00\n",
       "2      41.515072 -71.390099 -1.899323 -6.183929 2023-01-23 11:00:00\n",
       "3      41.516781 -71.401917 -1.899323 -6.183929 2023-01-23 11:00:00\n",
       "4      41.518486 -71.413750 -1.899323 -6.183929 2023-01-23 11:00:00\n",
       "...          ...        ...       ...       ...                 ...\n",
       "37945  40.556805 -74.587097 -0.279205 -2.943695 2023-01-23 11:00:00\n",
       "37946  40.558212 -74.598755 -0.279205 -2.943695 2023-01-23 11:00:00\n",
       "37947  40.559620 -74.610420 -0.279205 -2.943695 2023-01-23 11:00:00\n",
       "37948  40.561024 -74.622086 -0.279205 -2.943695 2023-01-23 11:00:00\n",
       "37949  40.562428 -74.633759  0.256927 -2.536469 2023-01-23 11:00:00\n",
       "\n",
       "[37950 rows x 5 columns]"
      ]
     },
     "execution_count": 71,
     "metadata": {},
     "output_type": "execute_result"
    }
   ],
   "source": [
    "df"
   ]
  },
  {
   "cell_type": "code",
   "execution_count": null,
   "id": "685f3614-2de9-48f1-9e26-231e8292203e",
   "metadata": {},
   "outputs": [],
   "source": [
    "# Convert GRIB and Sentinel-1 times to pandas DateTime format\n",
    "grib_times = pd.to_datetime(ds[\"time\"].values)\n",
    "sentinel_df[\"datetime\"] = pd.to_datetime(sentinel_df[\"timestamp\"])  # Assuming Sentinel timestamps\n",
    "\n",
    "# Find closest GRIB timestamp for each Sentinel-1 record\n",
    "sentinel_df[\"matched_time\"] = sentinel_df[\"datetime\"].apply(lambda x: grib_times[np.argmin(np.abs(grib_times - x))])\n"
   ]
  },
  {
   "cell_type": "markdown",
   "id": "78befc14-9e00-45a9-9671-4b82dd7114bd",
   "metadata": {},
   "source": [
    "# Extract Wind Data"
   ]
  },
  {
   "cell_type": "code",
   "execution_count": null,
   "id": "06cf091b-b0d4-4c8a-8787-0597ae8e39af",
   "metadata": {},
   "outputs": [],
   "source": [
    "# Function to extract wind data from GRIB dataset\n",
    "def get_grib_wind(lat, lon, time):\n",
    "    return ds.sel(latitude=lat, longitude=lon, time=time, method=\"nearest\")\n",
    "\n",
    "# Apply to Sentinel-1 matched points\n",
    "sentinel_df[\"u10\"] = sentinel_df.apply(lambda row: get_grib_wind(row.matched_lat, row.matched_lon, row.matched_time)[\"u10\"].values, axis=1)\n",
    "sentinel_df[\"v10\"] = sentinel_df.apply(lambda row: get_grib_wind(row.matched_lat, row.matched_lon, row.matched_time)[\"v10\"].values, axis=1)\n"
   ]
  },
  {
   "cell_type": "markdown",
   "id": "9974abac-c7e7-46b8-992c-e37146013350",
   "metadata": {},
   "source": [
    "# Sample code on 02/19/2025"
   ]
  },
  {
   "cell_type": "raw",
   "id": "e6651184-34e6-4ff8-951b-1e98a9a1af01",
   "metadata": {},
   "source": [
    "import numpy as np\n",
    "import xarray as xr\n",
    "\n",
    "# Open the ERA5 dataset (using cfgrib engine)\n",
    "era5_ds = xr.open_dataset(era_path, engine='cfgrib')\n",
    "\n",
    "# Extract key variables\n",
    "u10 = era5_ds[\"u10\"]  # 10m wind component U\n",
    "v10 = era5_ds[\"v10\"]  # 10m wind component V\n",
    "\n",
    "# Extract ERA5 time as a NumPy array of datetime64 (nanosecond precision)\n",
    "era5_times = era5_ds[\"time\"].values.astype(\"datetime64[ns]\")\n",
    "\n",
    "# ----- Matching Coordinates (Your Provided Code) -----\n",
    "# Extract coordinates for ERA5 and Sentinel\n",
    "lat = era5_ds[\"latitude\"].values\n",
    "lon = era5_ds[\"longitude\"].values\n",
    "sentinel_lat = all_arrays[0][2].ravel()\n",
    "sentinel_lon = all_arrays[0][3].ravel()\n",
    "sentinel_coords = np.column_stack((sentinel_lat, sentinel_lon))\n",
    "grib_coords = np.array(np.meshgrid(lat, lon)).T.reshape(-1, 2)\n",
    "\n",
    "from scipy.spatial import cKDTree\n",
    "tree = cKDTree(grib_coords)\n",
    "_, idxs = tree.query(sentinel_coords)\n",
    "matched_lat_lon = grib_coords[idxs]\n",
    "\n",
    "# ----- Matching Times Without Pandas -----\n",
    "# Assume you have Sentinel-1 timestamps in a NumPy array (or list) of strings,\n",
    "# for example: ['2025-01-01T12:00:00', '2025-01-01T12:01:00', ...]\n",
    "sentinel_timestamps = np.array([...])  # replace with your Sentinel timestamps\n",
    "\n",
    "# Convert Sentinel timestamps to NumPy datetime64 format\n",
    "sentinel_times = sentinel_timestamps.astype(\"datetime64[ns]\")\n",
    "\n",
    "# For each Sentinel time, find the closest ERA5 time\n",
    "def find_nearest_time(s_time, era_times):\n",
    "    # Calculate absolute differences (this works because datetime64 objects can be subtracted)\n",
    "    differences = np.abs(era_times - s_time)\n",
    "    # Return the ERA5 time with the minimum difference\n",
    "    return era_times[differences.argmin()]\n",
    "\n",
    "# Apply the function to each Sentinel timestamp (using a list comprehension)\n",
    "matched_era5_times = np.array([find_nearest_time(s_time, era5_times) for s_time in sentinel_times])\n",
    "\n",
    "# Optionally, if you want to match the ERA5 wind data to the Sentinel timestamps,\n",
    "# you can interpolate the ERA5 dataset in time:\n",
    "era5_interp = era5_ds.interp(time=sentinel_times)\n",
    "\n",
    "# Now, era5_interp[\"u10\"] and era5_interp[\"v10\"] hold wind data at the Sentinel times\n",
    "\n",
    "# ----- Downsampling the Wind Data -----\n",
    "# If your goal is to reduce the ERA5 wind data resolution (e.g., from 1-hourly to 3-hourly averages)\n",
    "# you can use xarray's resample method. For example, to get 3-hourly means:\n",
    "era5_ds_downsampled = era5_ds.resample(time=\"3H\").mean()\n",
    "\n",
    "# Extract downsampled wind components\n",
    "u10_downsampled = era5_ds_downsampled[\"u10\"]\n",
    "v10_downsampled = era5_ds_downsampled[\"v10\"]\n",
    "\n",
    "# You can then use these downsampled values for further comparison with Sentinel-1 data.\n"
   ]
  },
  {
   "cell_type": "markdown",
   "id": "678c909c-85fa-4c14-8041-74f497272d52",
   "metadata": {},
   "source": [
    "# Reproject coordinate reference system\n"
   ]
  },
  {
   "cell_type": "code",
   "execution_count": null,
   "id": "e52d83be-3e7b-489c-a0b5-25d2f582c002",
   "metadata": {},
   "outputs": [],
   "source": []
  },
  {
   "cell_type": "code",
   "execution_count": 9,
   "id": "339d3968-ca74-478b-9c1a-76be7e0d7fab",
   "metadata": {},
   "outputs": [],
   "source": [
    "# Define the source and target CRS (WGS84 to LCC)\n",
    "source_crs = \"EPSG:4326\"  # WGS84 (lat/lon)\n",
    "target_crs = '+proj=lcc +lat_1=34.45660400390625 +lat_2=43.251747131347656 +lon_0=-71.37067794799805 +lat_0=38.85417556762695 +datum=WGS84'\n",
    "\n",
    "# Create a Transformer object for converting from WGS84 to LCC\n",
    "transformer = Transformer.from_crs(source_crs, target_crs)\n",
    "\n",
    "# Convert lat/lon to projected x, y coordinates\n",
    "# df['x'], df['y'] = transformer.transform(df['Lat'].values, df['Lon'].values)"
   ]
  },
  {
   "cell_type": "code",
   "execution_count": 8,
   "id": "095c808f-e9da-40a8-abf3-7319d0f9e367",
   "metadata": {},
   "outputs": [
    {
     "name": "stdout",
     "output_type": "stream",
     "text": [
      "Coordinates:\n",
      "    number         int64 8B ...\n",
      "  * time           (time) datetime64[ns] 70kB 2023-01-01 ... 2023-12-31T23:00:00\n",
      "    step           timedelta64[ns] 8B ...\n",
      "    isobaricInhPa  float64 8B ...\n",
      "  * latitude       (latitude) float64 312B 43.5 43.25 43.0 ... 34.5 34.25 34.0\n",
      "  * longitude      (longitude) float64 344B -76.5 -76.25 -76.0 ... -66.25 -66.0\n",
      "    valid_time     (time) datetime64[ns] 70kB ...\n",
      "<xarray.DataArray 'latitude' (latitude: 39)> Size: 312B\n",
      "array([43.5 , 43.25, 43.  , 42.75, 42.5 , 42.25, 42.  , 41.75, 41.5 , 41.25,\n",
      "       41.  , 40.75, 40.5 , 40.25, 40.  , 39.75, 39.5 , 39.25, 39.  , 38.75,\n",
      "       38.5 , 38.25, 38.  , 37.75, 37.5 , 37.25, 37.  , 36.75, 36.5 , 36.25,\n",
      "       36.  , 35.75, 35.5 , 35.25, 35.  , 34.75, 34.5 , 34.25, 34.  ])\n",
      "Coordinates:\n",
      "    number         int64 8B ...\n",
      "    step           timedelta64[ns] 8B ...\n",
      "    isobaricInhPa  float64 8B ...\n",
      "  * latitude       (latitude) float64 312B 43.5 43.25 43.0 ... 34.5 34.25 34.0\n",
      "Attributes:\n",
      "    units:             degrees_north\n",
      "    standard_name:     latitude\n",
      "    long_name:         latitude\n",
      "    stored_direction:  decreasing\n",
      "<xarray.DataArray 'longitude' (longitude: 43)> Size: 344B\n",
      "array([-76.5 , -76.25, -76.  , -75.75, -75.5 , -75.25, -75.  , -74.75, -74.5 ,\n",
      "       -74.25, -74.  , -73.75, -73.5 , -73.25, -73.  , -72.75, -72.5 , -72.25,\n",
      "       -72.  , -71.75, -71.5 , -71.25, -71.  , -70.75, -70.5 , -70.25, -70.  ,\n",
      "       -69.75, -69.5 , -69.25, -69.  , -68.75, -68.5 , -68.25, -68.  , -67.75,\n",
      "       -67.5 , -67.25, -67.  , -66.75, -66.5 , -66.25, -66.  ])\n",
      "Coordinates:\n",
      "    number         int64 8B ...\n",
      "    step           timedelta64[ns] 8B ...\n",
      "    isobaricInhPa  float64 8B ...\n",
      "  * longitude      (longitude) float64 344B -76.5 -76.25 -76.0 ... -66.25 -66.0\n",
      "Attributes:\n",
      "    units:          degrees_east\n",
      "    standard_name:  longitude\n",
      "    long_name:      longitude\n"
     ]
    }
   ],
   "source": [
    "# Check the coordinates (e.g., time, lat, lon)\n",
    "print(ds.coords)\n",
    "\n",
    "# Access specific coordinates, e.g., latitude and longitude\n",
    "print(ds.coords['latitude'])\n",
    "print(ds.coords['longitude'])\n"
   ]
  },
  {
   "cell_type": "markdown",
   "id": "a78bf872-bf91-499e-89a4-7d466b45e32a",
   "metadata": {},
   "source": [
    "Do I have to match Sentinel-1 products one by one?\n",
    "Yes, since Sentinel-1 provides discrete SAR images with different timestamps and locations, you’ll need to process each product separately. The workflow would look like this:\n",
    "\n",
    "Loop through Sentinel-1 products\n",
    "Read the metadata (timestamp, lat/lon grid).\n",
    "Find the closest GRIB timestamps and grid points.\n",
    "Extract the corresponding wind data.\n",
    "Store results\n",
    "Save the matched data for each Sentinel-1 product.\n",
    "Combine results into a larger dataset if needed.\n",
    "If you're dealing with many Sentinel-1 products, consider automating the process with a script that loops through all available images.\n",
    "\n",
    "2. How does the nearest-neighbor search work?\n",
    "We use k-dimensional tree (KDTree) from scipy.spatial.cKDTree to efficiently find the nearest point in your GRIB grid. Here’s how it works:\n",
    "\n",
    "Convert GRIB grid points into a KDTree\n",
    "\n",
    "This organizes latitude-longitude points into a data structure optimized for fast searching.\n",
    "It reduces the computational cost from O(n) (brute force) to O(log n) (KDTree search).\n",
    "Query the nearest neighbor for each Sentinel-1 coordinate\n",
    "\n",
    "For every Sentinel-1 lat/lon, the KDTree finds the closest GRIB grid point using Euclidean distance in 2D space.\n",
    "💡 Alternative: Instead of a pure nearest-neighbor approach, you could use bilinear interpolation to compute values from the four nearest grid points.\n",
    "\n",
    "3. Should I project coordinates before matching?\n",
    "Using latitude and longitude directly assumes distances are uniform, which is not true, especially at high latitudes.\n",
    "\n",
    "The Earth is not a perfect sphere; distances in degrees vary depending on location.\n",
    "Using (lat, lon) as if they were Cartesian coordinates can introduce small errors.\n",
    "Best Approach: Use an Equal-Area Projection (like Lambert)\n",
    "Why?\n",
    "\n",
    "It preserves distances locally, making nearest-neighbor searches more accurate.\n",
    "Wind data typically benefits from Lambert Conformal Conic (LCC) projection, commonly used for meteorological models.\n",
    "How to Reproject to Lambert Projection (EPSG:4326 → EPSG:3031 or LCC)?\n",
    "You can transform the coordinates using pyproj:\n",
    "\n",
    "python\n",
    "Copy\n",
    "Edit\n",
    "from pyproj import Transformer\n",
    "\n",
    "# Define transformation from WGS84 (lat/lon) to Lambert projection\n",
    "transformer = Transformer.from_crs(\"EPSG:4326\", \"EPSG:3031\", always_xy=True)\n",
    "\n",
    "# Convert GRIB coordinates\n",
    "grib_x, grib_y = transformer.transform(lon, lat)\n",
    "\n",
    "# Convert Sentinel-1 coordinates\n",
    "sentinel_x, sentinel_y = transformer.transform(sentinel_df[\"lon\"], sentinel_df[\"lat\"])\n",
    "Now, use (grib_x, grib_y) instead of (lat, lon) in the KDTree nearest-neighbor search.\n",
    "\n",
    "What If You Skip Projection?\n",
    "If your study area is small (e.g., offshore wind near New Jersey), errors may be minor.\n",
    "If working globally, projection is highly recommended.\n",
    "Final Thoughts\n",
    "If Sentinel-1 images are spread over time and space, loop through them product by product.\n",
    "Using KDTree nearest-neighbor is fast, but consider bilinear interpolation for smoother values.\n",
    "Projecting to Lambert (or another suitable projection) is best, especially for accurate spatial matching.\n",
    "Would you like help implementing the Lambert projection step in your workflow? 🚀"
   ]
  },
  {
   "cell_type": "code",
   "execution_count": null,
   "id": "75ffd0e8-d761-41fd-a598-e8a237467cd7",
   "metadata": {},
   "outputs": [],
   "source": []
  }
 ],
 "metadata": {
  "kernelspec": {
   "display_name": "Python (cris_env)",
   "language": "python",
   "name": "cris_env"
  },
  "language_info": {
   "codemirror_mode": {
    "name": "ipython",
    "version": 3
   },
   "file_extension": ".py",
   "mimetype": "text/x-python",
   "name": "python",
   "nbconvert_exporter": "python",
   "pygments_lexer": "ipython3",
   "version": "3.12.2"
  },
  "toc-autonumbering": true,
  "toc-showcode": false,
  "toc-showmarkdowntxt": false
 },
 "nbformat": 4,
 "nbformat_minor": 5
}
