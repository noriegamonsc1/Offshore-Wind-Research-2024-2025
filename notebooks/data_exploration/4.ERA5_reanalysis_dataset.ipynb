{
 "cells": [
  {
   "cell_type": "code",
   "execution_count": 1,
   "id": "82b5bbb2-0296-45ab-aefc-a3dfa05ba5a2",
   "metadata": {},
   "outputs": [
    {
     "name": "stderr",
     "output_type": "stream",
     "text": [
      "\u001b[32m2025-02-28 09:13:09.154\u001b[0m | \u001b[1mINFO    \u001b[0m | \u001b[36moffshore_wind_nj.config\u001b[0m:\u001b[36m<module>\u001b[0m:\u001b[36m11\u001b[0m - \u001b[1mPROJ_ROOT path is: /nfs/storage1/home/noriegac/Documents/Offshore_Wind_Research\u001b[0m\n"
     ]
    }
   ],
   "source": [
    "import sys\n",
    "import os\n",
    "import numpy as np\n",
    "\n",
    "sys.path.append(os.path.abspath('../..'))\n",
    "\n",
    "from offshore_wind_nj.config import INTERIM_DATA_DIR, ERA5_DATA_DIR\n",
    "import matplotlib.pyplot as plt\n",
    "from pyproj import Proj, Transformer\n",
    "\n",
    "# import pygrib\n",
    "\n",
    "import xarray as xr\n",
    "from scipy.spatial import cKDTree\n",
    "import torch"
   ]
  },
  {
   "cell_type": "code",
   "execution_count": 2,
   "id": "5eb071fa-81b7-4a60-a7d9-90b8eff9c038",
   "metadata": {},
   "outputs": [
    {
     "name": "stdout",
     "output_type": "stream",
     "text": [
      "{'netcdf4': <NetCDF4BackendEntrypoint>\n",
      "  Open netCDF (.nc, .nc4 and .cdf) and most HDF5 files using netCDF4 in Xarray\n",
      "  Learn more at https://docs.xarray.dev/en/stable/generated/xarray.backends.NetCDF4BackendEntrypoint.html, 'scipy': <ScipyBackendEntrypoint>\n",
      "  Open netCDF files (.nc, .nc4, .cdf and .gz) using scipy in Xarray\n",
      "  Learn more at https://docs.xarray.dev/en/stable/generated/xarray.backends.ScipyBackendEntrypoint.html, 'cfgrib': <CfGribBackend>\n",
      "  Open GRIB files (.grib, .grib2, .grb and .grb2) in Xarray\n",
      "  Learn more at https://github.com/ecmwf/cfgrib, 'store': <StoreBackendEntrypoint>\n",
      "  Open AbstractDataStore instances in Xarray\n",
      "  Learn more at https://docs.xarray.dev/en/stable/generated/xarray.backends.StoreBackendEntrypoint.html}\n"
     ]
    },
    {
     "name": "stderr",
     "output_type": "stream",
     "text": [
      "/home/noriegac/.conda/envs/cris_env/lib/python3.12/site-packages/gribapi/__init__.py:23: UserWarning: ecCodes 2.31.0 or higher is recommended. You are running version 2.26.0\n",
      "  warnings.warn(\n"
     ]
    }
   ],
   "source": [
    "print(xr.backends.plugins.list_engines())\n"
   ]
  },
  {
   "cell_type": "markdown",
   "id": "98f690f6-d9b5-4015-b3f2-7449bc080ef0",
   "metadata": {},
   "source": [
    "# Load the ERA5 Reanalysis dataset"
   ]
  },
  {
   "cell_type": "code",
   "execution_count": 3,
   "id": "0e780ad4-9869-4cb7-8dbb-05b0f03aaee5",
   "metadata": {},
   "outputs": [],
   "source": [
    "era_path = os.path.join(ERA5_DATA_DIR, 'ERA5_2023_TO_2024.grib')"
   ]
  },
  {
   "cell_type": "code",
   "execution_count": 4,
   "id": "5af0f4c8-89a9-49f3-ac1d-7f03d02b36f8",
   "metadata": {},
   "outputs": [
    {
     "name": "stderr",
     "output_type": "stream",
     "text": [
      "/home/noriegac/.conda/envs/cris_env/lib/python3.12/site-packages/cfgrib/xarray_plugin.py:131: FutureWarning: In a future version of xarray decode_timedelta will default to False rather than None. To silence this warning, set decode_timedelta to True, False, or a 'CFTimedeltaCoder' instance.\n",
      "  vars, attrs, coord_names = xr.conventions.decode_cf_variables(\n"
     ]
    }
   ],
   "source": [
    "era5_ds = xr.open_dataset(era_path, engine='cfgrib')"
   ]
  },
  {
   "cell_type": "markdown",
   "id": "ddafabf6-52a0-4871-9edf-0b5a40adba10",
   "metadata": {
    "tags": []
   },
   "source": [
    "## Inspect ERA5 Reanalysis dataset"
   ]
  },
  {
   "cell_type": "code",
   "execution_count": 8,
   "id": "4b4d6a7d-8829-4a6c-9a17-bbc674111294",
   "metadata": {},
   "outputs": [
    {
     "data": {
      "text/html": [
       "<div><svg style=\"position: absolute; width: 0; height: 0; overflow: hidden\">\n",
       "<defs>\n",
       "<symbol id=\"icon-database\" viewBox=\"0 0 32 32\">\n",
       "<path d=\"M16 0c-8.837 0-16 2.239-16 5v4c0 2.761 7.163 5 16 5s16-2.239 16-5v-4c0-2.761-7.163-5-16-5z\"></path>\n",
       "<path d=\"M16 17c-8.837 0-16-2.239-16-5v6c0 2.761 7.163 5 16 5s16-2.239 16-5v-6c0 2.761-7.163 5-16 5z\"></path>\n",
       "<path d=\"M16 26c-8.837 0-16-2.239-16-5v6c0 2.761 7.163 5 16 5s16-2.239 16-5v-6c0 2.761-7.163 5-16 5z\"></path>\n",
       "</symbol>\n",
       "<symbol id=\"icon-file-text2\" viewBox=\"0 0 32 32\">\n",
       "<path d=\"M28.681 7.159c-0.694-0.947-1.662-2.053-2.724-3.116s-2.169-2.030-3.116-2.724c-1.612-1.182-2.393-1.319-2.841-1.319h-15.5c-1.378 0-2.5 1.121-2.5 2.5v27c0 1.378 1.122 2.5 2.5 2.5h23c1.378 0 2.5-1.122 2.5-2.5v-19.5c0-0.448-0.137-1.23-1.319-2.841zM24.543 5.457c0.959 0.959 1.712 1.825 2.268 2.543h-4.811v-4.811c0.718 0.556 1.584 1.309 2.543 2.268zM28 29.5c0 0.271-0.229 0.5-0.5 0.5h-23c-0.271 0-0.5-0.229-0.5-0.5v-27c0-0.271 0.229-0.5 0.5-0.5 0 0 15.499-0 15.5 0v7c0 0.552 0.448 1 1 1h7v19.5z\"></path>\n",
       "<path d=\"M23 26h-14c-0.552 0-1-0.448-1-1s0.448-1 1-1h14c0.552 0 1 0.448 1 1s-0.448 1-1 1z\"></path>\n",
       "<path d=\"M23 22h-14c-0.552 0-1-0.448-1-1s0.448-1 1-1h14c0.552 0 1 0.448 1 1s-0.448 1-1 1z\"></path>\n",
       "<path d=\"M23 18h-14c-0.552 0-1-0.448-1-1s0.448-1 1-1h14c0.552 0 1 0.448 1 1s-0.448 1-1 1z\"></path>\n",
       "</symbol>\n",
       "</defs>\n",
       "</svg>\n",
       "<style>/* CSS stylesheet for displaying xarray objects in jupyterlab.\n",
       " *\n",
       " */\n",
       "\n",
       ":root {\n",
       "  --xr-font-color0: var(--jp-content-font-color0, rgba(0, 0, 0, 1));\n",
       "  --xr-font-color2: var(--jp-content-font-color2, rgba(0, 0, 0, 0.54));\n",
       "  --xr-font-color3: var(--jp-content-font-color3, rgba(0, 0, 0, 0.38));\n",
       "  --xr-border-color: var(--jp-border-color2, #e0e0e0);\n",
       "  --xr-disabled-color: var(--jp-layout-color3, #bdbdbd);\n",
       "  --xr-background-color: var(--jp-layout-color0, white);\n",
       "  --xr-background-color-row-even: var(--jp-layout-color1, white);\n",
       "  --xr-background-color-row-odd: var(--jp-layout-color2, #eeeeee);\n",
       "}\n",
       "\n",
       "html[theme=\"dark\"],\n",
       "html[data-theme=\"dark\"],\n",
       "body[data-theme=\"dark\"],\n",
       "body.vscode-dark {\n",
       "  --xr-font-color0: rgba(255, 255, 255, 1);\n",
       "  --xr-font-color2: rgba(255, 255, 255, 0.54);\n",
       "  --xr-font-color3: rgba(255, 255, 255, 0.38);\n",
       "  --xr-border-color: #1f1f1f;\n",
       "  --xr-disabled-color: #515151;\n",
       "  --xr-background-color: #111111;\n",
       "  --xr-background-color-row-even: #111111;\n",
       "  --xr-background-color-row-odd: #313131;\n",
       "}\n",
       "\n",
       ".xr-wrap {\n",
       "  display: block !important;\n",
       "  min-width: 300px;\n",
       "  max-width: 700px;\n",
       "}\n",
       "\n",
       ".xr-text-repr-fallback {\n",
       "  /* fallback to plain text repr when CSS is not injected (untrusted notebook) */\n",
       "  display: none;\n",
       "}\n",
       "\n",
       ".xr-header {\n",
       "  padding-top: 6px;\n",
       "  padding-bottom: 6px;\n",
       "  margin-bottom: 4px;\n",
       "  border-bottom: solid 1px var(--xr-border-color);\n",
       "}\n",
       "\n",
       ".xr-header > div,\n",
       ".xr-header > ul {\n",
       "  display: inline;\n",
       "  margin-top: 0;\n",
       "  margin-bottom: 0;\n",
       "}\n",
       "\n",
       ".xr-obj-type,\n",
       ".xr-array-name {\n",
       "  margin-left: 2px;\n",
       "  margin-right: 10px;\n",
       "}\n",
       "\n",
       ".xr-obj-type {\n",
       "  color: var(--xr-font-color2);\n",
       "}\n",
       "\n",
       ".xr-sections {\n",
       "  padding-left: 0 !important;\n",
       "  display: grid;\n",
       "  grid-template-columns: 150px auto auto 1fr 0 20px 0 20px;\n",
       "}\n",
       "\n",
       ".xr-section-item {\n",
       "  display: contents;\n",
       "}\n",
       "\n",
       ".xr-section-item input {\n",
       "  display: inline-block;\n",
       "  opacity: 0;\n",
       "  height: 0;\n",
       "}\n",
       "\n",
       ".xr-section-item input + label {\n",
       "  color: var(--xr-disabled-color);\n",
       "}\n",
       "\n",
       ".xr-section-item input:enabled + label {\n",
       "  cursor: pointer;\n",
       "  color: var(--xr-font-color2);\n",
       "}\n",
       "\n",
       ".xr-section-item input:focus + label {\n",
       "  border: 2px solid var(--xr-font-color0);\n",
       "}\n",
       "\n",
       ".xr-section-item input:enabled + label:hover {\n",
       "  color: var(--xr-font-color0);\n",
       "}\n",
       "\n",
       ".xr-section-summary {\n",
       "  grid-column: 1;\n",
       "  color: var(--xr-font-color2);\n",
       "  font-weight: 500;\n",
       "}\n",
       "\n",
       ".xr-section-summary > span {\n",
       "  display: inline-block;\n",
       "  padding-left: 0.5em;\n",
       "}\n",
       "\n",
       ".xr-section-summary-in:disabled + label {\n",
       "  color: var(--xr-font-color2);\n",
       "}\n",
       "\n",
       ".xr-section-summary-in + label:before {\n",
       "  display: inline-block;\n",
       "  content: \"►\";\n",
       "  font-size: 11px;\n",
       "  width: 15px;\n",
       "  text-align: center;\n",
       "}\n",
       "\n",
       ".xr-section-summary-in:disabled + label:before {\n",
       "  color: var(--xr-disabled-color);\n",
       "}\n",
       "\n",
       ".xr-section-summary-in:checked + label:before {\n",
       "  content: \"▼\";\n",
       "}\n",
       "\n",
       ".xr-section-summary-in:checked + label > span {\n",
       "  display: none;\n",
       "}\n",
       "\n",
       ".xr-section-summary,\n",
       ".xr-section-inline-details {\n",
       "  padding-top: 4px;\n",
       "  padding-bottom: 4px;\n",
       "}\n",
       "\n",
       ".xr-section-inline-details {\n",
       "  grid-column: 2 / -1;\n",
       "}\n",
       "\n",
       ".xr-section-details {\n",
       "  display: none;\n",
       "  grid-column: 1 / -1;\n",
       "  margin-bottom: 5px;\n",
       "}\n",
       "\n",
       ".xr-section-summary-in:checked ~ .xr-section-details {\n",
       "  display: contents;\n",
       "}\n",
       "\n",
       ".xr-array-wrap {\n",
       "  grid-column: 1 / -1;\n",
       "  display: grid;\n",
       "  grid-template-columns: 20px auto;\n",
       "}\n",
       "\n",
       ".xr-array-wrap > label {\n",
       "  grid-column: 1;\n",
       "  vertical-align: top;\n",
       "}\n",
       "\n",
       ".xr-preview {\n",
       "  color: var(--xr-font-color3);\n",
       "}\n",
       "\n",
       ".xr-array-preview,\n",
       ".xr-array-data {\n",
       "  padding: 0 5px !important;\n",
       "  grid-column: 2;\n",
       "}\n",
       "\n",
       ".xr-array-data,\n",
       ".xr-array-in:checked ~ .xr-array-preview {\n",
       "  display: none;\n",
       "}\n",
       "\n",
       ".xr-array-in:checked ~ .xr-array-data,\n",
       ".xr-array-preview {\n",
       "  display: inline-block;\n",
       "}\n",
       "\n",
       ".xr-dim-list {\n",
       "  display: inline-block !important;\n",
       "  list-style: none;\n",
       "  padding: 0 !important;\n",
       "  margin: 0;\n",
       "}\n",
       "\n",
       ".xr-dim-list li {\n",
       "  display: inline-block;\n",
       "  padding: 0;\n",
       "  margin: 0;\n",
       "}\n",
       "\n",
       ".xr-dim-list:before {\n",
       "  content: \"(\";\n",
       "}\n",
       "\n",
       ".xr-dim-list:after {\n",
       "  content: \")\";\n",
       "}\n",
       "\n",
       ".xr-dim-list li:not(:last-child):after {\n",
       "  content: \",\";\n",
       "  padding-right: 5px;\n",
       "}\n",
       "\n",
       ".xr-has-index {\n",
       "  font-weight: bold;\n",
       "}\n",
       "\n",
       ".xr-var-list,\n",
       ".xr-var-item {\n",
       "  display: contents;\n",
       "}\n",
       "\n",
       ".xr-var-item > div,\n",
       ".xr-var-item label,\n",
       ".xr-var-item > .xr-var-name span {\n",
       "  background-color: var(--xr-background-color-row-even);\n",
       "  margin-bottom: 0;\n",
       "}\n",
       "\n",
       ".xr-var-item > .xr-var-name:hover span {\n",
       "  padding-right: 5px;\n",
       "}\n",
       "\n",
       ".xr-var-list > li:nth-child(odd) > div,\n",
       ".xr-var-list > li:nth-child(odd) > label,\n",
       ".xr-var-list > li:nth-child(odd) > .xr-var-name span {\n",
       "  background-color: var(--xr-background-color-row-odd);\n",
       "}\n",
       "\n",
       ".xr-var-name {\n",
       "  grid-column: 1;\n",
       "}\n",
       "\n",
       ".xr-var-dims {\n",
       "  grid-column: 2;\n",
       "}\n",
       "\n",
       ".xr-var-dtype {\n",
       "  grid-column: 3;\n",
       "  text-align: right;\n",
       "  color: var(--xr-font-color2);\n",
       "}\n",
       "\n",
       ".xr-var-preview {\n",
       "  grid-column: 4;\n",
       "}\n",
       "\n",
       ".xr-index-preview {\n",
       "  grid-column: 2 / 5;\n",
       "  color: var(--xr-font-color2);\n",
       "}\n",
       "\n",
       ".xr-var-name,\n",
       ".xr-var-dims,\n",
       ".xr-var-dtype,\n",
       ".xr-preview,\n",
       ".xr-attrs dt {\n",
       "  white-space: nowrap;\n",
       "  overflow: hidden;\n",
       "  text-overflow: ellipsis;\n",
       "  padding-right: 10px;\n",
       "}\n",
       "\n",
       ".xr-var-name:hover,\n",
       ".xr-var-dims:hover,\n",
       ".xr-var-dtype:hover,\n",
       ".xr-attrs dt:hover {\n",
       "  overflow: visible;\n",
       "  width: auto;\n",
       "  z-index: 1;\n",
       "}\n",
       "\n",
       ".xr-var-attrs,\n",
       ".xr-var-data,\n",
       ".xr-index-data {\n",
       "  display: none;\n",
       "  background-color: var(--xr-background-color) !important;\n",
       "  padding-bottom: 5px !important;\n",
       "}\n",
       "\n",
       ".xr-var-attrs-in:checked ~ .xr-var-attrs,\n",
       ".xr-var-data-in:checked ~ .xr-var-data,\n",
       ".xr-index-data-in:checked ~ .xr-index-data {\n",
       "  display: block;\n",
       "}\n",
       "\n",
       ".xr-var-data > table {\n",
       "  float: right;\n",
       "}\n",
       "\n",
       ".xr-var-name span,\n",
       ".xr-var-data,\n",
       ".xr-index-name div,\n",
       ".xr-index-data,\n",
       ".xr-attrs {\n",
       "  padding-left: 25px !important;\n",
       "}\n",
       "\n",
       ".xr-attrs,\n",
       ".xr-var-attrs,\n",
       ".xr-var-data,\n",
       ".xr-index-data {\n",
       "  grid-column: 1 / -1;\n",
       "}\n",
       "\n",
       "dl.xr-attrs {\n",
       "  padding: 0;\n",
       "  margin: 0;\n",
       "  display: grid;\n",
       "  grid-template-columns: 125px auto;\n",
       "}\n",
       "\n",
       ".xr-attrs dt,\n",
       ".xr-attrs dd {\n",
       "  padding: 0;\n",
       "  margin: 0;\n",
       "  float: left;\n",
       "  padding-right: 10px;\n",
       "  width: auto;\n",
       "}\n",
       "\n",
       ".xr-attrs dt {\n",
       "  font-weight: normal;\n",
       "  grid-column: 1;\n",
       "}\n",
       "\n",
       ".xr-attrs dt:hover span {\n",
       "  display: inline-block;\n",
       "  background: var(--xr-background-color);\n",
       "  padding-right: 10px;\n",
       "}\n",
       "\n",
       ".xr-attrs dd {\n",
       "  grid-column: 2;\n",
       "  white-space: pre-wrap;\n",
       "  word-break: break-all;\n",
       "}\n",
       "\n",
       ".xr-icon-database,\n",
       ".xr-icon-file-text2,\n",
       ".xr-no-icon {\n",
       "  display: inline-block;\n",
       "  vertical-align: middle;\n",
       "  width: 1em;\n",
       "  height: 1.5em !important;\n",
       "  stroke-width: 0;\n",
       "  stroke: currentColor;\n",
       "  fill: currentColor;\n",
       "}\n",
       "</style><pre class='xr-text-repr-fallback'>&lt;xarray.Dataset&gt; Size: 1GB\n",
       "Dimensions:     (time: 17544, latitude: 45, longitude: 65)\n",
       "Coordinates:\n",
       "    number      int64 8B ...\n",
       "  * time        (time) datetime64[ns] 140kB 2023-01-01 ... 2024-12-31T23:00:00\n",
       "    step        timedelta64[ns] 8B ...\n",
       "    surface     float64 8B ...\n",
       "  * latitude    (latitude) float64 360B 44.0 43.75 43.5 ... 33.5 33.25 33.0\n",
       "  * longitude   (longitude) float64 520B -78.0 -77.75 -77.5 ... -62.25 -62.0\n",
       "    valid_time  (time) datetime64[ns] 140kB ...\n",
       "Data variables:\n",
       "    u10         (time, latitude, longitude) float32 205MB ...\n",
       "    v10         (time, latitude, longitude) float32 205MB ...\n",
       "    u100        (time, latitude, longitude) float32 205MB ...\n",
       "    v100        (time, latitude, longitude) float32 205MB ...\n",
       "    u10n        (time, latitude, longitude) float32 205MB ...\n",
       "    v10n        (time, latitude, longitude) float32 205MB ...\n",
       "Attributes:\n",
       "    GRIB_edition:            1\n",
       "    GRIB_centre:             ecmf\n",
       "    GRIB_centreDescription:  European Centre for Medium-Range Weather Forecasts\n",
       "    GRIB_subCentre:          0\n",
       "    Conventions:             CF-1.7\n",
       "    institution:             European Centre for Medium-Range Weather Forecasts\n",
       "    history:                 2025-02-28T09:13 GRIB to CDM+CF via cfgrib-0.9.1...</pre><div class='xr-wrap' style='display:none'><div class='xr-header'><div class='xr-obj-type'>xarray.Dataset</div></div><ul class='xr-sections'><li class='xr-section-item'><input id='section-f06d2e1d-2dbf-43ed-bf95-e5a937214576' class='xr-section-summary-in' type='checkbox' disabled ><label for='section-f06d2e1d-2dbf-43ed-bf95-e5a937214576' class='xr-section-summary'  title='Expand/collapse section'>Dimensions:</label><div class='xr-section-inline-details'><ul class='xr-dim-list'><li><span class='xr-has-index'>time</span>: 17544</li><li><span class='xr-has-index'>latitude</span>: 45</li><li><span class='xr-has-index'>longitude</span>: 65</li></ul></div><div class='xr-section-details'></div></li><li class='xr-section-item'><input id='section-f46f7fa8-2146-4c7a-8873-8ceca0f73680' class='xr-section-summary-in' type='checkbox'  checked><label for='section-f46f7fa8-2146-4c7a-8873-8ceca0f73680' class='xr-section-summary' >Coordinates: <span>(7)</span></label><div class='xr-section-inline-details'></div><div class='xr-section-details'><ul class='xr-var-list'><li class='xr-var-item'><div class='xr-var-name'><span>number</span></div><div class='xr-var-dims'>()</div><div class='xr-var-dtype'>int64</div><div class='xr-var-preview xr-preview'>...</div><input id='attrs-87dc3682-8f00-4b37-b17a-27d2bb391e51' class='xr-var-attrs-in' type='checkbox' ><label for='attrs-87dc3682-8f00-4b37-b17a-27d2bb391e51' title='Show/Hide attributes'><svg class='icon xr-icon-file-text2'><use xlink:href='#icon-file-text2'></use></svg></label><input id='data-fb2dfc61-31ef-4215-a1d3-b427f6af9297' class='xr-var-data-in' type='checkbox'><label for='data-fb2dfc61-31ef-4215-a1d3-b427f6af9297' title='Show/Hide data repr'><svg class='icon xr-icon-database'><use xlink:href='#icon-database'></use></svg></label><div class='xr-var-attrs'><dl class='xr-attrs'><dt><span>long_name :</span></dt><dd>ensemble member numerical id</dd><dt><span>units :</span></dt><dd>1</dd><dt><span>standard_name :</span></dt><dd>realization</dd></dl></div><div class='xr-var-data'><pre>[1 values with dtype=int64]</pre></div></li><li class='xr-var-item'><div class='xr-var-name'><span class='xr-has-index'>time</span></div><div class='xr-var-dims'>(time)</div><div class='xr-var-dtype'>datetime64[ns]</div><div class='xr-var-preview xr-preview'>2023-01-01 ... 2024-12-31T23:00:00</div><input id='attrs-5b70cab9-20ab-4d12-88c8-b57e28a9b326' class='xr-var-attrs-in' type='checkbox' ><label for='attrs-5b70cab9-20ab-4d12-88c8-b57e28a9b326' title='Show/Hide attributes'><svg class='icon xr-icon-file-text2'><use xlink:href='#icon-file-text2'></use></svg></label><input id='data-b79c7c93-e7fe-4aff-b255-984e8dfd5486' class='xr-var-data-in' type='checkbox'><label for='data-b79c7c93-e7fe-4aff-b255-984e8dfd5486' title='Show/Hide data repr'><svg class='icon xr-icon-database'><use xlink:href='#icon-database'></use></svg></label><div class='xr-var-attrs'><dl class='xr-attrs'><dt><span>long_name :</span></dt><dd>initial time of forecast</dd><dt><span>standard_name :</span></dt><dd>forecast_reference_time</dd></dl></div><div class='xr-var-data'><pre>array([&#x27;2023-01-01T00:00:00.000000000&#x27;, &#x27;2023-01-01T01:00:00.000000000&#x27;,\n",
       "       &#x27;2023-01-01T02:00:00.000000000&#x27;, ..., &#x27;2024-12-31T21:00:00.000000000&#x27;,\n",
       "       &#x27;2024-12-31T22:00:00.000000000&#x27;, &#x27;2024-12-31T23:00:00.000000000&#x27;],\n",
       "      dtype=&#x27;datetime64[ns]&#x27;)</pre></div></li><li class='xr-var-item'><div class='xr-var-name'><span>step</span></div><div class='xr-var-dims'>()</div><div class='xr-var-dtype'>timedelta64[ns]</div><div class='xr-var-preview xr-preview'>...</div><input id='attrs-eb6eff73-a8fb-4187-9b10-74179ae647f3' class='xr-var-attrs-in' type='checkbox' ><label for='attrs-eb6eff73-a8fb-4187-9b10-74179ae647f3' title='Show/Hide attributes'><svg class='icon xr-icon-file-text2'><use xlink:href='#icon-file-text2'></use></svg></label><input id='data-0278b1af-dad8-439c-8d9a-0f23c460d4f5' class='xr-var-data-in' type='checkbox'><label for='data-0278b1af-dad8-439c-8d9a-0f23c460d4f5' title='Show/Hide data repr'><svg class='icon xr-icon-database'><use xlink:href='#icon-database'></use></svg></label><div class='xr-var-attrs'><dl class='xr-attrs'><dt><span>long_name :</span></dt><dd>time since forecast_reference_time</dd><dt><span>standard_name :</span></dt><dd>forecast_period</dd></dl></div><div class='xr-var-data'><pre>[1 values with dtype=timedelta64[ns]]</pre></div></li><li class='xr-var-item'><div class='xr-var-name'><span>surface</span></div><div class='xr-var-dims'>()</div><div class='xr-var-dtype'>float64</div><div class='xr-var-preview xr-preview'>...</div><input id='attrs-43efafff-fdaa-4848-8a67-e4e4587c2582' class='xr-var-attrs-in' type='checkbox' ><label for='attrs-43efafff-fdaa-4848-8a67-e4e4587c2582' title='Show/Hide attributes'><svg class='icon xr-icon-file-text2'><use xlink:href='#icon-file-text2'></use></svg></label><input id='data-4cc962c9-3d36-4515-9205-088eca9b456b' class='xr-var-data-in' type='checkbox'><label for='data-4cc962c9-3d36-4515-9205-088eca9b456b' title='Show/Hide data repr'><svg class='icon xr-icon-database'><use xlink:href='#icon-database'></use></svg></label><div class='xr-var-attrs'><dl class='xr-attrs'><dt><span>long_name :</span></dt><dd>original GRIB coordinate for key: level(surface)</dd><dt><span>units :</span></dt><dd>1</dd></dl></div><div class='xr-var-data'><pre>[1 values with dtype=float64]</pre></div></li><li class='xr-var-item'><div class='xr-var-name'><span class='xr-has-index'>latitude</span></div><div class='xr-var-dims'>(latitude)</div><div class='xr-var-dtype'>float64</div><div class='xr-var-preview xr-preview'>44.0 43.75 43.5 ... 33.5 33.25 33.0</div><input id='attrs-9366c850-a438-4361-a01a-6058cc0d4dfb' class='xr-var-attrs-in' type='checkbox' ><label for='attrs-9366c850-a438-4361-a01a-6058cc0d4dfb' title='Show/Hide attributes'><svg class='icon xr-icon-file-text2'><use xlink:href='#icon-file-text2'></use></svg></label><input id='data-06802698-afe9-4c91-abe5-0f17e0a06a2c' class='xr-var-data-in' type='checkbox'><label for='data-06802698-afe9-4c91-abe5-0f17e0a06a2c' title='Show/Hide data repr'><svg class='icon xr-icon-database'><use xlink:href='#icon-database'></use></svg></label><div class='xr-var-attrs'><dl class='xr-attrs'><dt><span>units :</span></dt><dd>degrees_north</dd><dt><span>standard_name :</span></dt><dd>latitude</dd><dt><span>long_name :</span></dt><dd>latitude</dd><dt><span>stored_direction :</span></dt><dd>decreasing</dd></dl></div><div class='xr-var-data'><pre>array([44.  , 43.75, 43.5 , 43.25, 43.  , 42.75, 42.5 , 42.25, 42.  , 41.75,\n",
       "       41.5 , 41.25, 41.  , 40.75, 40.5 , 40.25, 40.  , 39.75, 39.5 , 39.25,\n",
       "       39.  , 38.75, 38.5 , 38.25, 38.  , 37.75, 37.5 , 37.25, 37.  , 36.75,\n",
       "       36.5 , 36.25, 36.  , 35.75, 35.5 , 35.25, 35.  , 34.75, 34.5 , 34.25,\n",
       "       34.  , 33.75, 33.5 , 33.25, 33.  ])</pre></div></li><li class='xr-var-item'><div class='xr-var-name'><span class='xr-has-index'>longitude</span></div><div class='xr-var-dims'>(longitude)</div><div class='xr-var-dtype'>float64</div><div class='xr-var-preview xr-preview'>-78.0 -77.75 -77.5 ... -62.25 -62.0</div><input id='attrs-97d589c1-5225-4021-9ae1-24b20ece2c5b' class='xr-var-attrs-in' type='checkbox' ><label for='attrs-97d589c1-5225-4021-9ae1-24b20ece2c5b' title='Show/Hide attributes'><svg class='icon xr-icon-file-text2'><use xlink:href='#icon-file-text2'></use></svg></label><input id='data-7df89724-9b3e-455d-be19-503117641e6d' class='xr-var-data-in' type='checkbox'><label for='data-7df89724-9b3e-455d-be19-503117641e6d' title='Show/Hide data repr'><svg class='icon xr-icon-database'><use xlink:href='#icon-database'></use></svg></label><div class='xr-var-attrs'><dl class='xr-attrs'><dt><span>units :</span></dt><dd>degrees_east</dd><dt><span>standard_name :</span></dt><dd>longitude</dd><dt><span>long_name :</span></dt><dd>longitude</dd></dl></div><div class='xr-var-data'><pre>array([-78.  , -77.75, -77.5 , -77.25, -77.  , -76.75, -76.5 , -76.25, -76.  ,\n",
       "       -75.75, -75.5 , -75.25, -75.  , -74.75, -74.5 , -74.25, -74.  , -73.75,\n",
       "       -73.5 , -73.25, -73.  , -72.75, -72.5 , -72.25, -72.  , -71.75, -71.5 ,\n",
       "       -71.25, -71.  , -70.75, -70.5 , -70.25, -70.  , -69.75, -69.5 , -69.25,\n",
       "       -69.  , -68.75, -68.5 , -68.25, -68.  , -67.75, -67.5 , -67.25, -67.  ,\n",
       "       -66.75, -66.5 , -66.25, -66.  , -65.75, -65.5 , -65.25, -65.  , -64.75,\n",
       "       -64.5 , -64.25, -64.  , -63.75, -63.5 , -63.25, -63.  , -62.75, -62.5 ,\n",
       "       -62.25, -62.  ])</pre></div></li><li class='xr-var-item'><div class='xr-var-name'><span>valid_time</span></div><div class='xr-var-dims'>(time)</div><div class='xr-var-dtype'>datetime64[ns]</div><div class='xr-var-preview xr-preview'>...</div><input id='attrs-fafee135-c8b4-40b2-b8ab-6a0c0630d7cb' class='xr-var-attrs-in' type='checkbox' ><label for='attrs-fafee135-c8b4-40b2-b8ab-6a0c0630d7cb' title='Show/Hide attributes'><svg class='icon xr-icon-file-text2'><use xlink:href='#icon-file-text2'></use></svg></label><input id='data-45267933-d4df-4cb8-bed6-68b86d70394b' class='xr-var-data-in' type='checkbox'><label for='data-45267933-d4df-4cb8-bed6-68b86d70394b' title='Show/Hide data repr'><svg class='icon xr-icon-database'><use xlink:href='#icon-database'></use></svg></label><div class='xr-var-attrs'><dl class='xr-attrs'><dt><span>standard_name :</span></dt><dd>time</dd><dt><span>long_name :</span></dt><dd>time</dd></dl></div><div class='xr-var-data'><pre>[17544 values with dtype=datetime64[ns]]</pre></div></li></ul></div></li><li class='xr-section-item'><input id='section-1b39ba5e-5639-4597-82b2-20a8c6f3c673' class='xr-section-summary-in' type='checkbox'  checked><label for='section-1b39ba5e-5639-4597-82b2-20a8c6f3c673' class='xr-section-summary' >Data variables: <span>(6)</span></label><div class='xr-section-inline-details'></div><div class='xr-section-details'><ul class='xr-var-list'><li class='xr-var-item'><div class='xr-var-name'><span>u10</span></div><div class='xr-var-dims'>(time, latitude, longitude)</div><div class='xr-var-dtype'>float32</div><div class='xr-var-preview xr-preview'>...</div><input id='attrs-bdaab532-8db7-404a-9144-d9acec8690e9' class='xr-var-attrs-in' type='checkbox' ><label for='attrs-bdaab532-8db7-404a-9144-d9acec8690e9' title='Show/Hide attributes'><svg class='icon xr-icon-file-text2'><use xlink:href='#icon-file-text2'></use></svg></label><input id='data-e7a91d95-4406-467c-99e2-8d0f645e80c5' class='xr-var-data-in' type='checkbox'><label for='data-e7a91d95-4406-467c-99e2-8d0f645e80c5' title='Show/Hide data repr'><svg class='icon xr-icon-database'><use xlink:href='#icon-database'></use></svg></label><div class='xr-var-attrs'><dl class='xr-attrs'><dt><span>GRIB_paramId :</span></dt><dd>165</dd><dt><span>GRIB_dataType :</span></dt><dd>an</dd><dt><span>GRIB_numberOfPoints :</span></dt><dd>2925</dd><dt><span>GRIB_typeOfLevel :</span></dt><dd>surface</dd><dt><span>GRIB_stepUnits :</span></dt><dd>1</dd><dt><span>GRIB_stepType :</span></dt><dd>instant</dd><dt><span>GRIB_gridType :</span></dt><dd>regular_ll</dd><dt><span>GRIB_uvRelativeToGrid :</span></dt><dd>0</dd><dt><span>GRIB_NV :</span></dt><dd>0</dd><dt><span>GRIB_Nx :</span></dt><dd>65</dd><dt><span>GRIB_Ny :</span></dt><dd>45</dd><dt><span>GRIB_cfName :</span></dt><dd>unknown</dd><dt><span>GRIB_cfVarName :</span></dt><dd>u10</dd><dt><span>GRIB_gridDefinitionDescription :</span></dt><dd>Latitude/Longitude Grid</dd><dt><span>GRIB_iDirectionIncrementInDegrees :</span></dt><dd>0.25</dd><dt><span>GRIB_iScansNegatively :</span></dt><dd>0</dd><dt><span>GRIB_jDirectionIncrementInDegrees :</span></dt><dd>0.25</dd><dt><span>GRIB_jPointsAreConsecutive :</span></dt><dd>0</dd><dt><span>GRIB_jScansPositively :</span></dt><dd>0</dd><dt><span>GRIB_latitudeOfFirstGridPointInDegrees :</span></dt><dd>44.0</dd><dt><span>GRIB_latitudeOfLastGridPointInDegrees :</span></dt><dd>33.0</dd><dt><span>GRIB_longitudeOfFirstGridPointInDegrees :</span></dt><dd>-78.0</dd><dt><span>GRIB_longitudeOfLastGridPointInDegrees :</span></dt><dd>-62.0</dd><dt><span>GRIB_missingValue :</span></dt><dd>3.4028234663852886e+38</dd><dt><span>GRIB_name :</span></dt><dd>10 metre U wind component</dd><dt><span>GRIB_shortName :</span></dt><dd>10u</dd><dt><span>GRIB_totalNumber :</span></dt><dd>0</dd><dt><span>GRIB_units :</span></dt><dd>m s**-1</dd><dt><span>long_name :</span></dt><dd>10 metre U wind component</dd><dt><span>units :</span></dt><dd>m s**-1</dd><dt><span>standard_name :</span></dt><dd>unknown</dd></dl></div><div class='xr-var-data'><pre>[51316200 values with dtype=float32]</pre></div></li><li class='xr-var-item'><div class='xr-var-name'><span>v10</span></div><div class='xr-var-dims'>(time, latitude, longitude)</div><div class='xr-var-dtype'>float32</div><div class='xr-var-preview xr-preview'>...</div><input id='attrs-b2691eea-40a1-460a-af07-e222cdac3d7b' class='xr-var-attrs-in' type='checkbox' ><label for='attrs-b2691eea-40a1-460a-af07-e222cdac3d7b' title='Show/Hide attributes'><svg class='icon xr-icon-file-text2'><use xlink:href='#icon-file-text2'></use></svg></label><input id='data-1da0a886-9100-4550-8b0d-c72e2842e4c2' class='xr-var-data-in' type='checkbox'><label for='data-1da0a886-9100-4550-8b0d-c72e2842e4c2' title='Show/Hide data repr'><svg class='icon xr-icon-database'><use xlink:href='#icon-database'></use></svg></label><div class='xr-var-attrs'><dl class='xr-attrs'><dt><span>GRIB_paramId :</span></dt><dd>166</dd><dt><span>GRIB_dataType :</span></dt><dd>an</dd><dt><span>GRIB_numberOfPoints :</span></dt><dd>2925</dd><dt><span>GRIB_typeOfLevel :</span></dt><dd>surface</dd><dt><span>GRIB_stepUnits :</span></dt><dd>1</dd><dt><span>GRIB_stepType :</span></dt><dd>instant</dd><dt><span>GRIB_gridType :</span></dt><dd>regular_ll</dd><dt><span>GRIB_uvRelativeToGrid :</span></dt><dd>0</dd><dt><span>GRIB_NV :</span></dt><dd>0</dd><dt><span>GRIB_Nx :</span></dt><dd>65</dd><dt><span>GRIB_Ny :</span></dt><dd>45</dd><dt><span>GRIB_cfName :</span></dt><dd>unknown</dd><dt><span>GRIB_cfVarName :</span></dt><dd>v10</dd><dt><span>GRIB_gridDefinitionDescription :</span></dt><dd>Latitude/Longitude Grid</dd><dt><span>GRIB_iDirectionIncrementInDegrees :</span></dt><dd>0.25</dd><dt><span>GRIB_iScansNegatively :</span></dt><dd>0</dd><dt><span>GRIB_jDirectionIncrementInDegrees :</span></dt><dd>0.25</dd><dt><span>GRIB_jPointsAreConsecutive :</span></dt><dd>0</dd><dt><span>GRIB_jScansPositively :</span></dt><dd>0</dd><dt><span>GRIB_latitudeOfFirstGridPointInDegrees :</span></dt><dd>44.0</dd><dt><span>GRIB_latitudeOfLastGridPointInDegrees :</span></dt><dd>33.0</dd><dt><span>GRIB_longitudeOfFirstGridPointInDegrees :</span></dt><dd>-78.0</dd><dt><span>GRIB_longitudeOfLastGridPointInDegrees :</span></dt><dd>-62.0</dd><dt><span>GRIB_missingValue :</span></dt><dd>3.4028234663852886e+38</dd><dt><span>GRIB_name :</span></dt><dd>10 metre V wind component</dd><dt><span>GRIB_shortName :</span></dt><dd>10v</dd><dt><span>GRIB_totalNumber :</span></dt><dd>0</dd><dt><span>GRIB_units :</span></dt><dd>m s**-1</dd><dt><span>long_name :</span></dt><dd>10 metre V wind component</dd><dt><span>units :</span></dt><dd>m s**-1</dd><dt><span>standard_name :</span></dt><dd>unknown</dd></dl></div><div class='xr-var-data'><pre>[51316200 values with dtype=float32]</pre></div></li><li class='xr-var-item'><div class='xr-var-name'><span>u100</span></div><div class='xr-var-dims'>(time, latitude, longitude)</div><div class='xr-var-dtype'>float32</div><div class='xr-var-preview xr-preview'>...</div><input id='attrs-c17c8c2a-980f-4d55-bc06-63a21d892fb8' class='xr-var-attrs-in' type='checkbox' ><label for='attrs-c17c8c2a-980f-4d55-bc06-63a21d892fb8' title='Show/Hide attributes'><svg class='icon xr-icon-file-text2'><use xlink:href='#icon-file-text2'></use></svg></label><input id='data-8dbf0b9f-09a0-491b-a3ac-7f8b1ab3f507' class='xr-var-data-in' type='checkbox'><label for='data-8dbf0b9f-09a0-491b-a3ac-7f8b1ab3f507' title='Show/Hide data repr'><svg class='icon xr-icon-database'><use xlink:href='#icon-database'></use></svg></label><div class='xr-var-attrs'><dl class='xr-attrs'><dt><span>GRIB_paramId :</span></dt><dd>228246</dd><dt><span>GRIB_dataType :</span></dt><dd>an</dd><dt><span>GRIB_numberOfPoints :</span></dt><dd>2925</dd><dt><span>GRIB_typeOfLevel :</span></dt><dd>surface</dd><dt><span>GRIB_stepUnits :</span></dt><dd>1</dd><dt><span>GRIB_stepType :</span></dt><dd>instant</dd><dt><span>GRIB_gridType :</span></dt><dd>regular_ll</dd><dt><span>GRIB_uvRelativeToGrid :</span></dt><dd>0</dd><dt><span>GRIB_NV :</span></dt><dd>0</dd><dt><span>GRIB_Nx :</span></dt><dd>65</dd><dt><span>GRIB_Ny :</span></dt><dd>45</dd><dt><span>GRIB_cfName :</span></dt><dd>unknown</dd><dt><span>GRIB_cfVarName :</span></dt><dd>u100</dd><dt><span>GRIB_gridDefinitionDescription :</span></dt><dd>Latitude/Longitude Grid</dd><dt><span>GRIB_iDirectionIncrementInDegrees :</span></dt><dd>0.25</dd><dt><span>GRIB_iScansNegatively :</span></dt><dd>0</dd><dt><span>GRIB_jDirectionIncrementInDegrees :</span></dt><dd>0.25</dd><dt><span>GRIB_jPointsAreConsecutive :</span></dt><dd>0</dd><dt><span>GRIB_jScansPositively :</span></dt><dd>0</dd><dt><span>GRIB_latitudeOfFirstGridPointInDegrees :</span></dt><dd>44.0</dd><dt><span>GRIB_latitudeOfLastGridPointInDegrees :</span></dt><dd>33.0</dd><dt><span>GRIB_longitudeOfFirstGridPointInDegrees :</span></dt><dd>-78.0</dd><dt><span>GRIB_longitudeOfLastGridPointInDegrees :</span></dt><dd>-62.0</dd><dt><span>GRIB_missingValue :</span></dt><dd>3.4028234663852886e+38</dd><dt><span>GRIB_name :</span></dt><dd>100 metre U wind component</dd><dt><span>GRIB_shortName :</span></dt><dd>100u</dd><dt><span>GRIB_totalNumber :</span></dt><dd>0</dd><dt><span>GRIB_units :</span></dt><dd>m s**-1</dd><dt><span>long_name :</span></dt><dd>100 metre U wind component</dd><dt><span>units :</span></dt><dd>m s**-1</dd><dt><span>standard_name :</span></dt><dd>unknown</dd></dl></div><div class='xr-var-data'><pre>[51316200 values with dtype=float32]</pre></div></li><li class='xr-var-item'><div class='xr-var-name'><span>v100</span></div><div class='xr-var-dims'>(time, latitude, longitude)</div><div class='xr-var-dtype'>float32</div><div class='xr-var-preview xr-preview'>...</div><input id='attrs-2f6ec87f-4bb3-432a-813b-518e8b714258' class='xr-var-attrs-in' type='checkbox' ><label for='attrs-2f6ec87f-4bb3-432a-813b-518e8b714258' title='Show/Hide attributes'><svg class='icon xr-icon-file-text2'><use xlink:href='#icon-file-text2'></use></svg></label><input id='data-63a269a5-be99-40ac-9601-72fecbff8417' class='xr-var-data-in' type='checkbox'><label for='data-63a269a5-be99-40ac-9601-72fecbff8417' title='Show/Hide data repr'><svg class='icon xr-icon-database'><use xlink:href='#icon-database'></use></svg></label><div class='xr-var-attrs'><dl class='xr-attrs'><dt><span>GRIB_paramId :</span></dt><dd>228247</dd><dt><span>GRIB_dataType :</span></dt><dd>an</dd><dt><span>GRIB_numberOfPoints :</span></dt><dd>2925</dd><dt><span>GRIB_typeOfLevel :</span></dt><dd>surface</dd><dt><span>GRIB_stepUnits :</span></dt><dd>1</dd><dt><span>GRIB_stepType :</span></dt><dd>instant</dd><dt><span>GRIB_gridType :</span></dt><dd>regular_ll</dd><dt><span>GRIB_uvRelativeToGrid :</span></dt><dd>0</dd><dt><span>GRIB_NV :</span></dt><dd>0</dd><dt><span>GRIB_Nx :</span></dt><dd>65</dd><dt><span>GRIB_Ny :</span></dt><dd>45</dd><dt><span>GRIB_cfName :</span></dt><dd>unknown</dd><dt><span>GRIB_cfVarName :</span></dt><dd>v100</dd><dt><span>GRIB_gridDefinitionDescription :</span></dt><dd>Latitude/Longitude Grid</dd><dt><span>GRIB_iDirectionIncrementInDegrees :</span></dt><dd>0.25</dd><dt><span>GRIB_iScansNegatively :</span></dt><dd>0</dd><dt><span>GRIB_jDirectionIncrementInDegrees :</span></dt><dd>0.25</dd><dt><span>GRIB_jPointsAreConsecutive :</span></dt><dd>0</dd><dt><span>GRIB_jScansPositively :</span></dt><dd>0</dd><dt><span>GRIB_latitudeOfFirstGridPointInDegrees :</span></dt><dd>44.0</dd><dt><span>GRIB_latitudeOfLastGridPointInDegrees :</span></dt><dd>33.0</dd><dt><span>GRIB_longitudeOfFirstGridPointInDegrees :</span></dt><dd>-78.0</dd><dt><span>GRIB_longitudeOfLastGridPointInDegrees :</span></dt><dd>-62.0</dd><dt><span>GRIB_missingValue :</span></dt><dd>3.4028234663852886e+38</dd><dt><span>GRIB_name :</span></dt><dd>100 metre V wind component</dd><dt><span>GRIB_shortName :</span></dt><dd>100v</dd><dt><span>GRIB_totalNumber :</span></dt><dd>0</dd><dt><span>GRIB_units :</span></dt><dd>m s**-1</dd><dt><span>long_name :</span></dt><dd>100 metre V wind component</dd><dt><span>units :</span></dt><dd>m s**-1</dd><dt><span>standard_name :</span></dt><dd>unknown</dd></dl></div><div class='xr-var-data'><pre>[51316200 values with dtype=float32]</pre></div></li><li class='xr-var-item'><div class='xr-var-name'><span>u10n</span></div><div class='xr-var-dims'>(time, latitude, longitude)</div><div class='xr-var-dtype'>float32</div><div class='xr-var-preview xr-preview'>...</div><input id='attrs-4b86233f-b1ec-4e73-8602-85e681083627' class='xr-var-attrs-in' type='checkbox' ><label for='attrs-4b86233f-b1ec-4e73-8602-85e681083627' title='Show/Hide attributes'><svg class='icon xr-icon-file-text2'><use xlink:href='#icon-file-text2'></use></svg></label><input id='data-7fd48da5-96e2-4ccf-963c-3bfd470d34fa' class='xr-var-data-in' type='checkbox'><label for='data-7fd48da5-96e2-4ccf-963c-3bfd470d34fa' title='Show/Hide data repr'><svg class='icon xr-icon-database'><use xlink:href='#icon-database'></use></svg></label><div class='xr-var-attrs'><dl class='xr-attrs'><dt><span>GRIB_paramId :</span></dt><dd>228131</dd><dt><span>GRIB_dataType :</span></dt><dd>an</dd><dt><span>GRIB_numberOfPoints :</span></dt><dd>2925</dd><dt><span>GRIB_typeOfLevel :</span></dt><dd>surface</dd><dt><span>GRIB_stepUnits :</span></dt><dd>1</dd><dt><span>GRIB_stepType :</span></dt><dd>instant</dd><dt><span>GRIB_gridType :</span></dt><dd>regular_ll</dd><dt><span>GRIB_uvRelativeToGrid :</span></dt><dd>0</dd><dt><span>GRIB_NV :</span></dt><dd>0</dd><dt><span>GRIB_Nx :</span></dt><dd>65</dd><dt><span>GRIB_Ny :</span></dt><dd>45</dd><dt><span>GRIB_cfName :</span></dt><dd>unknown</dd><dt><span>GRIB_cfVarName :</span></dt><dd>u10n</dd><dt><span>GRIB_gridDefinitionDescription :</span></dt><dd>Latitude/Longitude Grid</dd><dt><span>GRIB_iDirectionIncrementInDegrees :</span></dt><dd>0.25</dd><dt><span>GRIB_iScansNegatively :</span></dt><dd>0</dd><dt><span>GRIB_jDirectionIncrementInDegrees :</span></dt><dd>0.25</dd><dt><span>GRIB_jPointsAreConsecutive :</span></dt><dd>0</dd><dt><span>GRIB_jScansPositively :</span></dt><dd>0</dd><dt><span>GRIB_latitudeOfFirstGridPointInDegrees :</span></dt><dd>44.0</dd><dt><span>GRIB_latitudeOfLastGridPointInDegrees :</span></dt><dd>33.0</dd><dt><span>GRIB_longitudeOfFirstGridPointInDegrees :</span></dt><dd>-78.0</dd><dt><span>GRIB_longitudeOfLastGridPointInDegrees :</span></dt><dd>-62.0</dd><dt><span>GRIB_missingValue :</span></dt><dd>3.4028234663852886e+38</dd><dt><span>GRIB_name :</span></dt><dd>Neutral wind at 10 m u-component</dd><dt><span>GRIB_shortName :</span></dt><dd>u10n</dd><dt><span>GRIB_totalNumber :</span></dt><dd>0</dd><dt><span>GRIB_units :</span></dt><dd>m s**-1</dd><dt><span>long_name :</span></dt><dd>Neutral wind at 10 m u-component</dd><dt><span>units :</span></dt><dd>m s**-1</dd><dt><span>standard_name :</span></dt><dd>unknown</dd></dl></div><div class='xr-var-data'><pre>[51316200 values with dtype=float32]</pre></div></li><li class='xr-var-item'><div class='xr-var-name'><span>v10n</span></div><div class='xr-var-dims'>(time, latitude, longitude)</div><div class='xr-var-dtype'>float32</div><div class='xr-var-preview xr-preview'>...</div><input id='attrs-10be4d02-c8cb-43fa-9a7c-4ea6aa811ea2' class='xr-var-attrs-in' type='checkbox' ><label for='attrs-10be4d02-c8cb-43fa-9a7c-4ea6aa811ea2' title='Show/Hide attributes'><svg class='icon xr-icon-file-text2'><use xlink:href='#icon-file-text2'></use></svg></label><input id='data-bc30a5d0-cd82-4d9b-a6df-67245833ee56' class='xr-var-data-in' type='checkbox'><label for='data-bc30a5d0-cd82-4d9b-a6df-67245833ee56' title='Show/Hide data repr'><svg class='icon xr-icon-database'><use xlink:href='#icon-database'></use></svg></label><div class='xr-var-attrs'><dl class='xr-attrs'><dt><span>GRIB_paramId :</span></dt><dd>228132</dd><dt><span>GRIB_dataType :</span></dt><dd>an</dd><dt><span>GRIB_numberOfPoints :</span></dt><dd>2925</dd><dt><span>GRIB_typeOfLevel :</span></dt><dd>surface</dd><dt><span>GRIB_stepUnits :</span></dt><dd>1</dd><dt><span>GRIB_stepType :</span></dt><dd>instant</dd><dt><span>GRIB_gridType :</span></dt><dd>regular_ll</dd><dt><span>GRIB_uvRelativeToGrid :</span></dt><dd>0</dd><dt><span>GRIB_NV :</span></dt><dd>0</dd><dt><span>GRIB_Nx :</span></dt><dd>65</dd><dt><span>GRIB_Ny :</span></dt><dd>45</dd><dt><span>GRIB_cfName :</span></dt><dd>unknown</dd><dt><span>GRIB_cfVarName :</span></dt><dd>v10n</dd><dt><span>GRIB_gridDefinitionDescription :</span></dt><dd>Latitude/Longitude Grid</dd><dt><span>GRIB_iDirectionIncrementInDegrees :</span></dt><dd>0.25</dd><dt><span>GRIB_iScansNegatively :</span></dt><dd>0</dd><dt><span>GRIB_jDirectionIncrementInDegrees :</span></dt><dd>0.25</dd><dt><span>GRIB_jPointsAreConsecutive :</span></dt><dd>0</dd><dt><span>GRIB_jScansPositively :</span></dt><dd>0</dd><dt><span>GRIB_latitudeOfFirstGridPointInDegrees :</span></dt><dd>44.0</dd><dt><span>GRIB_latitudeOfLastGridPointInDegrees :</span></dt><dd>33.0</dd><dt><span>GRIB_longitudeOfFirstGridPointInDegrees :</span></dt><dd>-78.0</dd><dt><span>GRIB_longitudeOfLastGridPointInDegrees :</span></dt><dd>-62.0</dd><dt><span>GRIB_missingValue :</span></dt><dd>3.4028234663852886e+38</dd><dt><span>GRIB_name :</span></dt><dd>Neutral wind at 10 m v-component</dd><dt><span>GRIB_shortName :</span></dt><dd>v10n</dd><dt><span>GRIB_totalNumber :</span></dt><dd>0</dd><dt><span>GRIB_units :</span></dt><dd>m s**-1</dd><dt><span>long_name :</span></dt><dd>Neutral wind at 10 m v-component</dd><dt><span>units :</span></dt><dd>m s**-1</dd><dt><span>standard_name :</span></dt><dd>unknown</dd></dl></div><div class='xr-var-data'><pre>[51316200 values with dtype=float32]</pre></div></li></ul></div></li><li class='xr-section-item'><input id='section-42d20a5b-75f9-4393-a2e8-f54389ce39ab' class='xr-section-summary-in' type='checkbox'  ><label for='section-42d20a5b-75f9-4393-a2e8-f54389ce39ab' class='xr-section-summary' >Indexes: <span>(3)</span></label><div class='xr-section-inline-details'></div><div class='xr-section-details'><ul class='xr-var-list'><li class='xr-var-item'><div class='xr-index-name'><div>time</div></div><div class='xr-index-preview'>PandasIndex</div><input type='checkbox' disabled/><label></label><input id='index-093f1fe9-a8ec-4633-bd38-24dc4d6d6e55' class='xr-index-data-in' type='checkbox'/><label for='index-093f1fe9-a8ec-4633-bd38-24dc4d6d6e55' title='Show/Hide index repr'><svg class='icon xr-icon-database'><use xlink:href='#icon-database'></use></svg></label><div class='xr-index-data'><pre>PandasIndex(DatetimeIndex([&#x27;2023-01-01 00:00:00&#x27;, &#x27;2023-01-01 01:00:00&#x27;,\n",
       "               &#x27;2023-01-01 02:00:00&#x27;, &#x27;2023-01-01 03:00:00&#x27;,\n",
       "               &#x27;2023-01-01 04:00:00&#x27;, &#x27;2023-01-01 05:00:00&#x27;,\n",
       "               &#x27;2023-01-01 06:00:00&#x27;, &#x27;2023-01-01 07:00:00&#x27;,\n",
       "               &#x27;2023-01-01 08:00:00&#x27;, &#x27;2023-01-01 09:00:00&#x27;,\n",
       "               ...\n",
       "               &#x27;2024-12-31 14:00:00&#x27;, &#x27;2024-12-31 15:00:00&#x27;,\n",
       "               &#x27;2024-12-31 16:00:00&#x27;, &#x27;2024-12-31 17:00:00&#x27;,\n",
       "               &#x27;2024-12-31 18:00:00&#x27;, &#x27;2024-12-31 19:00:00&#x27;,\n",
       "               &#x27;2024-12-31 20:00:00&#x27;, &#x27;2024-12-31 21:00:00&#x27;,\n",
       "               &#x27;2024-12-31 22:00:00&#x27;, &#x27;2024-12-31 23:00:00&#x27;],\n",
       "              dtype=&#x27;datetime64[ns]&#x27;, name=&#x27;time&#x27;, length=17544, freq=None))</pre></div></li><li class='xr-var-item'><div class='xr-index-name'><div>latitude</div></div><div class='xr-index-preview'>PandasIndex</div><input type='checkbox' disabled/><label></label><input id='index-eb75681c-9a23-4c16-b975-911252267f3f' class='xr-index-data-in' type='checkbox'/><label for='index-eb75681c-9a23-4c16-b975-911252267f3f' title='Show/Hide index repr'><svg class='icon xr-icon-database'><use xlink:href='#icon-database'></use></svg></label><div class='xr-index-data'><pre>PandasIndex(Index([ 44.0, 43.75,  43.5, 43.25,  43.0, 42.75,  42.5, 42.25,  42.0, 41.75,\n",
       "        41.5, 41.25,  41.0, 40.75,  40.5, 40.25,  40.0, 39.75,  39.5, 39.25,\n",
       "        39.0, 38.75,  38.5, 38.25,  38.0, 37.75,  37.5, 37.25,  37.0, 36.75,\n",
       "        36.5, 36.25,  36.0, 35.75,  35.5, 35.25,  35.0, 34.75,  34.5, 34.25,\n",
       "        34.0, 33.75,  33.5, 33.25,  33.0],\n",
       "      dtype=&#x27;float64&#x27;, name=&#x27;latitude&#x27;))</pre></div></li><li class='xr-var-item'><div class='xr-index-name'><div>longitude</div></div><div class='xr-index-preview'>PandasIndex</div><input type='checkbox' disabled/><label></label><input id='index-c508040f-e669-4d65-9f4a-da0ea67856a4' class='xr-index-data-in' type='checkbox'/><label for='index-c508040f-e669-4d65-9f4a-da0ea67856a4' title='Show/Hide index repr'><svg class='icon xr-icon-database'><use xlink:href='#icon-database'></use></svg></label><div class='xr-index-data'><pre>PandasIndex(Index([ -78.0, -77.75,  -77.5, -77.25,  -77.0, -76.75,  -76.5, -76.25,  -76.0,\n",
       "       -75.75,  -75.5, -75.25,  -75.0, -74.75,  -74.5, -74.25,  -74.0, -73.75,\n",
       "        -73.5, -73.25,  -73.0, -72.75,  -72.5, -72.25,  -72.0, -71.75,  -71.5,\n",
       "       -71.25,  -71.0, -70.75,  -70.5, -70.25,  -70.0, -69.75,  -69.5, -69.25,\n",
       "        -69.0, -68.75,  -68.5, -68.25,  -68.0, -67.75,  -67.5, -67.25,  -67.0,\n",
       "       -66.75,  -66.5, -66.25,  -66.0, -65.75,  -65.5, -65.25,  -65.0, -64.75,\n",
       "        -64.5, -64.25,  -64.0, -63.75,  -63.5, -63.25,  -63.0, -62.75,  -62.5,\n",
       "       -62.25,  -62.0],\n",
       "      dtype=&#x27;float64&#x27;, name=&#x27;longitude&#x27;))</pre></div></li></ul></div></li><li class='xr-section-item'><input id='section-8e808562-592b-488e-83a1-1586fef045b3' class='xr-section-summary-in' type='checkbox'  checked><label for='section-8e808562-592b-488e-83a1-1586fef045b3' class='xr-section-summary' >Attributes: <span>(7)</span></label><div class='xr-section-inline-details'></div><div class='xr-section-details'><dl class='xr-attrs'><dt><span>GRIB_edition :</span></dt><dd>1</dd><dt><span>GRIB_centre :</span></dt><dd>ecmf</dd><dt><span>GRIB_centreDescription :</span></dt><dd>European Centre for Medium-Range Weather Forecasts</dd><dt><span>GRIB_subCentre :</span></dt><dd>0</dd><dt><span>Conventions :</span></dt><dd>CF-1.7</dd><dt><span>institution :</span></dt><dd>European Centre for Medium-Range Weather Forecasts</dd><dt><span>history :</span></dt><dd>2025-02-28T09:13 GRIB to CDM+CF via cfgrib-0.9.15.0/ecCodes-2.26.0 with {&quot;source&quot;: &quot;../../data/ERA5_reanalysis_data/ERA5_2023_TO_2024.grib&quot;, &quot;filter_by_keys&quot;: {}, &quot;encode_cf&quot;: [&quot;parameter&quot;, &quot;time&quot;, &quot;geography&quot;, &quot;vertical&quot;]}</dd></dl></div></li></ul></div></div>"
      ],
      "text/plain": [
       "<xarray.Dataset> Size: 1GB\n",
       "Dimensions:     (time: 17544, latitude: 45, longitude: 65)\n",
       "Coordinates:\n",
       "    number      int64 8B ...\n",
       "  * time        (time) datetime64[ns] 140kB 2023-01-01 ... 2024-12-31T23:00:00\n",
       "    step        timedelta64[ns] 8B ...\n",
       "    surface     float64 8B ...\n",
       "  * latitude    (latitude) float64 360B 44.0 43.75 43.5 ... 33.5 33.25 33.0\n",
       "  * longitude   (longitude) float64 520B -78.0 -77.75 -77.5 ... -62.25 -62.0\n",
       "    valid_time  (time) datetime64[ns] 140kB ...\n",
       "Data variables:\n",
       "    u10         (time, latitude, longitude) float32 205MB ...\n",
       "    v10         (time, latitude, longitude) float32 205MB ...\n",
       "    u100        (time, latitude, longitude) float32 205MB ...\n",
       "    v100        (time, latitude, longitude) float32 205MB ...\n",
       "    u10n        (time, latitude, longitude) float32 205MB ...\n",
       "    v10n        (time, latitude, longitude) float32 205MB ...\n",
       "Attributes:\n",
       "    GRIB_edition:            1\n",
       "    GRIB_centre:             ecmf\n",
       "    GRIB_centreDescription:  European Centre for Medium-Range Weather Forecasts\n",
       "    GRIB_subCentre:          0\n",
       "    Conventions:             CF-1.7\n",
       "    institution:             European Centre for Medium-Range Weather Forecasts\n",
       "    history:                 2025-02-28T09:13 GRIB to CDM+CF via cfgrib-0.9.1..."
      ]
     },
     "execution_count": 8,
     "metadata": {},
     "output_type": "execute_result"
    }
   ],
   "source": [
    "era5_ds"
   ]
  },
  {
   "cell_type": "markdown",
   "id": "1396d9f8-3e42-4284-b8b8-0e5639d81fb7",
   "metadata": {},
   "source": [
    "### Check the dimensions"
   ]
  },
  {
   "cell_type": "code",
   "execution_count": 9,
   "id": "4f264842-4cdd-4602-8312-d1dadfa8c8b3",
   "metadata": {},
   "outputs": [
    {
     "data": {
      "text/plain": [
       "FrozenMappingWarningOnValuesAccess({'time': 17544, 'latitude': 45, 'longitude': 65})"
      ]
     },
     "execution_count": 9,
     "metadata": {},
     "output_type": "execute_result"
    }
   ],
   "source": [
    "era5_ds.dims"
   ]
  },
  {
   "cell_type": "markdown",
   "id": "713b5ce9-98ac-41d5-93d0-5a0dc82660a4",
   "metadata": {},
   "source": [
    "### Check coordinates"
   ]
  },
  {
   "cell_type": "code",
   "execution_count": 10,
   "id": "1c85b377-f9aa-45db-8bfc-61c8ab04fdaf",
   "metadata": {},
   "outputs": [
    {
     "data": {
      "text/plain": [
       "Coordinates:\n",
       "    number      int64 8B ...\n",
       "  * time        (time) datetime64[ns] 140kB 2023-01-01 ... 2024-12-31T23:00:00\n",
       "    step        timedelta64[ns] 8B ...\n",
       "    surface     float64 8B ...\n",
       "  * latitude    (latitude) float64 360B 44.0 43.75 43.5 ... 33.5 33.25 33.0\n",
       "  * longitude   (longitude) float64 520B -78.0 -77.75 -77.5 ... -62.25 -62.0\n",
       "    valid_time  (time) datetime64[ns] 140kB ..."
      ]
     },
     "execution_count": 10,
     "metadata": {},
     "output_type": "execute_result"
    }
   ],
   "source": [
    "era5_ds.coords"
   ]
  },
  {
   "cell_type": "markdown",
   "id": "3f6193e3-b98b-49b6-9c52-af8e54b11be3",
   "metadata": {},
   "source": [
    "### Check data variables"
   ]
  },
  {
   "cell_type": "code",
   "execution_count": 11,
   "id": "fa571bf7-ef1a-4599-b2a7-e9af53961876",
   "metadata": {},
   "outputs": [
    {
     "data": {
      "text/plain": [
       "Frozen({'number': <xarray.Variable ()> Size: 8B\n",
       "[1 values with dtype=int64]\n",
       "Attributes:\n",
       "    long_name:      ensemble member numerical id\n",
       "    units:          1\n",
       "    standard_name:  realization, 'time': <xarray.IndexVariable 'time' (time: 17544)> Size: 140kB\n",
       "array(['2023-01-01T00:00:00.000000000', '2023-01-01T01:00:00.000000000',\n",
       "       '2023-01-01T02:00:00.000000000', ..., '2024-12-31T21:00:00.000000000',\n",
       "       '2024-12-31T22:00:00.000000000', '2024-12-31T23:00:00.000000000'],\n",
       "      dtype='datetime64[ns]')\n",
       "Attributes:\n",
       "    long_name:      initial time of forecast\n",
       "    standard_name:  forecast_reference_time, 'step': <xarray.Variable ()> Size: 8B\n",
       "[1 values with dtype=timedelta64[ns]]\n",
       "Attributes:\n",
       "    long_name:      time since forecast_reference_time\n",
       "    standard_name:  forecast_period, 'surface': <xarray.Variable ()> Size: 8B\n",
       "[1 values with dtype=float64]\n",
       "Attributes:\n",
       "    long_name:  original GRIB coordinate for key: level(surface)\n",
       "    units:      1, 'latitude': <xarray.IndexVariable 'latitude' (latitude: 45)> Size: 360B\n",
       "array([44.  , 43.75, 43.5 , 43.25, 43.  , 42.75, 42.5 , 42.25, 42.  , 41.75,\n",
       "       41.5 , 41.25, 41.  , 40.75, 40.5 , 40.25, 40.  , 39.75, 39.5 , 39.25,\n",
       "       39.  , 38.75, 38.5 , 38.25, 38.  , 37.75, 37.5 , 37.25, 37.  , 36.75,\n",
       "       36.5 , 36.25, 36.  , 35.75, 35.5 , 35.25, 35.  , 34.75, 34.5 , 34.25,\n",
       "       34.  , 33.75, 33.5 , 33.25, 33.  ])\n",
       "Attributes:\n",
       "    units:             degrees_north\n",
       "    standard_name:     latitude\n",
       "    long_name:         latitude\n",
       "    stored_direction:  decreasing, 'longitude': <xarray.IndexVariable 'longitude' (longitude: 65)> Size: 520B\n",
       "array([-78.  , -77.75, -77.5 , -77.25, -77.  , -76.75, -76.5 , -76.25, -76.  ,\n",
       "       -75.75, -75.5 , -75.25, -75.  , -74.75, -74.5 , -74.25, -74.  , -73.75,\n",
       "       -73.5 , -73.25, -73.  , -72.75, -72.5 , -72.25, -72.  , -71.75, -71.5 ,\n",
       "       -71.25, -71.  , -70.75, -70.5 , -70.25, -70.  , -69.75, -69.5 , -69.25,\n",
       "       -69.  , -68.75, -68.5 , -68.25, -68.  , -67.75, -67.5 , -67.25, -67.  ,\n",
       "       -66.75, -66.5 , -66.25, -66.  , -65.75, -65.5 , -65.25, -65.  , -64.75,\n",
       "       -64.5 , -64.25, -64.  , -63.75, -63.5 , -63.25, -63.  , -62.75, -62.5 ,\n",
       "       -62.25, -62.  ])\n",
       "Attributes:\n",
       "    units:          degrees_east\n",
       "    standard_name:  longitude\n",
       "    long_name:      longitude, 'valid_time': <xarray.Variable (time: 17544)> Size: 140kB\n",
       "[17544 values with dtype=datetime64[ns]]\n",
       "Attributes:\n",
       "    standard_name:  time\n",
       "    long_name:      time, 'u10': <xarray.Variable (time: 17544, latitude: 45, longitude: 65)> Size: 205MB\n",
       "[51316200 values with dtype=float32]\n",
       "Attributes: (12/31)\n",
       "    GRIB_paramId:                             165\n",
       "    GRIB_dataType:                            an\n",
       "    GRIB_numberOfPoints:                      2925\n",
       "    GRIB_typeOfLevel:                         surface\n",
       "    GRIB_stepUnits:                           1\n",
       "    GRIB_stepType:                            instant\n",
       "    ...                                       ...\n",
       "    GRIB_shortName:                           10u\n",
       "    GRIB_totalNumber:                         0\n",
       "    GRIB_units:                               m s**-1\n",
       "    long_name:                                10 metre U wind component\n",
       "    units:                                    m s**-1\n",
       "    standard_name:                            unknown, 'v10': <xarray.Variable (time: 17544, latitude: 45, longitude: 65)> Size: 205MB\n",
       "[51316200 values with dtype=float32]\n",
       "Attributes: (12/31)\n",
       "    GRIB_paramId:                             166\n",
       "    GRIB_dataType:                            an\n",
       "    GRIB_numberOfPoints:                      2925\n",
       "    GRIB_typeOfLevel:                         surface\n",
       "    GRIB_stepUnits:                           1\n",
       "    GRIB_stepType:                            instant\n",
       "    ...                                       ...\n",
       "    GRIB_shortName:                           10v\n",
       "    GRIB_totalNumber:                         0\n",
       "    GRIB_units:                               m s**-1\n",
       "    long_name:                                10 metre V wind component\n",
       "    units:                                    m s**-1\n",
       "    standard_name:                            unknown, 'u100': <xarray.Variable (time: 17544, latitude: 45, longitude: 65)> Size: 205MB\n",
       "[51316200 values with dtype=float32]\n",
       "Attributes: (12/31)\n",
       "    GRIB_paramId:                             228246\n",
       "    GRIB_dataType:                            an\n",
       "    GRIB_numberOfPoints:                      2925\n",
       "    GRIB_typeOfLevel:                         surface\n",
       "    GRIB_stepUnits:                           1\n",
       "    GRIB_stepType:                            instant\n",
       "    ...                                       ...\n",
       "    GRIB_shortName:                           100u\n",
       "    GRIB_totalNumber:                         0\n",
       "    GRIB_units:                               m s**-1\n",
       "    long_name:                                100 metre U wind component\n",
       "    units:                                    m s**-1\n",
       "    standard_name:                            unknown, 'v100': <xarray.Variable (time: 17544, latitude: 45, longitude: 65)> Size: 205MB\n",
       "[51316200 values with dtype=float32]\n",
       "Attributes: (12/31)\n",
       "    GRIB_paramId:                             228247\n",
       "    GRIB_dataType:                            an\n",
       "    GRIB_numberOfPoints:                      2925\n",
       "    GRIB_typeOfLevel:                         surface\n",
       "    GRIB_stepUnits:                           1\n",
       "    GRIB_stepType:                            instant\n",
       "    ...                                       ...\n",
       "    GRIB_shortName:                           100v\n",
       "    GRIB_totalNumber:                         0\n",
       "    GRIB_units:                               m s**-1\n",
       "    long_name:                                100 metre V wind component\n",
       "    units:                                    m s**-1\n",
       "    standard_name:                            unknown, 'u10n': <xarray.Variable (time: 17544, latitude: 45, longitude: 65)> Size: 205MB\n",
       "[51316200 values with dtype=float32]\n",
       "Attributes: (12/31)\n",
       "    GRIB_paramId:                             228131\n",
       "    GRIB_dataType:                            an\n",
       "    GRIB_numberOfPoints:                      2925\n",
       "    GRIB_typeOfLevel:                         surface\n",
       "    GRIB_stepUnits:                           1\n",
       "    GRIB_stepType:                            instant\n",
       "    ...                                       ...\n",
       "    GRIB_shortName:                           u10n\n",
       "    GRIB_totalNumber:                         0\n",
       "    GRIB_units:                               m s**-1\n",
       "    long_name:                                Neutral wind at 10 m u-component\n",
       "    units:                                    m s**-1\n",
       "    standard_name:                            unknown, 'v10n': <xarray.Variable (time: 17544, latitude: 45, longitude: 65)> Size: 205MB\n",
       "[51316200 values with dtype=float32]\n",
       "Attributes: (12/31)\n",
       "    GRIB_paramId:                             228132\n",
       "    GRIB_dataType:                            an\n",
       "    GRIB_numberOfPoints:                      2925\n",
       "    GRIB_typeOfLevel:                         surface\n",
       "    GRIB_stepUnits:                           1\n",
       "    GRIB_stepType:                            instant\n",
       "    ...                                       ...\n",
       "    GRIB_shortName:                           v10n\n",
       "    GRIB_totalNumber:                         0\n",
       "    GRIB_units:                               m s**-1\n",
       "    long_name:                                Neutral wind at 10 m v-component\n",
       "    units:                                    m s**-1\n",
       "    standard_name:                            unknown})"
      ]
     },
     "execution_count": 11,
     "metadata": {},
     "output_type": "execute_result"
    }
   ],
   "source": [
    "era5_ds.variables"
   ]
  },
  {
   "cell_type": "code",
   "execution_count": 9,
   "id": "46978fca-197a-4a93-939d-24bc5a5bd073",
   "metadata": {},
   "outputs": [
    {
     "name": "stdout",
     "output_type": "stream",
     "text": [
      "FrozenMappingWarningOnValuesAccess({'time': 17544, 'latitude': 45, 'longitude': 65})\n",
      "Coordinates:\n",
      "    number      int32 4B ...\n",
      "  * time        (time) datetime64[ns] 140kB 2023-01-01 ... 2024-12-31T23:00:00\n",
      "    step        timedelta64[ns] 8B ...\n",
      "    surface     float64 8B ...\n",
      "  * latitude    (latitude) float64 360B 44.0 43.75 43.5 ... 33.5 33.25 33.0\n",
      "  * longitude   (longitude) float64 520B -78.0 -77.75 -77.5 ... -62.25 -62.0\n",
      "    valid_time  (time) datetime64[ns] 140kB ...\n",
      "Frozen({'number': <xarray.Variable ()> Size: 4B\n",
      "[1 values with dtype=int32]\n",
      "Attributes:\n",
      "    long_name:      ensemble member numerical id\n",
      "    units:          1\n",
      "    standard_name:  realization, 'time': <xarray.IndexVariable 'time' (time: 17544)> Size: 140kB\n",
      "array(['2023-01-01T00:00:00.000000000', '2023-01-01T01:00:00.000000000',\n",
      "       '2023-01-01T02:00:00.000000000', ..., '2024-12-31T21:00:00.000000000',\n",
      "       '2024-12-31T22:00:00.000000000', '2024-12-31T23:00:00.000000000'],\n",
      "      dtype='datetime64[ns]')\n",
      "Attributes:\n",
      "    long_name:      initial time of forecast\n",
      "    standard_name:  forecast_reference_time, 'step': <xarray.Variable ()> Size: 8B\n",
      "[1 values with dtype=timedelta64[ns]]\n",
      "Attributes:\n",
      "    long_name:      time since forecast_reference_time\n",
      "    standard_name:  forecast_period, 'surface': <xarray.Variable ()> Size: 8B\n",
      "[1 values with dtype=float64]\n",
      "Attributes:\n",
      "    long_name:  original GRIB coordinate for key: level(surface)\n",
      "    units:      1, 'latitude': <xarray.IndexVariable 'latitude' (latitude: 45)> Size: 360B\n",
      "array([44.  , 43.75, 43.5 , 43.25, 43.  , 42.75, 42.5 , 42.25, 42.  , 41.75,\n",
      "       41.5 , 41.25, 41.  , 40.75, 40.5 , 40.25, 40.  , 39.75, 39.5 , 39.25,\n",
      "       39.  , 38.75, 38.5 , 38.25, 38.  , 37.75, 37.5 , 37.25, 37.  , 36.75,\n",
      "       36.5 , 36.25, 36.  , 35.75, 35.5 , 35.25, 35.  , 34.75, 34.5 , 34.25,\n",
      "       34.  , 33.75, 33.5 , 33.25, 33.  ])\n",
      "Attributes:\n",
      "    units:             degrees_north\n",
      "    standard_name:     latitude\n",
      "    long_name:         latitude\n",
      "    stored_direction:  decreasing, 'longitude': <xarray.IndexVariable 'longitude' (longitude: 65)> Size: 520B\n",
      "array([-78.  , -77.75, -77.5 , -77.25, -77.  , -76.75, -76.5 , -76.25, -76.  ,\n",
      "       -75.75, -75.5 , -75.25, -75.  , -74.75, -74.5 , -74.25, -74.  , -73.75,\n",
      "       -73.5 , -73.25, -73.  , -72.75, -72.5 , -72.25, -72.  , -71.75, -71.5 ,\n",
      "       -71.25, -71.  , -70.75, -70.5 , -70.25, -70.  , -69.75, -69.5 , -69.25,\n",
      "       -69.  , -68.75, -68.5 , -68.25, -68.  , -67.75, -67.5 , -67.25, -67.  ,\n",
      "       -66.75, -66.5 , -66.25, -66.  , -65.75, -65.5 , -65.25, -65.  , -64.75,\n",
      "       -64.5 , -64.25, -64.  , -63.75, -63.5 , -63.25, -63.  , -62.75, -62.5 ,\n",
      "       -62.25, -62.  ])\n",
      "Attributes:\n",
      "    units:          degrees_east\n",
      "    standard_name:  longitude\n",
      "    long_name:      longitude, 'valid_time': <xarray.Variable (time: 17544)> Size: 140kB\n",
      "[17544 values with dtype=datetime64[ns]]\n",
      "Attributes:\n",
      "    standard_name:  time\n",
      "    long_name:      time, 'u10': <xarray.Variable (time: 17544, latitude: 45, longitude: 65)> Size: 205MB\n",
      "[51316200 values with dtype=float32]\n",
      "Attributes: (12/31)\n",
      "    GRIB_paramId:                             165\n",
      "    GRIB_dataType:                            an\n",
      "    GRIB_numberOfPoints:                      2925\n",
      "    GRIB_typeOfLevel:                         surface\n",
      "    GRIB_stepUnits:                           1\n",
      "    GRIB_stepType:                            instant\n",
      "    ...                                       ...\n",
      "    GRIB_shortName:                           10u\n",
      "    GRIB_totalNumber:                         0\n",
      "    GRIB_units:                               m s**-1\n",
      "    long_name:                                10 metre U wind component\n",
      "    units:                                    m s**-1\n",
      "    standard_name:                            unknown, 'v10': <xarray.Variable (time: 17544, latitude: 45, longitude: 65)> Size: 205MB\n",
      "[51316200 values with dtype=float32]\n",
      "Attributes: (12/31)\n",
      "    GRIB_paramId:                             166\n",
      "    GRIB_dataType:                            an\n",
      "    GRIB_numberOfPoints:                      2925\n",
      "    GRIB_typeOfLevel:                         surface\n",
      "    GRIB_stepUnits:                           1\n",
      "    GRIB_stepType:                            instant\n",
      "    ...                                       ...\n",
      "    GRIB_shortName:                           10v\n",
      "    GRIB_totalNumber:                         0\n",
      "    GRIB_units:                               m s**-1\n",
      "    long_name:                                10 metre V wind component\n",
      "    units:                                    m s**-1\n",
      "    standard_name:                            unknown, 'u100': <xarray.Variable (time: 17544, latitude: 45, longitude: 65)> Size: 205MB\n",
      "[51316200 values with dtype=float32]\n",
      "Attributes: (12/31)\n",
      "    GRIB_paramId:                             228246\n",
      "    GRIB_dataType:                            an\n",
      "    GRIB_numberOfPoints:                      2925\n",
      "    GRIB_typeOfLevel:                         surface\n",
      "    GRIB_stepUnits:                           1\n",
      "    GRIB_stepType:                            instant\n",
      "    ...                                       ...\n",
      "    GRIB_shortName:                           100u\n",
      "    GRIB_totalNumber:                         0\n",
      "    GRIB_units:                               m s**-1\n",
      "    long_name:                                100 metre U wind component\n",
      "    units:                                    m s**-1\n",
      "    standard_name:                            unknown, 'v100': <xarray.Variable (time: 17544, latitude: 45, longitude: 65)> Size: 205MB\n",
      "[51316200 values with dtype=float32]\n",
      "Attributes: (12/31)\n",
      "    GRIB_paramId:                             228247\n",
      "    GRIB_dataType:                            an\n",
      "    GRIB_numberOfPoints:                      2925\n",
      "    GRIB_typeOfLevel:                         surface\n",
      "    GRIB_stepUnits:                           1\n",
      "    GRIB_stepType:                            instant\n",
      "    ...                                       ...\n",
      "    GRIB_shortName:                           100v\n",
      "    GRIB_totalNumber:                         0\n",
      "    GRIB_units:                               m s**-1\n",
      "    long_name:                                100 metre V wind component\n",
      "    units:                                    m s**-1\n",
      "    standard_name:                            unknown, 'u10n': <xarray.Variable (time: 17544, latitude: 45, longitude: 65)> Size: 205MB\n",
      "[51316200 values with dtype=float32]\n",
      "Attributes: (12/31)\n",
      "    GRIB_paramId:                             228131\n",
      "    GRIB_dataType:                            an\n",
      "    GRIB_numberOfPoints:                      2925\n",
      "    GRIB_typeOfLevel:                         surface\n",
      "    GRIB_stepUnits:                           1\n",
      "    GRIB_stepType:                            instant\n",
      "    ...                                       ...\n",
      "    GRIB_shortName:                           u10n\n",
      "    GRIB_totalNumber:                         0\n",
      "    GRIB_units:                               m s**-1\n",
      "    long_name:                                10 metre u-component of neutral...\n",
      "    units:                                    m s**-1\n",
      "    standard_name:                            unknown, 'v10n': <xarray.Variable (time: 17544, latitude: 45, longitude: 65)> Size: 205MB\n",
      "[51316200 values with dtype=float32]\n",
      "Attributes: (12/31)\n",
      "    GRIB_paramId:                             228132\n",
      "    GRIB_dataType:                            an\n",
      "    GRIB_numberOfPoints:                      2925\n",
      "    GRIB_typeOfLevel:                         surface\n",
      "    GRIB_stepUnits:                           1\n",
      "    GRIB_stepType:                            instant\n",
      "    ...                                       ...\n",
      "    GRIB_shortName:                           v10n\n",
      "    GRIB_totalNumber:                         0\n",
      "    GRIB_units:                               m s**-1\n",
      "    long_name:                                10 metre v-component of neutral...\n",
      "    units:                                    m s**-1\n",
      "    standard_name:                            unknown})\n"
     ]
    }
   ],
   "source": [
    "print(era5_ds.dims)\n",
    "print(era5_ds.coords)\n",
    "print(era5_ds.variables)\n"
   ]
  },
  {
   "cell_type": "markdown",
   "id": "ae9a43c0-4df5-4c9b-9a75-bbbf98c86ee3",
   "metadata": {},
   "source": [
    "### See available vars"
   ]
  },
  {
   "cell_type": "code",
   "execution_count": 12,
   "id": "113edefd-007f-4163-953f-fcaea42ca30e",
   "metadata": {},
   "outputs": [
    {
     "data": {
      "text/plain": [
       "Data variables:\n",
       "    u10      (time, latitude, longitude) float32 205MB ...\n",
       "    v10      (time, latitude, longitude) float32 205MB ...\n",
       "    u100     (time, latitude, longitude) float32 205MB ...\n",
       "    v100     (time, latitude, longitude) float32 205MB ...\n",
       "    u10n     (time, latitude, longitude) float32 205MB ...\n",
       "    v10n     (time, latitude, longitude) float32 205MB ..."
      ]
     },
     "execution_count": 12,
     "metadata": {},
     "output_type": "execute_result"
    }
   ],
   "source": [
    "era5_ds.data_vars  # See available variables.\n"
   ]
  },
  {
   "cell_type": "markdown",
   "id": "bb5674c3-3a02-4169-bbaa-319d220acdab",
   "metadata": {},
   "source": [
    "### Compare data with Jersey Atlantic Wind Farm"
   ]
  },
  {
   "cell_type": "code",
   "execution_count": 56,
   "id": "d09689ba-3c64-438e-ac17-b001a3c5806d",
   "metadata": {},
   "outputs": [
    {
     "name": "stdout",
     "output_type": "stream",
     "text": [
      "u-wind: 1.69512939453125, v-wind: 2.7671356201171875\n"
     ]
    }
   ],
   "source": [
    "# Find the closest latitude and longitude to (39.25, -75)\n",
    "lat_idx = np.abs(era5_ds['latitude'] - 39.25).argmin()\n",
    "lon_idx = np.abs(era5_ds['longitude'] - (-75)).argmin()\n",
    "\n",
    "# Extract the u and v components of the wind at the specified location and time index 0\n",
    "u_wind = era5_ds['u10'][0, lat_idx, lon_idx].values  # u-component of wind at time index 0\n",
    "v_wind = era5_ds['v10'][0, lat_idx, lon_idx].values  # v-component of wind at time index 0\n",
    "\n",
    "# Print the extracted values\n",
    "print(f\"u-wind: {u_wind}, v-wind: {v_wind}\")"
   ]
  },
  {
   "cell_type": "code",
   "execution_count": 64,
   "id": "886a7d3c-2439-46de-878d-e773aff8507e",
   "metadata": {},
   "outputs": [
    {
     "data": {
      "text/plain": [
       "array(1.6951294, dtype=float32)"
      ]
     },
     "execution_count": 64,
     "metadata": {},
     "output_type": "execute_result"
    }
   ],
   "source": []
  },
  {
   "cell_type": "markdown",
   "id": "32067578-9828-4c68-90f5-acc944adea75",
   "metadata": {},
   "source": [
    "# Extract Key variables"
   ]
  },
  {
   "cell_type": "code",
   "execution_count": 16,
   "id": "b7f278ea-6c62-4344-b8c7-a60d5b9331f5",
   "metadata": {},
   "outputs": [],
   "source": [
    "# Extract key variables\n",
    "u10 = era5_ds[\"u10\"]  # 10m wind component U\n",
    "v10 = era5_ds[\"v10\"]  # 10m wind component V\n",
    "time = era5_ds[\"time\"]\n",
    "lat = era5_ds[\"latitude\"].values\n",
    "lon = era5_ds[\"longitude\"].values"
   ]
  },
  {
   "cell_type": "code",
   "execution_count": 6,
   "id": "932b149e-0737-4c82-879f-6d7d669f11ae",
   "metadata": {},
   "outputs": [
    {
     "data": {
      "text/plain": [
       "(45,)"
      ]
     },
     "execution_count": 6,
     "metadata": {},
     "output_type": "execute_result"
    }
   ],
   "source": [
    "lat.shape"
   ]
  },
  {
   "cell_type": "code",
   "execution_count": 7,
   "id": "7f126d35-044e-4878-beed-82fd63c8d79e",
   "metadata": {},
   "outputs": [
    {
     "data": {
      "text/plain": [
       "array([ 44., -78.])"
      ]
     },
     "execution_count": 7,
     "metadata": {},
     "output_type": "execute_result"
    }
   ],
   "source": [
    "len(np.array(list(zip(lat, lon)))[0])\n",
    "np.array(list(zip(lat, lon)))[0]"
   ]
  },
  {
   "cell_type": "markdown",
   "id": "23a37203-20ee-4bcf-a1bc-81a8a48a6d90",
   "metadata": {},
   "source": [
    "# Load Sentinel-1 Data and Match Spatially"
   ]
  },
  {
   "cell_type": "code",
   "execution_count": 8,
   "id": "f2450061-9228-44b4-af21-8907400b0fc7",
   "metadata": {},
   "outputs": [
    {
     "name": "stdout",
     "output_type": "stream",
     "text": [
      "There are 5766 files\n"
     ]
    }
   ],
   "source": [
    "from offshore_wind_nj.data_loader import data_files, load_data, all_arrays, extract_datetime_from_filename, removed_files, process_arrays\n",
    "from offshore_wind_nj.sar_wind_plot import plot_wind_field, plot_wind_field_by_arrays\n",
    "from offshore_wind_nj.data_cleaning import fill_zeros, find_zeros"
   ]
  },
  {
   "cell_type": "markdown",
   "id": "58d5b185-a1d7-421b-a19e-fa501a9306b7",
   "metadata": {},
   "source": [
    "## Use the first image to test"
   ]
  },
  {
   "cell_type": "code",
   "execution_count": 111,
   "id": "4cc1aaab-9f96-42a8-90b3-38c36d15e817",
   "metadata": {},
   "outputs": [
    {
     "data": {
      "text/plain": [
       "PosixPath('/nfs/storage1/home/noriegac/Documents/Offshore_Wind_Research/data/processed/S1A_IW_OCN__2SDH_20230710T105755_20230710T105818_049360_05EF7F_3CBA.npz')"
      ]
     },
     "execution_count": 111,
     "metadata": {},
     "output_type": "execute_result"
    }
   ],
   "source": [
    "data_files[7]"
   ]
  },
  {
   "cell_type": "code",
   "execution_count": 112,
   "id": "2f0650e0-9ec0-48c8-9015-2ea6cdfe4a78",
   "metadata": {},
   "outputs": [],
   "source": [
    "sampe_array = all_arrays[7]"
   ]
  },
  {
   "cell_type": "markdown",
   "id": "9a3be63c-333e-45d8-8f16-4a403dda105e",
   "metadata": {},
   "source": [
    "### Create a mask to exclude nan values"
   ]
  },
  {
   "cell_type": "code",
   "execution_count": 113,
   "id": "81c371af-8082-4a94-a659-56f0128716eb",
   "metadata": {},
   "outputs": [],
   "source": [
    "mask = ~np.isnan(sampe_array[0])"
   ]
  },
  {
   "cell_type": "markdown",
   "id": "30ca0adb-5f29-47f3-aa7f-32b8042534fd",
   "metadata": {},
   "source": [
    "### Extract speed, direction and coordinates from Sentinel 1 dataset"
   ]
  },
  {
   "cell_type": "code",
   "execution_count": 114,
   "id": "8c2c3464-5900-4ed9-ac2e-72930a0fe700",
   "metadata": {},
   "outputs": [
    {
     "data": {
      "text/plain": [
       "(5115,)"
      ]
     },
     "execution_count": 114,
     "metadata": {},
     "output_type": "execute_result"
    }
   ],
   "source": [
    "# Extract coordinates\n",
    "sentinel_speed = sampe_array[0][mask]\n",
    "sentinel_dir = sampe_array[1][mask]\n",
    "sentinel_lat = sampe_array[2][mask]\n",
    "sentinel_lon = sampe_array[3][mask]\n",
    "sentinel_lon.shape"
   ]
  },
  {
   "cell_type": "markdown",
   "id": "2c5186e6-3baa-4074-b38a-d3b82384d471",
   "metadata": {},
   "source": [
    "### Convert wind speeds and directions in u & v vectors"
   ]
  },
  {
   "cell_type": "code",
   "execution_count": 115,
   "id": "0a1daffa-9264-4983-a2c1-22ddd3935e07",
   "metadata": {},
   "outputs": [
    {
     "data": {
      "text/plain": [
       "(5115,)"
      ]
     },
     "execution_count": 115,
     "metadata": {},
     "output_type": "execute_result"
    }
   ],
   "source": [
    "u_sentinel = np.sin(np.radians(sentinel_dir)) * sentinel_speed\n",
    "v_sentinel = np.cos(np.radians(sentinel_dir)) * sentinel_speed\n",
    "v_sentinel.shape"
   ]
  },
  {
   "cell_type": "markdown",
   "id": "0fcb6d9f-378e-4bcc-841b-65ca610e5056",
   "metadata": {},
   "source": [
    "## Flatenning the NumPy arrays; use ravel for better computing processing (Not needed as of 02/25)\n"
   ]
  },
  {
   "cell_type": "code",
   "execution_count": 116,
   "id": "1e28a9a0-255e-4c4d-a218-e1eccc439f72",
   "metadata": {},
   "outputs": [
    {
     "data": {
      "text/plain": [
       "array([41.711475, 41.713177, 41.702484, ..., 40.947403, 40.948895,\n",
       "       40.95039 ], dtype=float32)"
      ]
     },
     "execution_count": 116,
     "metadata": {},
     "output_type": "execute_result"
    }
   ],
   "source": [
    "sentinel_lat"
   ]
  },
  {
   "cell_type": "code",
   "execution_count": 117,
   "id": "1047acdf-090f-485e-b28c-0a6e65ab4712",
   "metadata": {},
   "outputs": [],
   "source": [
    "# sentinel_lat = sentinel_lat.ravel()\n",
    "# sentinel_lon = sentinel_lon.ravel()"
   ]
  },
  {
   "cell_type": "markdown",
   "id": "38722200-28fa-4b98-92c3-ff976df488f0",
   "metadata": {},
   "source": [
    "## Stack coodinates pairs"
   ]
  },
  {
   "cell_type": "code",
   "execution_count": 118,
   "id": "39b4782e-7a7c-4025-b5d1-7ba6e23dc187",
   "metadata": {},
   "outputs": [],
   "source": [
    "sentinel_coords = np.column_stack((sentinel_lat, sentinel_lon))"
   ]
  },
  {
   "cell_type": "code",
   "execution_count": 119,
   "id": "6b451e71-97fc-45c9-8a7b-a59fafe46ed2",
   "metadata": {},
   "outputs": [
    {
     "data": {
      "text/plain": [
       "(5115, 2)"
      ]
     },
     "execution_count": 119,
     "metadata": {},
     "output_type": "execute_result"
    }
   ],
   "source": [
    "sentinel_coords.shape"
   ]
  },
  {
   "cell_type": "markdown",
   "id": "73ab9aac-c895-49b0-b143-10946936933c",
   "metadata": {},
   "source": [
    "## Build KDTree for fast nearest-neighbor search on GRIB data grid"
   ]
  },
  {
   "cell_type": "code",
   "execution_count": 120,
   "id": "3f157e38-b43e-457b-bfe5-31c6c95b991d",
   "metadata": {},
   "outputs": [],
   "source": [
    "grib_coords = np.array(np.meshgrid(lat, lon)).T.reshape(-1, 2)  # Flatten lat/lon grid\n",
    "tree = cKDTree(grib_coords)"
   ]
  },
  {
   "cell_type": "code",
   "execution_count": 121,
   "id": "7f0101d5-e771-45db-9955-358c27a207a7",
   "metadata": {},
   "outputs": [
    {
     "data": {
      "text/plain": [
       "(2925, 2)"
      ]
     },
     "execution_count": 121,
     "metadata": {},
     "output_type": "execute_result"
    }
   ],
   "source": [
    "grib_coords.shape"
   ]
  },
  {
   "cell_type": "markdown",
   "id": "c3d78b5c-d517-40b9-84e9-abc4d6208b51",
   "metadata": {},
   "source": [
    "## Find closest GRIB grid points for each Sentinel-1 point"
   ]
  },
  {
   "cell_type": "code",
   "execution_count": 122,
   "id": "0c6c2a12-3be6-4e6c-9bef-e0d70bdc3080",
   "metadata": {},
   "outputs": [],
   "source": [
    "_, idxs = tree.query(sentinel_coords)"
   ]
  },
  {
   "cell_type": "markdown",
   "id": "cde37a05-3d78-4dc9-92ee-5c7a1bd73d88",
   "metadata": {},
   "source": [
    "## Extract nearest lat/lon values from GRIB"
   ]
  },
  {
   "cell_type": "code",
   "execution_count": 123,
   "id": "59e0cf30-0462-4b16-995b-b5afdd0477a1",
   "metadata": {},
   "outputs": [],
   "source": [
    "matched_lat_lon = grib_coords[idxs]"
   ]
  },
  {
   "cell_type": "code",
   "execution_count": 124,
   "id": "0cde5b53-6588-49e1-83e5-a5c5a7bdffda",
   "metadata": {},
   "outputs": [
    {
     "data": {
      "text/plain": [
       "array([[ 41.75, -71.25],\n",
       "       [ 41.75, -71.25],\n",
       "       [ 41.75, -71.25],\n",
       "       ...,\n",
       "       [ 41.  , -73.75],\n",
       "       [ 41.  , -73.75],\n",
       "       [ 41.  , -73.75]])"
      ]
     },
     "execution_count": 124,
     "metadata": {},
     "output_type": "execute_result"
    }
   ],
   "source": [
    "matched_lat_lon#.shape#[:, 0]"
   ]
  },
  {
   "cell_type": "markdown",
   "id": "ac5f2427-e6ff-43e2-b1e7-1e0872368560",
   "metadata": {},
   "source": [
    "# Match Temporally"
   ]
  },
  {
   "cell_type": "markdown",
   "id": "6a6dadf4-2e40-455f-9c8b-e496e50ee66c",
   "metadata": {},
   "source": [
    "## ERA5 Reanalysis dataset"
   ]
  },
  {
   "cell_type": "code",
   "execution_count": 125,
   "id": "745817fd-527e-4489-a2a0-25a3927ca437",
   "metadata": {},
   "outputs": [
    {
     "data": {
      "text/plain": [
       "array(['2023-01-01T00:00:00.000000000', '2023-01-01T01:00:00.000000000',\n",
       "       '2023-01-01T02:00:00.000000000', ...,\n",
       "       '2024-12-31T21:00:00.000000000', '2024-12-31T22:00:00.000000000',\n",
       "       '2024-12-31T23:00:00.000000000'], dtype='datetime64[ns]')"
      ]
     },
     "execution_count": 125,
     "metadata": {},
     "output_type": "execute_result"
    }
   ],
   "source": [
    "time.values"
   ]
  },
  {
   "cell_type": "code",
   "execution_count": 126,
   "id": "d0b411b8-0619-40bd-b5ff-6b1629f6886a",
   "metadata": {},
   "outputs": [
    {
     "data": {
      "text/plain": [
       "array(['2023-01-01T00:00:00.000000000', '2023-01-01T01:00:00.000000000',\n",
       "       '2023-01-01T02:00:00.000000000', ...,\n",
       "       '2024-12-31T21:00:00.000000000', '2024-12-31T22:00:00.000000000',\n",
       "       '2024-12-31T23:00:00.000000000'], dtype='datetime64[ns]')"
      ]
     },
     "execution_count": 126,
     "metadata": {},
     "output_type": "execute_result"
    }
   ],
   "source": [
    "(time.values)"
   ]
  },
  {
   "cell_type": "markdown",
   "id": "62e10286-8470-4039-be1b-72b982291a0e",
   "metadata": {},
   "source": [
    "## Sentinel 1 products dataset"
   ]
  },
  {
   "cell_type": "markdown",
   "id": "becb9423-fe35-43fe-9eba-ab9eb3ac9a71",
   "metadata": {},
   "source": [
    "### For loop for next steps..."
   ]
  },
  {
   "cell_type": "markdown",
   "id": "4ba10f00-0d09-4799-8c9a-16de9187a83f",
   "metadata": {},
   "source": [
    "filename_l = []\n",
    "date_l = []\n",
    "start_time_l = []\n",
    "end_time_l = []\n",
    "\n",
    "for i in data_files:\n",
    "    filename, date, start_time, end_time = extract_datetime_from_filename(i)\n",
    "    filename_l.append(filename)\n",
    "    date_l.append(date)\n",
    "    start_time_l.append(start_time)\n",
    "    end_time_l.append(end_time)\n",
    "    "
   ]
  },
  {
   "cell_type": "markdown",
   "id": "81dbcb19-4e2e-4e1b-bb60-ff82440f607c",
   "metadata": {},
   "source": [
    "### Test dataset"
   ]
  },
  {
   "cell_type": "code",
   "execution_count": 127,
   "id": "cba70650-78fa-46ff-82a5-662288a282dc",
   "metadata": {},
   "outputs": [],
   "source": [
    "filename, date, start_time, end_time = extract_datetime_from_filename(data_files[7])\n",
    "\n",
    "# Product from '2023-01-23'"
   ]
  },
  {
   "cell_type": "code",
   "execution_count": 128,
   "id": "f002cd18-b800-4f70-b144-fa645517507d",
   "metadata": {},
   "outputs": [
    {
     "data": {
      "text/plain": [
       "'S1A_IW_OCN__2SDH_20230710T105755_20230710T105818_049360_05EF7F_3CBA'"
      ]
     },
     "execution_count": 128,
     "metadata": {},
     "output_type": "execute_result"
    }
   ],
   "source": [
    "filename"
   ]
  },
  {
   "cell_type": "code",
   "execution_count": 129,
   "id": "76d0412b-be5e-4bfb-839d-4e7b01cb243d",
   "metadata": {},
   "outputs": [
    {
     "data": {
      "text/plain": [
       "datetime.datetime(2023, 7, 10, 10, 58, 18)"
      ]
     },
     "execution_count": 129,
     "metadata": {},
     "output_type": "execute_result"
    }
   ],
   "source": [
    "import re\n",
    "from datetime import datetime\n",
    "parts = re.split('_', filename)\n",
    "datetime.strptime(parts[6], '%Y%m%dT%H%M%S')"
   ]
  },
  {
   "cell_type": "code",
   "execution_count": 130,
   "id": "29bcab76-6846-40e4-863f-ff1fa210f029",
   "metadata": {},
   "outputs": [],
   "source": [
    "# Combine date and time into a single string in ISO 8601 format\n",
    "sentinel_datetime_str = f\"{date}T{end_time}\"\n",
    "sentinel_datetime = np.datetime64(sentinel_datetime_str)\n",
    "# sentinel_datetime_str = np.char.add(np.char.add(date, 'T'), end_time)\n",
    "# sentinel_datetime_str = sentinel_datetime_str.astype('datetime64[ns]')"
   ]
  },
  {
   "cell_type": "code",
   "execution_count": 131,
   "id": "4085314c-a7de-451e-a6b7-ace3d4c084bf",
   "metadata": {},
   "outputs": [
    {
     "data": {
      "text/plain": [
       "numpy.datetime64('2023-07-10T10:58:18')"
      ]
     },
     "execution_count": 131,
     "metadata": {},
     "output_type": "execute_result"
    }
   ],
   "source": [
    "sentinel_datetime"
   ]
  },
  {
   "cell_type": "markdown",
   "id": "fab71cfa-3e05-4698-a8e6-178f795fbdd5",
   "metadata": {},
   "source": [
    "## Convert ERA5 & Sentinel time to datetime64"
   ]
  },
  {
   "cell_type": "markdown",
   "id": "09ce6c28-0b53-4271-8c7f-10a61add7834",
   "metadata": {},
   "source": [
    "### Convert ERA5 time to datetime64"
   ]
  },
  {
   "cell_type": "code",
   "execution_count": 132,
   "id": "9dc70ba5-4b42-4396-87bf-2599c6abab23",
   "metadata": {},
   "outputs": [
    {
     "data": {
      "text/plain": [
       "array(['2023-01-01T00:00:00.000000000', '2023-01-01T01:00:00.000000000',\n",
       "       '2023-01-01T02:00:00.000000000', ...,\n",
       "       '2024-12-31T21:00:00.000000000', '2024-12-31T22:00:00.000000000',\n",
       "       '2024-12-31T23:00:00.000000000'], dtype='datetime64[ns]')"
      ]
     },
     "execution_count": 132,
     "metadata": {},
     "output_type": "execute_result"
    }
   ],
   "source": [
    "era5_time = time.values  # ERA5 time as datetime64\n",
    "era5_time"
   ]
  },
  {
   "cell_type": "markdown",
   "id": "29f77ba8-fe97-46cd-a61c-8c0f0adfc8ee",
   "metadata": {},
   "source": [
    "### Convert Sentinel datetime to match ERA5 format"
   ]
  },
  {
   "cell_type": "code",
   "execution_count": 133,
   "id": "2ba522e1-bf68-4b3b-b10e-af336fcedbf5",
   "metadata": {},
   "outputs": [
    {
     "data": {
      "text/plain": [
       "numpy.datetime64('2023-07-10T10:58:18')"
      ]
     },
     "execution_count": 133,
     "metadata": {},
     "output_type": "execute_result"
    }
   ],
   "source": [
    "sentinel_datetime = np.datetime64(sentinel_datetime_str)\n",
    "sentinel_datetime"
   ]
  },
  {
   "cell_type": "code",
   "execution_count": 134,
   "id": "9beecd43-3e8d-4be5-9e33-32ad9c7bf5e5",
   "metadata": {},
   "outputs": [
    {
     "data": {
      "text/plain": [
       "array([-16455498000000000, -16451898000000000, -16448298000000000, ...,\n",
       "        46692102000000000,  46695702000000000,  46699302000000000],\n",
       "      dtype='timedelta64[ns]')"
      ]
     },
     "execution_count": 134,
     "metadata": {},
     "output_type": "execute_result"
    }
   ],
   "source": [
    "era5_time - sentinel_datetime"
   ]
  },
  {
   "cell_type": "code",
   "execution_count": 135,
   "id": "a8a71502-6e6e-4d02-baa2-243e479dda2e",
   "metadata": {},
   "outputs": [
    {
     "data": {
      "text/plain": [
       "17544"
      ]
     },
     "execution_count": 135,
     "metadata": {},
     "output_type": "execute_result"
    }
   ],
   "source": [
    "len(era5_time)"
   ]
  },
  {
   "cell_type": "code",
   "execution_count": 136,
   "id": "6da27e11-95f0-454e-a254-60b654057b6f",
   "metadata": {},
   "outputs": [],
   "source": [
    "# Find the closest time index\n",
    "time_idx = np.argmin(np.abs(era5_time - sentinel_datetime))\n",
    "\n",
    "# Get the matched ERA5 time\n",
    "matched_era5_time = era5_time[time_idx]"
   ]
  },
  {
   "cell_type": "code",
   "execution_count": 137,
   "id": "0bff8933-d93c-40da-b724-2eabc2fdb82c",
   "metadata": {},
   "outputs": [],
   "source": [
    "# Convert datetime64 to integer timestamp (nanoseconds)\n",
    "matched_era5_time_int = matched_era5_time.astype('int64')"
   ]
  },
  {
   "cell_type": "code",
   "execution_count": 138,
   "id": "91bb49fc-abc0-48e6-a046-05882f93c33d",
   "metadata": {},
   "outputs": [
    {
     "data": {
      "text/plain": [
       "numpy.datetime64('2023-07-10T11:00:00.000000000')"
      ]
     },
     "execution_count": 138,
     "metadata": {},
     "output_type": "execute_result"
    }
   ],
   "source": [
    "matched_era5_time"
   ]
  },
  {
   "cell_type": "code",
   "execution_count": 139,
   "id": "aebd9906-5c2b-4f01-9ab5-6afaaed3589a",
   "metadata": {},
   "outputs": [
    {
     "data": {
      "text/plain": [
       "4571"
      ]
     },
     "execution_count": 139,
     "metadata": {},
     "output_type": "execute_result"
    }
   ],
   "source": [
    "time_idx"
   ]
  },
  {
   "cell_type": "code",
   "execution_count": 140,
   "id": "78323bdf-8d21-4f68-8f0c-28b2db4dd9a2",
   "metadata": {},
   "outputs": [
    {
     "data": {
      "text/html": [
       "<div><svg style=\"position: absolute; width: 0; height: 0; overflow: hidden\">\n",
       "<defs>\n",
       "<symbol id=\"icon-database\" viewBox=\"0 0 32 32\">\n",
       "<path d=\"M16 0c-8.837 0-16 2.239-16 5v4c0 2.761 7.163 5 16 5s16-2.239 16-5v-4c0-2.761-7.163-5-16-5z\"></path>\n",
       "<path d=\"M16 17c-8.837 0-16-2.239-16-5v6c0 2.761 7.163 5 16 5s16-2.239 16-5v-6c0 2.761-7.163 5-16 5z\"></path>\n",
       "<path d=\"M16 26c-8.837 0-16-2.239-16-5v6c0 2.761 7.163 5 16 5s16-2.239 16-5v-6c0 2.761-7.163 5-16 5z\"></path>\n",
       "</symbol>\n",
       "<symbol id=\"icon-file-text2\" viewBox=\"0 0 32 32\">\n",
       "<path d=\"M28.681 7.159c-0.694-0.947-1.662-2.053-2.724-3.116s-2.169-2.030-3.116-2.724c-1.612-1.182-2.393-1.319-2.841-1.319h-15.5c-1.378 0-2.5 1.121-2.5 2.5v27c0 1.378 1.122 2.5 2.5 2.5h23c1.378 0 2.5-1.122 2.5-2.5v-19.5c0-0.448-0.137-1.23-1.319-2.841zM24.543 5.457c0.959 0.959 1.712 1.825 2.268 2.543h-4.811v-4.811c0.718 0.556 1.584 1.309 2.543 2.268zM28 29.5c0 0.271-0.229 0.5-0.5 0.5h-23c-0.271 0-0.5-0.229-0.5-0.5v-27c0-0.271 0.229-0.5 0.5-0.5 0 0 15.499-0 15.5 0v7c0 0.552 0.448 1 1 1h7v19.5z\"></path>\n",
       "<path d=\"M23 26h-14c-0.552 0-1-0.448-1-1s0.448-1 1-1h14c0.552 0 1 0.448 1 1s-0.448 1-1 1z\"></path>\n",
       "<path d=\"M23 22h-14c-0.552 0-1-0.448-1-1s0.448-1 1-1h14c0.552 0 1 0.448 1 1s-0.448 1-1 1z\"></path>\n",
       "<path d=\"M23 18h-14c-0.552 0-1-0.448-1-1s0.448-1 1-1h14c0.552 0 1 0.448 1 1s-0.448 1-1 1z\"></path>\n",
       "</symbol>\n",
       "</defs>\n",
       "</svg>\n",
       "<style>/* CSS stylesheet for displaying xarray objects in jupyterlab.\n",
       " *\n",
       " */\n",
       "\n",
       ":root {\n",
       "  --xr-font-color0: var(--jp-content-font-color0, rgba(0, 0, 0, 1));\n",
       "  --xr-font-color2: var(--jp-content-font-color2, rgba(0, 0, 0, 0.54));\n",
       "  --xr-font-color3: var(--jp-content-font-color3, rgba(0, 0, 0, 0.38));\n",
       "  --xr-border-color: var(--jp-border-color2, #e0e0e0);\n",
       "  --xr-disabled-color: var(--jp-layout-color3, #bdbdbd);\n",
       "  --xr-background-color: var(--jp-layout-color0, white);\n",
       "  --xr-background-color-row-even: var(--jp-layout-color1, white);\n",
       "  --xr-background-color-row-odd: var(--jp-layout-color2, #eeeeee);\n",
       "}\n",
       "\n",
       "html[theme=\"dark\"],\n",
       "html[data-theme=\"dark\"],\n",
       "body[data-theme=\"dark\"],\n",
       "body.vscode-dark {\n",
       "  --xr-font-color0: rgba(255, 255, 255, 1);\n",
       "  --xr-font-color2: rgba(255, 255, 255, 0.54);\n",
       "  --xr-font-color3: rgba(255, 255, 255, 0.38);\n",
       "  --xr-border-color: #1f1f1f;\n",
       "  --xr-disabled-color: #515151;\n",
       "  --xr-background-color: #111111;\n",
       "  --xr-background-color-row-even: #111111;\n",
       "  --xr-background-color-row-odd: #313131;\n",
       "}\n",
       "\n",
       ".xr-wrap {\n",
       "  display: block !important;\n",
       "  min-width: 300px;\n",
       "  max-width: 700px;\n",
       "}\n",
       "\n",
       ".xr-text-repr-fallback {\n",
       "  /* fallback to plain text repr when CSS is not injected (untrusted notebook) */\n",
       "  display: none;\n",
       "}\n",
       "\n",
       ".xr-header {\n",
       "  padding-top: 6px;\n",
       "  padding-bottom: 6px;\n",
       "  margin-bottom: 4px;\n",
       "  border-bottom: solid 1px var(--xr-border-color);\n",
       "}\n",
       "\n",
       ".xr-header > div,\n",
       ".xr-header > ul {\n",
       "  display: inline;\n",
       "  margin-top: 0;\n",
       "  margin-bottom: 0;\n",
       "}\n",
       "\n",
       ".xr-obj-type,\n",
       ".xr-array-name {\n",
       "  margin-left: 2px;\n",
       "  margin-right: 10px;\n",
       "}\n",
       "\n",
       ".xr-obj-type {\n",
       "  color: var(--xr-font-color2);\n",
       "}\n",
       "\n",
       ".xr-sections {\n",
       "  padding-left: 0 !important;\n",
       "  display: grid;\n",
       "  grid-template-columns: 150px auto auto 1fr 0 20px 0 20px;\n",
       "}\n",
       "\n",
       ".xr-section-item {\n",
       "  display: contents;\n",
       "}\n",
       "\n",
       ".xr-section-item input {\n",
       "  display: inline-block;\n",
       "  opacity: 0;\n",
       "  height: 0;\n",
       "}\n",
       "\n",
       ".xr-section-item input + label {\n",
       "  color: var(--xr-disabled-color);\n",
       "}\n",
       "\n",
       ".xr-section-item input:enabled + label {\n",
       "  cursor: pointer;\n",
       "  color: var(--xr-font-color2);\n",
       "}\n",
       "\n",
       ".xr-section-item input:focus + label {\n",
       "  border: 2px solid var(--xr-font-color0);\n",
       "}\n",
       "\n",
       ".xr-section-item input:enabled + label:hover {\n",
       "  color: var(--xr-font-color0);\n",
       "}\n",
       "\n",
       ".xr-section-summary {\n",
       "  grid-column: 1;\n",
       "  color: var(--xr-font-color2);\n",
       "  font-weight: 500;\n",
       "}\n",
       "\n",
       ".xr-section-summary > span {\n",
       "  display: inline-block;\n",
       "  padding-left: 0.5em;\n",
       "}\n",
       "\n",
       ".xr-section-summary-in:disabled + label {\n",
       "  color: var(--xr-font-color2);\n",
       "}\n",
       "\n",
       ".xr-section-summary-in + label:before {\n",
       "  display: inline-block;\n",
       "  content: \"►\";\n",
       "  font-size: 11px;\n",
       "  width: 15px;\n",
       "  text-align: center;\n",
       "}\n",
       "\n",
       ".xr-section-summary-in:disabled + label:before {\n",
       "  color: var(--xr-disabled-color);\n",
       "}\n",
       "\n",
       ".xr-section-summary-in:checked + label:before {\n",
       "  content: \"▼\";\n",
       "}\n",
       "\n",
       ".xr-section-summary-in:checked + label > span {\n",
       "  display: none;\n",
       "}\n",
       "\n",
       ".xr-section-summary,\n",
       ".xr-section-inline-details {\n",
       "  padding-top: 4px;\n",
       "  padding-bottom: 4px;\n",
       "}\n",
       "\n",
       ".xr-section-inline-details {\n",
       "  grid-column: 2 / -1;\n",
       "}\n",
       "\n",
       ".xr-section-details {\n",
       "  display: none;\n",
       "  grid-column: 1 / -1;\n",
       "  margin-bottom: 5px;\n",
       "}\n",
       "\n",
       ".xr-section-summary-in:checked ~ .xr-section-details {\n",
       "  display: contents;\n",
       "}\n",
       "\n",
       ".xr-array-wrap {\n",
       "  grid-column: 1 / -1;\n",
       "  display: grid;\n",
       "  grid-template-columns: 20px auto;\n",
       "}\n",
       "\n",
       ".xr-array-wrap > label {\n",
       "  grid-column: 1;\n",
       "  vertical-align: top;\n",
       "}\n",
       "\n",
       ".xr-preview {\n",
       "  color: var(--xr-font-color3);\n",
       "}\n",
       "\n",
       ".xr-array-preview,\n",
       ".xr-array-data {\n",
       "  padding: 0 5px !important;\n",
       "  grid-column: 2;\n",
       "}\n",
       "\n",
       ".xr-array-data,\n",
       ".xr-array-in:checked ~ .xr-array-preview {\n",
       "  display: none;\n",
       "}\n",
       "\n",
       ".xr-array-in:checked ~ .xr-array-data,\n",
       ".xr-array-preview {\n",
       "  display: inline-block;\n",
       "}\n",
       "\n",
       ".xr-dim-list {\n",
       "  display: inline-block !important;\n",
       "  list-style: none;\n",
       "  padding: 0 !important;\n",
       "  margin: 0;\n",
       "}\n",
       "\n",
       ".xr-dim-list li {\n",
       "  display: inline-block;\n",
       "  padding: 0;\n",
       "  margin: 0;\n",
       "}\n",
       "\n",
       ".xr-dim-list:before {\n",
       "  content: \"(\";\n",
       "}\n",
       "\n",
       ".xr-dim-list:after {\n",
       "  content: \")\";\n",
       "}\n",
       "\n",
       ".xr-dim-list li:not(:last-child):after {\n",
       "  content: \",\";\n",
       "  padding-right: 5px;\n",
       "}\n",
       "\n",
       ".xr-has-index {\n",
       "  font-weight: bold;\n",
       "}\n",
       "\n",
       ".xr-var-list,\n",
       ".xr-var-item {\n",
       "  display: contents;\n",
       "}\n",
       "\n",
       ".xr-var-item > div,\n",
       ".xr-var-item label,\n",
       ".xr-var-item > .xr-var-name span {\n",
       "  background-color: var(--xr-background-color-row-even);\n",
       "  margin-bottom: 0;\n",
       "}\n",
       "\n",
       ".xr-var-item > .xr-var-name:hover span {\n",
       "  padding-right: 5px;\n",
       "}\n",
       "\n",
       ".xr-var-list > li:nth-child(odd) > div,\n",
       ".xr-var-list > li:nth-child(odd) > label,\n",
       ".xr-var-list > li:nth-child(odd) > .xr-var-name span {\n",
       "  background-color: var(--xr-background-color-row-odd);\n",
       "}\n",
       "\n",
       ".xr-var-name {\n",
       "  grid-column: 1;\n",
       "}\n",
       "\n",
       ".xr-var-dims {\n",
       "  grid-column: 2;\n",
       "}\n",
       "\n",
       ".xr-var-dtype {\n",
       "  grid-column: 3;\n",
       "  text-align: right;\n",
       "  color: var(--xr-font-color2);\n",
       "}\n",
       "\n",
       ".xr-var-preview {\n",
       "  grid-column: 4;\n",
       "}\n",
       "\n",
       ".xr-index-preview {\n",
       "  grid-column: 2 / 5;\n",
       "  color: var(--xr-font-color2);\n",
       "}\n",
       "\n",
       ".xr-var-name,\n",
       ".xr-var-dims,\n",
       ".xr-var-dtype,\n",
       ".xr-preview,\n",
       ".xr-attrs dt {\n",
       "  white-space: nowrap;\n",
       "  overflow: hidden;\n",
       "  text-overflow: ellipsis;\n",
       "  padding-right: 10px;\n",
       "}\n",
       "\n",
       ".xr-var-name:hover,\n",
       ".xr-var-dims:hover,\n",
       ".xr-var-dtype:hover,\n",
       ".xr-attrs dt:hover {\n",
       "  overflow: visible;\n",
       "  width: auto;\n",
       "  z-index: 1;\n",
       "}\n",
       "\n",
       ".xr-var-attrs,\n",
       ".xr-var-data,\n",
       ".xr-index-data {\n",
       "  display: none;\n",
       "  background-color: var(--xr-background-color) !important;\n",
       "  padding-bottom: 5px !important;\n",
       "}\n",
       "\n",
       ".xr-var-attrs-in:checked ~ .xr-var-attrs,\n",
       ".xr-var-data-in:checked ~ .xr-var-data,\n",
       ".xr-index-data-in:checked ~ .xr-index-data {\n",
       "  display: block;\n",
       "}\n",
       "\n",
       ".xr-var-data > table {\n",
       "  float: right;\n",
       "}\n",
       "\n",
       ".xr-var-name span,\n",
       ".xr-var-data,\n",
       ".xr-index-name div,\n",
       ".xr-index-data,\n",
       ".xr-attrs {\n",
       "  padding-left: 25px !important;\n",
       "}\n",
       "\n",
       ".xr-attrs,\n",
       ".xr-var-attrs,\n",
       ".xr-var-data,\n",
       ".xr-index-data {\n",
       "  grid-column: 1 / -1;\n",
       "}\n",
       "\n",
       "dl.xr-attrs {\n",
       "  padding: 0;\n",
       "  margin: 0;\n",
       "  display: grid;\n",
       "  grid-template-columns: 125px auto;\n",
       "}\n",
       "\n",
       ".xr-attrs dt,\n",
       ".xr-attrs dd {\n",
       "  padding: 0;\n",
       "  margin: 0;\n",
       "  float: left;\n",
       "  padding-right: 10px;\n",
       "  width: auto;\n",
       "}\n",
       "\n",
       ".xr-attrs dt {\n",
       "  font-weight: normal;\n",
       "  grid-column: 1;\n",
       "}\n",
       "\n",
       ".xr-attrs dt:hover span {\n",
       "  display: inline-block;\n",
       "  background: var(--xr-background-color);\n",
       "  padding-right: 10px;\n",
       "}\n",
       "\n",
       ".xr-attrs dd {\n",
       "  grid-column: 2;\n",
       "  white-space: pre-wrap;\n",
       "  word-break: break-all;\n",
       "}\n",
       "\n",
       ".xr-icon-database,\n",
       ".xr-icon-file-text2,\n",
       ".xr-no-icon {\n",
       "  display: inline-block;\n",
       "  vertical-align: middle;\n",
       "  width: 1em;\n",
       "  height: 1.5em !important;\n",
       "  stroke-width: 0;\n",
       "  stroke: currentColor;\n",
       "  fill: currentColor;\n",
       "}\n",
       "</style><pre class='xr-text-repr-fallback'>&lt;xarray.DataArray &#x27;u10&#x27; (latitude: 45, longitude: 65)&gt; Size: 12kB\n",
       "[2925 values with dtype=float32]\n",
       "Coordinates:\n",
       "    number      int64 8B ...\n",
       "    time        datetime64[ns] 8B 2023-06-16T11:00:00\n",
       "    step        timedelta64[ns] 8B ...\n",
       "    surface     float64 8B ...\n",
       "  * latitude    (latitude) float64 360B 44.0 43.75 43.5 ... 33.5 33.25 33.0\n",
       "  * longitude   (longitude) float64 520B -78.0 -77.75 -77.5 ... -62.25 -62.0\n",
       "    valid_time  datetime64[ns] 8B ...\n",
       "Attributes: (12/31)\n",
       "    GRIB_paramId:                             165\n",
       "    GRIB_dataType:                            an\n",
       "    GRIB_numberOfPoints:                      2925\n",
       "    GRIB_typeOfLevel:                         surface\n",
       "    GRIB_stepUnits:                           1\n",
       "    GRIB_stepType:                            instant\n",
       "    ...                                       ...\n",
       "    GRIB_shortName:                           10u\n",
       "    GRIB_totalNumber:                         0\n",
       "    GRIB_units:                               m s**-1\n",
       "    long_name:                                10 metre U wind component\n",
       "    units:                                    m s**-1\n",
       "    standard_name:                            unknown</pre><div class='xr-wrap' style='display:none'><div class='xr-header'><div class='xr-obj-type'>xarray.DataArray</div><div class='xr-array-name'>'u10'</div><ul class='xr-dim-list'><li><span class='xr-has-index'>latitude</span>: 45</li><li><span class='xr-has-index'>longitude</span>: 65</li></ul></div><ul class='xr-sections'><li class='xr-section-item'><div class='xr-array-wrap'><input id='section-c10951b0-0b92-4588-adc5-02e2790a20a7' class='xr-array-in' type='checkbox' checked><label for='section-c10951b0-0b92-4588-adc5-02e2790a20a7' title='Show/hide data repr'><svg class='icon xr-icon-database'><use xlink:href='#icon-database'></use></svg></label><div class='xr-array-preview xr-preview'><span>...</span></div><div class='xr-array-data'><pre>[2925 values with dtype=float32]</pre></div></div></li><li class='xr-section-item'><input id='section-410a188c-4e2c-4245-86a1-d761f00e06e4' class='xr-section-summary-in' type='checkbox'  checked><label for='section-410a188c-4e2c-4245-86a1-d761f00e06e4' class='xr-section-summary' >Coordinates: <span>(7)</span></label><div class='xr-section-inline-details'></div><div class='xr-section-details'><ul class='xr-var-list'><li class='xr-var-item'><div class='xr-var-name'><span>number</span></div><div class='xr-var-dims'>()</div><div class='xr-var-dtype'>int64</div><div class='xr-var-preview xr-preview'>...</div><input id='attrs-f5e692f2-7570-427d-99c6-8512d4ee7cd4' class='xr-var-attrs-in' type='checkbox' ><label for='attrs-f5e692f2-7570-427d-99c6-8512d4ee7cd4' title='Show/Hide attributes'><svg class='icon xr-icon-file-text2'><use xlink:href='#icon-file-text2'></use></svg></label><input id='data-46a416bd-da1a-4732-a9c4-7a892b9d8f4a' class='xr-var-data-in' type='checkbox'><label for='data-46a416bd-da1a-4732-a9c4-7a892b9d8f4a' title='Show/Hide data repr'><svg class='icon xr-icon-database'><use xlink:href='#icon-database'></use></svg></label><div class='xr-var-attrs'><dl class='xr-attrs'><dt><span>long_name :</span></dt><dd>ensemble member numerical id</dd><dt><span>units :</span></dt><dd>1</dd><dt><span>standard_name :</span></dt><dd>realization</dd></dl></div><div class='xr-var-data'><pre>[1 values with dtype=int64]</pre></div></li><li class='xr-var-item'><div class='xr-var-name'><span>time</span></div><div class='xr-var-dims'>()</div><div class='xr-var-dtype'>datetime64[ns]</div><div class='xr-var-preview xr-preview'>2023-06-16T11:00:00</div><input id='attrs-bf890146-6271-4a3d-b354-feff8e76115a' class='xr-var-attrs-in' type='checkbox' ><label for='attrs-bf890146-6271-4a3d-b354-feff8e76115a' title='Show/Hide attributes'><svg class='icon xr-icon-file-text2'><use xlink:href='#icon-file-text2'></use></svg></label><input id='data-5018c7eb-2fb3-4f40-8538-5633c22901d4' class='xr-var-data-in' type='checkbox'><label for='data-5018c7eb-2fb3-4f40-8538-5633c22901d4' title='Show/Hide data repr'><svg class='icon xr-icon-database'><use xlink:href='#icon-database'></use></svg></label><div class='xr-var-attrs'><dl class='xr-attrs'><dt><span>long_name :</span></dt><dd>initial time of forecast</dd><dt><span>standard_name :</span></dt><dd>forecast_reference_time</dd></dl></div><div class='xr-var-data'><pre>array(&#x27;2023-06-16T11:00:00.000000000&#x27;, dtype=&#x27;datetime64[ns]&#x27;)</pre></div></li><li class='xr-var-item'><div class='xr-var-name'><span>step</span></div><div class='xr-var-dims'>()</div><div class='xr-var-dtype'>timedelta64[ns]</div><div class='xr-var-preview xr-preview'>...</div><input id='attrs-44673022-8633-4388-8906-4423e452749e' class='xr-var-attrs-in' type='checkbox' ><label for='attrs-44673022-8633-4388-8906-4423e452749e' title='Show/Hide attributes'><svg class='icon xr-icon-file-text2'><use xlink:href='#icon-file-text2'></use></svg></label><input id='data-a6e6b30a-f937-458b-9d75-1082f1eaad85' class='xr-var-data-in' type='checkbox'><label for='data-a6e6b30a-f937-458b-9d75-1082f1eaad85' title='Show/Hide data repr'><svg class='icon xr-icon-database'><use xlink:href='#icon-database'></use></svg></label><div class='xr-var-attrs'><dl class='xr-attrs'><dt><span>long_name :</span></dt><dd>time since forecast_reference_time</dd><dt><span>standard_name :</span></dt><dd>forecast_period</dd></dl></div><div class='xr-var-data'><pre>[1 values with dtype=timedelta64[ns]]</pre></div></li><li class='xr-var-item'><div class='xr-var-name'><span>surface</span></div><div class='xr-var-dims'>()</div><div class='xr-var-dtype'>float64</div><div class='xr-var-preview xr-preview'>...</div><input id='attrs-8a58efd9-2629-450f-92d8-87bdeabd25d9' class='xr-var-attrs-in' type='checkbox' ><label for='attrs-8a58efd9-2629-450f-92d8-87bdeabd25d9' title='Show/Hide attributes'><svg class='icon xr-icon-file-text2'><use xlink:href='#icon-file-text2'></use></svg></label><input id='data-4d8084ce-0b40-4c66-8876-7719044dee54' class='xr-var-data-in' type='checkbox'><label for='data-4d8084ce-0b40-4c66-8876-7719044dee54' title='Show/Hide data repr'><svg class='icon xr-icon-database'><use xlink:href='#icon-database'></use></svg></label><div class='xr-var-attrs'><dl class='xr-attrs'><dt><span>long_name :</span></dt><dd>original GRIB coordinate for key: level(surface)</dd><dt><span>units :</span></dt><dd>1</dd></dl></div><div class='xr-var-data'><pre>[1 values with dtype=float64]</pre></div></li><li class='xr-var-item'><div class='xr-var-name'><span class='xr-has-index'>latitude</span></div><div class='xr-var-dims'>(latitude)</div><div class='xr-var-dtype'>float64</div><div class='xr-var-preview xr-preview'>44.0 43.75 43.5 ... 33.5 33.25 33.0</div><input id='attrs-0e2b43e8-4539-4337-8b9a-b0eb52f99949' class='xr-var-attrs-in' type='checkbox' ><label for='attrs-0e2b43e8-4539-4337-8b9a-b0eb52f99949' title='Show/Hide attributes'><svg class='icon xr-icon-file-text2'><use xlink:href='#icon-file-text2'></use></svg></label><input id='data-6c6ae767-fc88-4c0f-a0de-e44eba472a57' class='xr-var-data-in' type='checkbox'><label for='data-6c6ae767-fc88-4c0f-a0de-e44eba472a57' title='Show/Hide data repr'><svg class='icon xr-icon-database'><use xlink:href='#icon-database'></use></svg></label><div class='xr-var-attrs'><dl class='xr-attrs'><dt><span>units :</span></dt><dd>degrees_north</dd><dt><span>standard_name :</span></dt><dd>latitude</dd><dt><span>long_name :</span></dt><dd>latitude</dd><dt><span>stored_direction :</span></dt><dd>decreasing</dd></dl></div><div class='xr-var-data'><pre>array([44.  , 43.75, 43.5 , 43.25, 43.  , 42.75, 42.5 , 42.25, 42.  , 41.75,\n",
       "       41.5 , 41.25, 41.  , 40.75, 40.5 , 40.25, 40.  , 39.75, 39.5 , 39.25,\n",
       "       39.  , 38.75, 38.5 , 38.25, 38.  , 37.75, 37.5 , 37.25, 37.  , 36.75,\n",
       "       36.5 , 36.25, 36.  , 35.75, 35.5 , 35.25, 35.  , 34.75, 34.5 , 34.25,\n",
       "       34.  , 33.75, 33.5 , 33.25, 33.  ])</pre></div></li><li class='xr-var-item'><div class='xr-var-name'><span class='xr-has-index'>longitude</span></div><div class='xr-var-dims'>(longitude)</div><div class='xr-var-dtype'>float64</div><div class='xr-var-preview xr-preview'>-78.0 -77.75 -77.5 ... -62.25 -62.0</div><input id='attrs-5fdc471f-2f57-4492-9853-14ea285e1403' class='xr-var-attrs-in' type='checkbox' ><label for='attrs-5fdc471f-2f57-4492-9853-14ea285e1403' title='Show/Hide attributes'><svg class='icon xr-icon-file-text2'><use xlink:href='#icon-file-text2'></use></svg></label><input id='data-2d4bd87c-4ad2-4c5a-8e45-a4825da06c7d' class='xr-var-data-in' type='checkbox'><label for='data-2d4bd87c-4ad2-4c5a-8e45-a4825da06c7d' title='Show/Hide data repr'><svg class='icon xr-icon-database'><use xlink:href='#icon-database'></use></svg></label><div class='xr-var-attrs'><dl class='xr-attrs'><dt><span>units :</span></dt><dd>degrees_east</dd><dt><span>standard_name :</span></dt><dd>longitude</dd><dt><span>long_name :</span></dt><dd>longitude</dd></dl></div><div class='xr-var-data'><pre>array([-78.  , -77.75, -77.5 , -77.25, -77.  , -76.75, -76.5 , -76.25, -76.  ,\n",
       "       -75.75, -75.5 , -75.25, -75.  , -74.75, -74.5 , -74.25, -74.  , -73.75,\n",
       "       -73.5 , -73.25, -73.  , -72.75, -72.5 , -72.25, -72.  , -71.75, -71.5 ,\n",
       "       -71.25, -71.  , -70.75, -70.5 , -70.25, -70.  , -69.75, -69.5 , -69.25,\n",
       "       -69.  , -68.75, -68.5 , -68.25, -68.  , -67.75, -67.5 , -67.25, -67.  ,\n",
       "       -66.75, -66.5 , -66.25, -66.  , -65.75, -65.5 , -65.25, -65.  , -64.75,\n",
       "       -64.5 , -64.25, -64.  , -63.75, -63.5 , -63.25, -63.  , -62.75, -62.5 ,\n",
       "       -62.25, -62.  ])</pre></div></li><li class='xr-var-item'><div class='xr-var-name'><span>valid_time</span></div><div class='xr-var-dims'>()</div><div class='xr-var-dtype'>datetime64[ns]</div><div class='xr-var-preview xr-preview'>...</div><input id='attrs-5a8ea754-e6ea-4fbc-9bab-1e2ea6430a52' class='xr-var-attrs-in' type='checkbox' ><label for='attrs-5a8ea754-e6ea-4fbc-9bab-1e2ea6430a52' title='Show/Hide attributes'><svg class='icon xr-icon-file-text2'><use xlink:href='#icon-file-text2'></use></svg></label><input id='data-7f640ed7-5405-4a60-bdc2-90aa8f76a496' class='xr-var-data-in' type='checkbox'><label for='data-7f640ed7-5405-4a60-bdc2-90aa8f76a496' title='Show/Hide data repr'><svg class='icon xr-icon-database'><use xlink:href='#icon-database'></use></svg></label><div class='xr-var-attrs'><dl class='xr-attrs'><dt><span>standard_name :</span></dt><dd>time</dd><dt><span>long_name :</span></dt><dd>time</dd></dl></div><div class='xr-var-data'><pre>[1 values with dtype=datetime64[ns]]</pre></div></li></ul></div></li><li class='xr-section-item'><input id='section-c88d2c38-b8de-4ee1-9744-fe0b799a1e60' class='xr-section-summary-in' type='checkbox'  ><label for='section-c88d2c38-b8de-4ee1-9744-fe0b799a1e60' class='xr-section-summary' >Indexes: <span>(2)</span></label><div class='xr-section-inline-details'></div><div class='xr-section-details'><ul class='xr-var-list'><li class='xr-var-item'><div class='xr-index-name'><div>latitude</div></div><div class='xr-index-preview'>PandasIndex</div><input type='checkbox' disabled/><label></label><input id='index-18c6676a-1955-4497-97bb-1724867eda1c' class='xr-index-data-in' type='checkbox'/><label for='index-18c6676a-1955-4497-97bb-1724867eda1c' title='Show/Hide index repr'><svg class='icon xr-icon-database'><use xlink:href='#icon-database'></use></svg></label><div class='xr-index-data'><pre>PandasIndex(Index([ 44.0, 43.75,  43.5, 43.25,  43.0, 42.75,  42.5, 42.25,  42.0, 41.75,\n",
       "        41.5, 41.25,  41.0, 40.75,  40.5, 40.25,  40.0, 39.75,  39.5, 39.25,\n",
       "        39.0, 38.75,  38.5, 38.25,  38.0, 37.75,  37.5, 37.25,  37.0, 36.75,\n",
       "        36.5, 36.25,  36.0, 35.75,  35.5, 35.25,  35.0, 34.75,  34.5, 34.25,\n",
       "        34.0, 33.75,  33.5, 33.25,  33.0],\n",
       "      dtype=&#x27;float64&#x27;, name=&#x27;latitude&#x27;))</pre></div></li><li class='xr-var-item'><div class='xr-index-name'><div>longitude</div></div><div class='xr-index-preview'>PandasIndex</div><input type='checkbox' disabled/><label></label><input id='index-a80d6193-e8d6-4bf1-aabc-9487371c70be' class='xr-index-data-in' type='checkbox'/><label for='index-a80d6193-e8d6-4bf1-aabc-9487371c70be' title='Show/Hide index repr'><svg class='icon xr-icon-database'><use xlink:href='#icon-database'></use></svg></label><div class='xr-index-data'><pre>PandasIndex(Index([ -78.0, -77.75,  -77.5, -77.25,  -77.0, -76.75,  -76.5, -76.25,  -76.0,\n",
       "       -75.75,  -75.5, -75.25,  -75.0, -74.75,  -74.5, -74.25,  -74.0, -73.75,\n",
       "        -73.5, -73.25,  -73.0, -72.75,  -72.5, -72.25,  -72.0, -71.75,  -71.5,\n",
       "       -71.25,  -71.0, -70.75,  -70.5, -70.25,  -70.0, -69.75,  -69.5, -69.25,\n",
       "        -69.0, -68.75,  -68.5, -68.25,  -68.0, -67.75,  -67.5, -67.25,  -67.0,\n",
       "       -66.75,  -66.5, -66.25,  -66.0, -65.75,  -65.5, -65.25,  -65.0, -64.75,\n",
       "        -64.5, -64.25,  -64.0, -63.75,  -63.5, -63.25,  -63.0, -62.75,  -62.5,\n",
       "       -62.25,  -62.0],\n",
       "      dtype=&#x27;float64&#x27;, name=&#x27;longitude&#x27;))</pre></div></li></ul></div></li><li class='xr-section-item'><input id='section-e8b2c33b-e40e-4a48-a3f1-36895e617b6a' class='xr-section-summary-in' type='checkbox'  ><label for='section-e8b2c33b-e40e-4a48-a3f1-36895e617b6a' class='xr-section-summary' >Attributes: <span>(31)</span></label><div class='xr-section-inline-details'></div><div class='xr-section-details'><dl class='xr-attrs'><dt><span>GRIB_paramId :</span></dt><dd>165</dd><dt><span>GRIB_dataType :</span></dt><dd>an</dd><dt><span>GRIB_numberOfPoints :</span></dt><dd>2925</dd><dt><span>GRIB_typeOfLevel :</span></dt><dd>surface</dd><dt><span>GRIB_stepUnits :</span></dt><dd>1</dd><dt><span>GRIB_stepType :</span></dt><dd>instant</dd><dt><span>GRIB_gridType :</span></dt><dd>regular_ll</dd><dt><span>GRIB_uvRelativeToGrid :</span></dt><dd>0</dd><dt><span>GRIB_NV :</span></dt><dd>0</dd><dt><span>GRIB_Nx :</span></dt><dd>65</dd><dt><span>GRIB_Ny :</span></dt><dd>45</dd><dt><span>GRIB_cfName :</span></dt><dd>unknown</dd><dt><span>GRIB_cfVarName :</span></dt><dd>u10</dd><dt><span>GRIB_gridDefinitionDescription :</span></dt><dd>Latitude/Longitude Grid</dd><dt><span>GRIB_iDirectionIncrementInDegrees :</span></dt><dd>0.25</dd><dt><span>GRIB_iScansNegatively :</span></dt><dd>0</dd><dt><span>GRIB_jDirectionIncrementInDegrees :</span></dt><dd>0.25</dd><dt><span>GRIB_jPointsAreConsecutive :</span></dt><dd>0</dd><dt><span>GRIB_jScansPositively :</span></dt><dd>0</dd><dt><span>GRIB_latitudeOfFirstGridPointInDegrees :</span></dt><dd>44.0</dd><dt><span>GRIB_latitudeOfLastGridPointInDegrees :</span></dt><dd>33.0</dd><dt><span>GRIB_longitudeOfFirstGridPointInDegrees :</span></dt><dd>-78.0</dd><dt><span>GRIB_longitudeOfLastGridPointInDegrees :</span></dt><dd>-62.0</dd><dt><span>GRIB_missingValue :</span></dt><dd>3.4028234663852886e+38</dd><dt><span>GRIB_name :</span></dt><dd>10 metre U wind component</dd><dt><span>GRIB_shortName :</span></dt><dd>10u</dd><dt><span>GRIB_totalNumber :</span></dt><dd>0</dd><dt><span>GRIB_units :</span></dt><dd>m s**-1</dd><dt><span>long_name :</span></dt><dd>10 metre U wind component</dd><dt><span>units :</span></dt><dd>m s**-1</dd><dt><span>standard_name :</span></dt><dd>unknown</dd></dl></div></li></ul></div></div>"
      ],
      "text/plain": [
       "<xarray.DataArray 'u10' (latitude: 45, longitude: 65)> Size: 12kB\n",
       "[2925 values with dtype=float32]\n",
       "Coordinates:\n",
       "    number      int64 8B ...\n",
       "    time        datetime64[ns] 8B 2023-06-16T11:00:00\n",
       "    step        timedelta64[ns] 8B ...\n",
       "    surface     float64 8B ...\n",
       "  * latitude    (latitude) float64 360B 44.0 43.75 43.5 ... 33.5 33.25 33.0\n",
       "  * longitude   (longitude) float64 520B -78.0 -77.75 -77.5 ... -62.25 -62.0\n",
       "    valid_time  datetime64[ns] 8B ...\n",
       "Attributes: (12/31)\n",
       "    GRIB_paramId:                             165\n",
       "    GRIB_dataType:                            an\n",
       "    GRIB_numberOfPoints:                      2925\n",
       "    GRIB_typeOfLevel:                         surface\n",
       "    GRIB_stepUnits:                           1\n",
       "    GRIB_stepType:                            instant\n",
       "    ...                                       ...\n",
       "    GRIB_shortName:                           10u\n",
       "    GRIB_totalNumber:                         0\n",
       "    GRIB_units:                               m s**-1\n",
       "    long_name:                                10 metre U wind component\n",
       "    units:                                    m s**-1\n",
       "    standard_name:                            unknown"
      ]
     },
     "execution_count": 140,
     "metadata": {},
     "output_type": "execute_result"
    }
   ],
   "source": [
    "u10[3995]"
   ]
  },
  {
   "cell_type": "code",
   "execution_count": 141,
   "id": "af7bd034-cd5e-461e-abf2-05e8963cb7f2",
   "metadata": {},
   "outputs": [],
   "source": [
    "# Extract ERA5 wind components at the matched time index\n",
    "u10_matched = u10.isel(time=time_idx).values\n",
    "v10_matched = v10.isel(time=time_idx).values\n"
   ]
  },
  {
   "cell_type": "code",
   "execution_count": 142,
   "id": "9d5cdff9-ffb4-441d-8ffd-43da24e79eef",
   "metadata": {},
   "outputs": [],
   "source": [
    "# match time & coordinates\n",
    "u10_matched = u10_matched.ravel()[idxs]\n",
    "v10_matched = v10_matched.ravel()[idxs]"
   ]
  },
  {
   "cell_type": "code",
   "execution_count": 143,
   "id": "548d70fd-7bb1-4683-a991-cc2f1a3be19b",
   "metadata": {},
   "outputs": [
    {
     "data": {
      "text/plain": [
       "1688986800000000000"
      ]
     },
     "execution_count": 143,
     "metadata": {},
     "output_type": "execute_result"
    }
   ],
   "source": [
    "# u10_sentinel = u10_matched.ravel()[idxs]\n",
    "# v10_sentinel = v10_matched.ravel()[idxs]\n",
    "matched_era5_time_int"
   ]
  },
  {
   "cell_type": "code",
   "execution_count": 144,
   "id": "3c72db79-5c38-4c08-9890-57e2e15b8299",
   "metadata": {},
   "outputs": [
    {
     "data": {
      "text/plain": [
       "(5115,)"
      ]
     },
     "execution_count": 144,
     "metadata": {},
     "output_type": "execute_result"
    }
   ],
   "source": [
    "u10_matched.shape"
   ]
  },
  {
   "cell_type": "code",
   "execution_count": 145,
   "id": "0629f0eb-8597-45de-9d2f-3318879aa6e8",
   "metadata": {},
   "outputs": [],
   "source": [
    "combined_data = np.column_stack((\n",
    "    sentinel_coords,    # (5115, 2) → Sentinel lat/lon\n",
    "    matched_lat_lon,    # (5115, 2) → Matched ERA5 lat/lon\n",
    "    u_sentinel, v_sentinel,  # (5115,) → Sentinel wind vectors\n",
    "    u10_matched, v10_matched,  # (5115,) → ERA5 wind vectors\n",
    "    np.full(len(sentinel_coords), matched_era5_time_int)  # (5115,) → Time\n",
    "))"
   ]
  },
  {
   "cell_type": "code",
   "execution_count": 146,
   "id": "208ec30d-7f0b-4d2a-919c-3670353385c9",
   "metadata": {},
   "outputs": [
    {
     "name": "stdout",
     "output_type": "stream",
     "text": [
      "41.32596969604492\n",
      "-71.48783111572266\n",
      "41.25\n",
      "-71.5\n",
      "-6.230957984924316\n",
      "4.351455211639404\n",
      "-5.357940673828125\n",
      "2.731781005859375\n",
      "1.6889868e+18\n"
     ]
    }
   ],
   "source": [
    "for i in combined_data[100]:\n",
    "    print (i)"
   ]
  },
  {
   "cell_type": "markdown",
   "id": "ae8dc2d8-e410-44d6-b45b-9b71d3e543c8",
   "metadata": {},
   "source": [
    "# Check if they correlate or not"
   ]
  },
  {
   "cell_type": "code",
   "execution_count": 147,
   "id": "f77c373f-5f48-463b-a175-f6e43fcf2caa",
   "metadata": {},
   "outputs": [
    {
     "name": "stdout",
     "output_type": "stream",
     "text": [
      "Pearson correlation for U-components: 0.742 (p-value: 0.000E+00)\n",
      "Pearson correlation for V-components: 0.667 (p-value: 0.000E+00)\n"
     ]
    }
   ],
   "source": [
    "from scipy.stats import pearsonr\n",
    "\n",
    "# Compute correlation for U-components\n",
    "corr_u, p_value_u = pearsonr(u_sentinel, u10_matched)\n",
    "\n",
    "# Compute correlation for V-components\n",
    "corr_v, p_value_v = pearsonr(v_sentinel, v10_matched)\n",
    "\n",
    "print(f\"Pearson correlation for U-components: {corr_u:.3f} (p-value: {p_value_u:.3E})\")\n",
    "print(f\"Pearson correlation for V-components: {corr_v:.3f} (p-value: {p_value_v:.3E})\")\n"
   ]
  },
  {
   "cell_type": "code",
   "execution_count": 148,
   "id": "903cd616-34c2-42c1-8494-06611f4643ce",
   "metadata": {},
   "outputs": [
    {
     "data": {
      "image/png": "[encoded data removed]",
      "text/plain": [
       "<Figure size 1200x600 with 2 Axes>"
      ]
     },
     "metadata": {},
     "output_type": "display_data"
    }
   ],
   "source": [
    "import matplotlib.pyplot as plt\n",
    "\n",
    "# Plot for U-component correlation\n",
    "plt.figure(figsize=(12, 6))\n",
    "\n",
    "# U-component scatter plot\n",
    "plt.subplot(1, 2, 1)\n",
    "plt.scatter(u_sentinel, u10_matched, alpha=0.5, color='b')\n",
    "plt.xlabel(\"Sentinel-1 U-component (m/s)\")\n",
    "plt.ylabel(\"ERA5 U-component (m/s)\")\n",
    "plt.title(f\"U-component Correlation: r={corr_u:.3f}\")\n",
    "plt.grid(True)\n",
    "\n",
    "# V-component scatter plot\n",
    "plt.subplot(1, 2, 2)\n",
    "plt.scatter(v_sentinel, v10_matched, alpha=0.5, color='r')\n",
    "plt.xlabel(\"Sentinel-1 V-component (m/s)\")\n",
    "plt.ylabel(\"ERA5 V-component (m/s)\")\n",
    "plt.title(f\"V-component Correlation: r={corr_v:.3f}\")\n",
    "plt.grid(True)\n",
    "\n",
    "plt.tight_layout()\n",
    "plt.show()\n"
   ]
  },
  {
   "cell_type": "code",
   "execution_count": 109,
   "id": "cef09778-81d4-4627-8d1d-0603d48b7823",
   "metadata": {},
   "outputs": [
    {
     "data": {
      "image/png": "[encoded data removed]",
      "text/plain": [
       "<Figure size 1200x600 with 2 Axes>"
      ]
     },
     "metadata": {},
     "output_type": "display_data"
    }
   ],
   "source": [
    "plt.figure(figsize=(12, 6))\n",
    "\n",
    "# U-component histogram\n",
    "plt.subplot(1, 2, 1)\n",
    "plt.hist(u_sentinel, bins=30, alpha=0.7, label='Sentinel-1 U', color='blue')\n",
    "plt.hist(u10_matched, bins=30, alpha=0.7, label='ERA5 U', color='orange')\n",
    "plt.xlabel(\"Wind Speed (m/s)\")\n",
    "plt.ylabel(\"Frequency\")\n",
    "plt.title(\"U-component Distribution\")\n",
    "plt.legend()\n",
    "plt.grid(True)\n",
    "\n",
    "# V-component histogram\n",
    "plt.subplot(1, 2, 2)\n",
    "plt.hist(v_sentinel, bins=30, alpha=0.7, label='Sentinel-1 V', color='red')\n",
    "plt.hist(v10_matched, bins=30, alpha=0.7, label='ERA5 V', color='green')\n",
    "plt.xlabel(\"Wind Speed (m/s)\")\n",
    "plt.ylabel(\"Frequency\")\n",
    "plt.title(\"V-component Distribution\")\n",
    "plt.legend()\n",
    "plt.grid(True)\n",
    "\n",
    "plt.tight_layout()\n",
    "plt.show()\n"
   ]
  },
  {
   "cell_type": "code",
   "execution_count": 47,
   "id": "4f3310cd-ac1f-4801-9694-99d069721680",
   "metadata": {},
   "outputs": [
    {
     "ename": "NameError",
     "evalue": "name 'df' is not defined",
     "output_type": "error",
     "traceback": [
      "\u001b[0;31m---------------------------------------------------------------------------\u001b[0m",
      "\u001b[0;31mNameError\u001b[0m                                 Traceback (most recent call last)",
      "Cell \u001b[0;32mIn[47], line 1\u001b[0m\n\u001b[0;32m----> 1\u001b[0m \u001b[43mdf\u001b[49m\n",
      "\u001b[0;31mNameError\u001b[0m: name 'df' is not defined"
     ]
    }
   ],
   "source": [
    "df"
   ]
  },
  {
   "cell_type": "code",
   "execution_count": null,
   "id": "685f3614-2de9-48f1-9e26-231e8292203e",
   "metadata": {},
   "outputs": [],
   "source": [
    "# Convert GRIB and Sentinel-1 times to pandas DateTime format\n",
    "grib_times = pd.to_datetime(ds[\"time\"].values)\n",
    "sentinel_df[\"datetime\"] = pd.to_datetime(sentinel_df[\"timestamp\"])  # Assuming Sentinel timestamps\n",
    "\n",
    "# Find closest GRIB timestamp for each Sentinel-1 record\n",
    "sentinel_df[\"matched_time\"] = sentinel_df[\"datetime\"].apply(lambda x: grib_times[np.argmin(np.abs(grib_times - x))])\n"
   ]
  },
  {
   "cell_type": "markdown",
   "id": "78befc14-9e00-45a9-9671-4b82dd7114bd",
   "metadata": {},
   "source": [
    "# Extract Wind Data"
   ]
  },
  {
   "cell_type": "code",
   "execution_count": null,
   "id": "06cf091b-b0d4-4c8a-8787-0597ae8e39af",
   "metadata": {},
   "outputs": [],
   "source": [
    "# Function to extract wind data from GRIB dataset\n",
    "def get_grib_wind(lat, lon, time):\n",
    "    return ds.sel(latitude=lat, longitude=lon, time=time, method=\"nearest\")\n",
    "\n",
    "# Apply to Sentinel-1 matched points\n",
    "sentinel_df[\"u10\"] = sentinel_df.apply(lambda row: get_grib_wind(row.matched_lat, row.matched_lon, row.matched_time)[\"u10\"].values, axis=1)\n",
    "sentinel_df[\"v10\"] = sentinel_df.apply(lambda row: get_grib_wind(row.matched_lat, row.matched_lon, row.matched_time)[\"v10\"].values, axis=1)\n"
   ]
  },
  {
   "cell_type": "markdown",
   "id": "9974abac-c7e7-46b8-992c-e37146013350",
   "metadata": {},
   "source": [
    "# Sample code on 02/19/2025"
   ]
  },
  {
   "cell_type": "raw",
   "id": "e6651184-34e6-4ff8-951b-1e98a9a1af01",
   "metadata": {},
   "source": [
    "import numpy as np\n",
    "import xarray as xr\n",
    "\n",
    "# Open the ERA5 dataset (using cfgrib engine)\n",
    "era5_ds = xr.open_dataset(era_path, engine='cfgrib')\n",
    "\n",
    "# Extract key variables\n",
    "u10 = era5_ds[\"u10\"]  # 10m wind component U\n",
    "v10 = era5_ds[\"v10\"]  # 10m wind component V\n",
    "\n",
    "# Extract ERA5 time as a NumPy array of datetime64 (nanosecond precision)\n",
    "era5_times = era5_ds[\"time\"].values.astype(\"datetime64[ns]\")\n",
    "\n",
    "# ----- Matching Coordinates (Your Provided Code) -----\n",
    "# Extract coordinates for ERA5 and Sentinel\n",
    "lat = era5_ds[\"latitude\"].values\n",
    "lon = era5_ds[\"longitude\"].values\n",
    "sentinel_lat = all_arrays[0][2].ravel()\n",
    "sentinel_lon = all_arrays[0][3].ravel()\n",
    "sentinel_coords = np.column_stack((sentinel_lat, sentinel_lon))\n",
    "grib_coords = np.array(np.meshgrid(lat, lon)).T.reshape(-1, 2)\n",
    "\n",
    "from scipy.spatial import cKDTree\n",
    "tree = cKDTree(grib_coords)\n",
    "_, idxs = tree.query(sentinel_coords)\n",
    "matched_lat_lon = grib_coords[idxs]\n",
    "\n",
    "# ----- Matching Times Without Pandas -----\n",
    "# Assume you have Sentinel-1 timestamps in a NumPy array (or list) of strings,\n",
    "# for example: ['2025-01-01T12:00:00', '2025-01-01T12:01:00', ...]\n",
    "sentinel_timestamps = np.array([...])  # replace with your Sentinel timestamps\n",
    "\n",
    "# Convert Sentinel timestamps to NumPy datetime64 format\n",
    "sentinel_times = sentinel_timestamps.astype(\"datetime64[ns]\")\n",
    "\n",
    "# For each Sentinel time, find the closest ERA5 time\n",
    "def find_nearest_time(s_time, era_times):\n",
    "    # Calculate absolute differences (this works because datetime64 objects can be subtracted)\n",
    "    differences = np.abs(era_times - s_time)\n",
    "    # Return the ERA5 time with the minimum difference\n",
    "    return era_times[differences.argmin()]\n",
    "\n",
    "# Apply the function to each Sentinel timestamp (using a list comprehension)\n",
    "matched_era5_times = np.array([find_nearest_time(s_time, era5_times) for s_time in sentinel_times])\n",
    "\n",
    "# Optionally, if you want to match the ERA5 wind data to the Sentinel timestamps,\n",
    "# you can interpolate the ERA5 dataset in time:\n",
    "era5_interp = era5_ds.interp(time=sentinel_times)\n",
    "\n",
    "# Now, era5_interp[\"u10\"] and era5_interp[\"v10\"] hold wind data at the Sentinel times\n",
    "\n",
    "# ----- Downsampling the Wind Data -----\n",
    "# If your goal is to reduce the ERA5 wind data resolution (e.g., from 1-hourly to 3-hourly averages)\n",
    "# you can use xarray's resample method. For example, to get 3-hourly means:\n",
    "era5_ds_downsampled = era5_ds.resample(time=\"3H\").mean()\n",
    "\n",
    "# Extract downsampled wind components\n",
    "u10_downsampled = era5_ds_downsampled[\"u10\"]\n",
    "v10_downsampled = era5_ds_downsampled[\"v10\"]\n",
    "\n",
    "# You can then use these downsampled values for further comparison with Sentinel-1 data.\n"
   ]
  },
  {
   "cell_type": "markdown",
   "id": "678c909c-85fa-4c14-8041-74f497272d52",
   "metadata": {},
   "source": [
    "# Reproject coordinate reference system\n"
   ]
  },
  {
   "cell_type": "code",
   "execution_count": null,
   "id": "e52d83be-3e7b-489c-a0b5-25d2f582c002",
   "metadata": {},
   "outputs": [],
   "source": []
  },
  {
   "cell_type": "code",
   "execution_count": 9,
   "id": "339d3968-ca74-478b-9c1a-76be7e0d7fab",
   "metadata": {},
   "outputs": [],
   "source": [
    "# Define the source and target CRS (WGS84 to LCC)\n",
    "source_crs = \"EPSG:4326\"  # WGS84 (lat/lon)\n",
    "target_crs = '+proj=lcc +lat_1=34.45660400390625 +lat_2=43.251747131347656 +lon_0=-71.37067794799805 +lat_0=38.85417556762695 +datum=WGS84'\n",
    "\n",
    "# Create a Transformer object for converting from WGS84 to LCC\n",
    "transformer = Transformer.from_crs(source_crs, target_crs)\n",
    "\n",
    "# Convert lat/lon to projected x, y coordinates\n",
    "# df['x'], df['y'] = transformer.transform(df['Lat'].values, df['Lon'].values)"
   ]
  },
  {
   "cell_type": "code",
   "execution_count": 8,
   "id": "095c808f-e9da-40a8-abf3-7319d0f9e367",
   "metadata": {},
   "outputs": [
    {
     "name": "stdout",
     "output_type": "stream",
     "text": [
      "Coordinates:\n",
      "    number         int64 8B ...\n",
      "  * time           (time) datetime64[ns] 70kB 2023-01-01 ... 2023-12-31T23:00:00\n",
      "    step           timedelta64[ns] 8B ...\n",
      "    isobaricInhPa  float64 8B ...\n",
      "  * latitude       (latitude) float64 312B 43.5 43.25 43.0 ... 34.5 34.25 34.0\n",
      "  * longitude      (longitude) float64 344B -76.5 -76.25 -76.0 ... -66.25 -66.0\n",
      "    valid_time     (time) datetime64[ns] 70kB ...\n",
      "<xarray.DataArray 'latitude' (latitude: 39)> Size: 312B\n",
      "array([43.5 , 43.25, 43.  , 42.75, 42.5 , 42.25, 42.  , 41.75, 41.5 , 41.25,\n",
      "       41.  , 40.75, 40.5 , 40.25, 40.  , 39.75, 39.5 , 39.25, 39.  , 38.75,\n",
      "       38.5 , 38.25, 38.  , 37.75, 37.5 , 37.25, 37.  , 36.75, 36.5 , 36.25,\n",
      "       36.  , 35.75, 35.5 , 35.25, 35.  , 34.75, 34.5 , 34.25, 34.  ])\n",
      "Coordinates:\n",
      "    number         int64 8B ...\n",
      "    step           timedelta64[ns] 8B ...\n",
      "    isobaricInhPa  float64 8B ...\n",
      "  * latitude       (latitude) float64 312B 43.5 43.25 43.0 ... 34.5 34.25 34.0\n",
      "Attributes:\n",
      "    units:             degrees_north\n",
      "    standard_name:     latitude\n",
      "    long_name:         latitude\n",
      "    stored_direction:  decreasing\n",
      "<xarray.DataArray 'longitude' (longitude: 43)> Size: 344B\n",
      "array([-76.5 , -76.25, -76.  , -75.75, -75.5 , -75.25, -75.  , -74.75, -74.5 ,\n",
      "       -74.25, -74.  , -73.75, -73.5 , -73.25, -73.  , -72.75, -72.5 , -72.25,\n",
      "       -72.  , -71.75, -71.5 , -71.25, -71.  , -70.75, -70.5 , -70.25, -70.  ,\n",
      "       -69.75, -69.5 , -69.25, -69.  , -68.75, -68.5 , -68.25, -68.  , -67.75,\n",
      "       -67.5 , -67.25, -67.  , -66.75, -66.5 , -66.25, -66.  ])\n",
      "Coordinates:\n",
      "    number         int64 8B ...\n",
      "    step           timedelta64[ns] 8B ...\n",
      "    isobaricInhPa  float64 8B ...\n",
      "  * longitude      (longitude) float64 344B -76.5 -76.25 -76.0 ... -66.25 -66.0\n",
      "Attributes:\n",
      "    units:          degrees_east\n",
      "    standard_name:  longitude\n",
      "    long_name:      longitude\n"
     ]
    }
   ],
   "source": [
    "# Check the coordinates (e.g., time, lat, lon)\n",
    "print(ds.coords)\n",
    "\n",
    "# Access specific coordinates, e.g., latitude and longitude\n",
    "print(ds.coords['latitude'])\n",
    "print(ds.coords['longitude'])\n"
   ]
  },
  {
   "cell_type": "markdown",
   "id": "a78bf872-bf91-499e-89a4-7d466b45e32a",
   "metadata": {},
   "source": [
    "Do I have to match Sentinel-1 products one by one?\n",
    "Yes, since Sentinel-1 provides discrete SAR images with different timestamps and locations, you’ll need to process each product separately. The workflow would look like this:\n",
    "\n",
    "Loop through Sentinel-1 products\n",
    "Read the metadata (timestamp, lat/lon grid).\n",
    "Find the closest GRIB timestamps and grid points.\n",
    "Extract the corresponding wind data.\n",
    "Store results\n",
    "Save the matched data for each Sentinel-1 product.\n",
    "Combine results into a larger dataset if needed.\n",
    "If you're dealing with many Sentinel-1 products, consider automating the process with a script that loops through all available images.\n",
    "\n",
    "2. How does the nearest-neighbor search work?\n",
    "We use k-dimensional tree (KDTree) from scipy.spatial.cKDTree to efficiently find the nearest point in your GRIB grid. Here’s how it works:\n",
    "\n",
    "Convert GRIB grid points into a KDTree\n",
    "\n",
    "This organizes latitude-longitude points into a data structure optimized for fast searching.\n",
    "It reduces the computational cost from O(n) (brute force) to O(log n) (KDTree search).\n",
    "Query the nearest neighbor for each Sentinel-1 coordinate\n",
    "\n",
    "For every Sentinel-1 lat/lon, the KDTree finds the closest GRIB grid point using Euclidean distance in 2D space.\n",
    "💡 Alternative: Instead of a pure nearest-neighbor approach, you could use bilinear interpolation to compute values from the four nearest grid points.\n",
    "\n",
    "3. Should I project coordinates before matching?\n",
    "Using latitude and longitude directly assumes distances are uniform, which is not true, especially at high latitudes.\n",
    "\n",
    "The Earth is not a perfect sphere; distances in degrees vary depending on location.\n",
    "Using (lat, lon) as if they were Cartesian coordinates can introduce small errors.\n",
    "Best Approach: Use an Equal-Area Projection (like Lambert)\n",
    "Why?\n",
    "\n",
    "It preserves distances locally, making nearest-neighbor searches more accurate.\n",
    "Wind data typically benefits from Lambert Conformal Conic (LCC) projection, commonly used for meteorological models.\n",
    "How to Reproject to Lambert Projection (EPSG:4326 → EPSG:3031 or LCC)?\n",
    "You can transform the coordinates using pyproj:\n",
    "\n",
    "python\n",
    "Copy\n",
    "Edit\n",
    "from pyproj import Transformer\n",
    "\n",
    "# Define transformation from WGS84 (lat/lon) to Lambert projection\n",
    "transformer = Transformer.from_crs(\"EPSG:4326\", \"EPSG:3031\", always_xy=True)\n",
    "\n",
    "# Convert GRIB coordinates\n",
    "grib_x, grib_y = transformer.transform(lon, lat)\n",
    "\n",
    "# Convert Sentinel-1 coordinates\n",
    "sentinel_x, sentinel_y = transformer.transform(sentinel_df[\"lon\"], sentinel_df[\"lat\"])\n",
    "Now, use (grib_x, grib_y) instead of (lat, lon) in the KDTree nearest-neighbor search.\n",
    "\n",
    "What If You Skip Projection?\n",
    "If your study area is small (e.g., offshore wind near New Jersey), errors may be minor.\n",
    "If working globally, projection is highly recommended.\n",
    "Final Thoughts\n",
    "If Sentinel-1 images are spread over time and space, loop through them product by product.\n",
    "Using KDTree nearest-neighbor is fast, but consider bilinear interpolation for smoother values.\n",
    "Projecting to Lambert (or another suitable projection) is best, especially for accurate spatial matching.\n",
    "Would you like help implementing the Lambert projection step in your workflow? 🚀"
   ]
  },
  {
   "cell_type": "code",
   "execution_count": null,
   "id": "75ffd0e8-d761-41fd-a598-e8a237467cd7",
   "metadata": {},
   "outputs": [],
   "source": []
  }
 ],
 "metadata": {
  "kernelspec": {
   "display_name": "Python (cris_env)",
   "language": "python",
   "name": "cris_env"
  },
  "language_info": {
   "codemirror_mode": {
    "name": "ipython",
    "version": 3
   },
   "file_extension": ".py",
   "mimetype": "text/x-python",
   "name": "python",
   "nbconvert_exporter": "python",
   "pygments_lexer": "ipython3",
   "version": "3.12.2"
  },
  "toc-autonumbering": true,
  "toc-showcode": false,
  "toc-showmarkdowntxt": false
 },
 "nbformat": 4,
 "nbformat_minor": 5
}
