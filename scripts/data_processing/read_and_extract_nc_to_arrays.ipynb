{
 "cells": [
  {
   "cell_type": "markdown",
   "id": "b17c66ce-ca20-4c32-90db-d0d3e84052ea",
   "metadata": {},
   "source": [
    "# Importing needed packages"
   ]
  },
  {
   "cell_type": "code",
   "execution_count": 6,
   "id": "71f104ac-bcd0-4c37-9ac1-30296ea37f54",
   "metadata": {},
   "outputs": [],
   "source": [
    "import os\n",
    "import zipfile\n",
    "import netCDF4 as nc\n",
    "import numpy as np"
   ]
  },
  {
   "cell_type": "markdown",
   "id": "a1064c1b-67ae-486b-b85e-b58729baa16a",
   "metadata": {},
   "source": [
    "# Sentinel level_2 data extraction\n",
    "This process extracts wind speed, direction, latitude, and longitude data from multiple files to minimize memory issues when loading the data.\n",
    "## Count the number of .zip files "
   ]
  },
  {
   "cell_type": "code",
   "execution_count": 9,
   "id": "a4f3357a-1fde-4703-9825-a858ce14f0ff",
   "metadata": {},
   "outputs": [
    {
     "name": "stdout",
     "output_type": "stream",
     "text": [
      "There are 5775 files\n"
     ]
    }
   ],
   "source": [
    "directory_sentinel_level_2_data = '/home/noriegac/Documents/Offshore Wind Research/data/sentinel_level_2_data/'\n",
    "# Documents/Offshore Wind Research/data/sentinel_level_2_data\n",
    "zip_files = [f for f in os.listdir(directory_sentinel_level_2_data) if f.endswith('.zip')]\n",
    "print(f\"There are {len(zip_files)} files\")"
   ]
  },
  {
   "cell_type": "markdown",
   "id": "5a86f979-b70b-4d88-9283-c1f0889c27c0",
   "metadata": {},
   "source": [
    "## Function to extract the arrays for wind speed, direction, lat and lon"
   ]
  },
  {
   "cell_type": "code",
   "execution_count": 10,
   "id": "8059e81e-d018-4bc6-ab17-6ed1d37d13f5",
   "metadata": {},
   "outputs": [],
   "source": [
    "def extract_numpy_arrays(directory_path, zip_file):\n",
    "    \"\"\"\n",
    "    Extracts wind speed, direction, latitude, and longitude data \n",
    "    from a zip file containing NetCDF (.nc) files.\n",
    "\n",
    "    Parameters:\n",
    "        directory_path (str): The path to the directory containing the zip file.\n",
    "        zip_file (str): The name of the zip file to be processed.\n",
    "\n",
    "    Returns:\n",
    "        tuple: A tuple containing:\n",
    "            - output_name (str): The name of the extracted file without the .zip extension.\n",
    "            - owiSpeed (np.ndarray): Array of wind speeds with NaN for extreme values.\n",
    "            - owiDir (np.ndarray): Array of wind directions with NaN for extreme values.\n",
    "            - owiLat (np.ndarray): Array of latitudes.\n",
    "            - owiLon (np.ndarray): Array of longitudes.\n",
    "\n",
    "    Raises:\n",
    "        Exception: If there is an error processing the zip file.\n",
    "    \"\"\"\n",
    "    zip_file_path = directory_path + zip_file  # Join the directory path with the zip file name\n",
    "    output_name = zip_file[:-4]  # Remove the .zip extension\n",
    "\n",
    "    # Open the zip file\n",
    "    with zipfile.ZipFile(zip_file_path, 'r') as zip_file:\n",
    "        for file_name in zip_file.namelist():\n",
    "            if file_name.endswith('.nc'):  # Process only .nc files\n",
    "                with zip_file.open(file_name) as nc_file:\n",
    "                    try:\n",
    "                        dataset = nc.Dataset('sample.nc', memory=nc_file.read())\n",
    "                        owiSpeed = np.array(dataset.variables['owiWindSpeed'])\n",
    "                        owiSpeed[owiSpeed == -999.0] = np.nan  # Replace extreme values with NaN\n",
    "\n",
    "                        owiDir = np.array(dataset.variables['owiWindDirection'])\n",
    "                        owiDir[owiDir == -999.0] = np.nan  # Replace extreme values with NaN\n",
    "\n",
    "                        owiLat = np.array(dataset.variables['owiLat'])\n",
    "                        owiLon = np.array(dataset.variables['owiLon'])\n",
    "\n",
    "                        return output_name, owiSpeed, owiDir, owiLat, owiLon\n",
    "\n",
    "                    except Exception as e:\n",
    "                        print(f\"Error processing {zip_file}: {e}\")\n",
    "                break  # Exit after processing the first .nc file"
   ]
  },
  {
   "cell_type": "code",
   "execution_count": 16,
   "id": "fd30a8fb-4b30-40a8-be97-66f9f6c902bb",
   "metadata": {},
   "outputs": [
    {
     "ename": "TypeError",
     "evalue": "unsupported operand type(s) for /: 'str' and 'str'",
     "output_type": "error",
     "traceback": [
      "\u001b[0;31m---------------------------------------------------------------------------\u001b[0m",
      "\u001b[0;31mTypeError\u001b[0m                                 Traceback (most recent call last)",
      "Cell \u001b[0;32mIn[16], line 1\u001b[0m\n\u001b[0;32m----> 1\u001b[0m \u001b[43mdirectory_sentinel_level_2_data\u001b[49m\u001b[43m \u001b[49m\u001b[38;5;241;43m/\u001b[39;49m\u001b[43m \u001b[49m\u001b[38;5;124;43m\"\u001b[39;49m\u001b[38;5;124;43mS1A_IW_OCN__2SDV_20170403T222528_20170403T222553_015986_01A5DF_AE79.zip\u001b[39;49m\u001b[38;5;124;43m\"\u001b[39;49m\n",
      "\u001b[0;31mTypeError\u001b[0m: unsupported operand type(s) for /: 'str' and 'str'"
     ]
    }
   ],
   "source": [
    "directory_sentinel_level_2_data / \"S1A_IW_OCN__2SDV_20170403T222528_20170403T222553_015986_01A5DF_AE79.zip\""
   ]
  },
  {
   "cell_type": "markdown",
   "id": "17528b0f-00a0-4bf1-a91a-0c06c0b79c18",
   "metadata": {},
   "source": [
    "## Save the extracted arrays for readability"
   ]
  },
  {
   "cell_type": "code",
   "execution_count": 10,
   "id": "aab2a3a9-7e00-477e-9cdb-9f1797acee55",
   "metadata": {},
   "outputs": [],
   "source": [
    "def save_numpy_arrays(path_numpyArrays, extracted_file):\n",
    "    \"\"\"\n",
    "    Saves extracted NumPy arrays to a compressed .npz file.\n",
    "\n",
    "    Parameters:\n",
    "        path_numpyArrays (str): The path where the NumPy arrays will be saved.\n",
    "        extracted_file (tuple): A tuple containing the extracted data:\n",
    "            - output_name (str): Name of the extracted file.\n",
    "            - owiSpeed (np.ndarray): Array of wind speeds.\n",
    "            - owiDir (np.ndarray): Array of wind directions.\n",
    "            - lat (np.ndarray): Array of latitudes.\n",
    "            - lon (np.ndarray): Array of longitudes.\n",
    "    \"\"\"\n",
    "    name_np = path_numpyArrays + extracted_file[0]\n",
    "    np.savez_compressed(name_np, owiSpeed=extracted_file[1], owiDir=extracted_file[2], lat=extracted_file[3], lon=extracted_file[4])"
   ]
  },
  {
   "cell_type": "markdown",
   "id": "9cc6478e-835e-4d85-a26c-c69bf1e08e31",
   "metadata": {},
   "source": [
    "# Reading and extracting the data"
   ]
  },
  {
   "cell_type": "code",
   "execution_count": 18,
   "id": "d134e982-3dac-4091-aa8e-8cde35f7b4b8",
   "metadata": {},
   "outputs": [
    {
     "name": "stdout",
     "output_type": "stream",
     "text": [
      "S1A_IW_OCN__2SDH_20190420T224949_20190420T225014_026880_0305CC_6952.zip was processed\n",
      "S1A_IW_OCN__2SDH_20190420T225014_20190420T225039_026880_0305CC_639F.zip was processed\n",
      "S1A_IW_OCN__2SDH_20190420T225039_20190420T225104_026880_0305CC_6190.zip was processed\n",
      "S1A_IW_OCN__2SDH_20221230T105800_20221230T105823_046560_059459_6696.zip was processed\n",
      "S1A_IW_OCN__2SDH_20230123T105759_20230123T105822_046910_05A02B_87C1.zip was processed\n"
     ]
    }
   ],
   "source": [
    "path_numpyArrays = '/home/noriegac/Documents/Offshore Wind Research/data/numpy_arrays_from_level_2/'\n",
    "\n",
    "for i in zip_files[:5]:\n",
    "    save_numpy_arrays(path_numpyArrays, extract_numpy_arrays(directory_sentinel_level_2_data, i))\n",
    "    print(f'{i} was processed')"
   ]
  },
  {
   "cell_type": "markdown",
   "id": "71c25e5b-94cd-400c-99d6-4191935f72f7",
   "metadata": {},
   "source": [
    "# Checking that all files were processed"
   ]
  },
  {
   "cell_type": "code",
   "execution_count": 25,
   "id": "f99ffaa9-2e6b-4d8e-af92-b8ef31f49249",
   "metadata": {},
   "outputs": [
    {
     "name": "stdout",
     "output_type": "stream",
     "text": [
      "There are 5774 files\n"
     ]
    }
   ],
   "source": [
    "npz_files = [f for f in os.listdir(path_numpyArrays) if f.endswith('.npz')]\n",
    "print(f\"There are {len(npz_files)} files\")"
   ]
  },
  {
   "cell_type": "markdown",
   "id": "604ac14b-0ccb-4ae7-b5f0-a6d777fcd7da",
   "metadata": {},
   "source": [
    "## Remove the .npz extension - keep only the file name"
   ]
  },
  {
   "cell_type": "code",
   "execution_count": 26,
   "id": "e5613b99-0892-4878-acf7-5562b3e4d23c",
   "metadata": {},
   "outputs": [],
   "source": [
    "npz_file_name = set([name[:-4] for name in npz_files])"
   ]
  },
  {
   "cell_type": "markdown",
   "id": "ff28fb6b-8c24-494b-a4ce-f099778beb2e",
   "metadata": {},
   "source": [
    "## Remove the .zip extension - keep only the file name"
   ]
  },
  {
   "cell_type": "code",
   "execution_count": 28,
   "id": "fe8b3a2e-0877-4f8e-8744-b70985fcf037",
   "metadata": {},
   "outputs": [],
   "source": [
    "zip_file_names = set([name[:-4] for name in zip_files])"
   ]
  },
  {
   "cell_type": "markdown",
   "id": "cf740ce2-2526-4f9d-80d0-8cd435e5f815",
   "metadata": {},
   "source": [
    "## Find the missing values"
   ]
  },
  {
   "cell_type": "code",
   "execution_count": 32,
   "id": "7d2e1c99-5d15-434f-936f-7b1175ead565",
   "metadata": {},
   "outputs": [
    {
     "name": "stdout",
     "output_type": "stream",
     "text": [
      "The following files have not been extracted yet:\n",
      "['S1A_IW_OCN__2SDV_20230605T224319_20230605T224344_048857_05E021_5414.zip']\n"
     ]
    }
   ],
   "source": [
    "missing_zip_files = [f\"{name}.zip\" for name in list(zip_file_names - npz_file_name)]\n",
    "print(f\"The following files have not been extracted yet:\\n{missing_zip_files}\")"
   ]
  },
  {
   "cell_type": "markdown",
   "id": "c514f49a-dc48-42d5-a8c2-73bf39066911",
   "metadata": {},
   "source": [
    "# Read through the missing values"
   ]
  },
  {
   "cell_type": "code",
   "execution_count": 33,
   "id": "2180b581-9198-4fb2-a0f4-b5156d549aa7",
   "metadata": {},
   "outputs": [],
   "source": [
    "for i in missing_zip_files:\n",
    "    try:\n",
    "        save_numpy_arrays(path_numpyArrays, extract_numpy_arrays(directory_sentinel_level_2_data, i))\n",
    "    except Exception:\n",
    "        # Skip this item and continue with the next one\n",
    "        continue"
   ]
  },
  {
   "cell_type": "code",
   "execution_count": 2,
   "id": "111f6b17-73da-4726-8834-97ed6d92a67a",
   "metadata": {},
   "outputs": [
    {
     "ename": "NameError",
     "evalue": "name 'directory_sentinel_level_2_data' is not defined",
     "output_type": "error",
     "traceback": [
      "\u001b[0;31m---------------------------------------------------------------------------\u001b[0m",
      "\u001b[0;31mNameError\u001b[0m                                 Traceback (most recent call last)",
      "Cell \u001b[0;32mIn[2], line 1\u001b[0m\n\u001b[0;32m----> 1\u001b[0m \u001b[43mdirectory_sentinel_level_2_data\u001b[49m \u001b[38;5;241m/\u001b[39m \u001b[38;5;124m'\u001b[39m\u001b[38;5;124mS1A_IW_OCN__2SDV_20170403T222528_20170403T222553_015986_01A5DF_AE79.zip\u001b[39m\u001b[38;5;124m'\u001b[39m\n",
      "\u001b[0;31mNameError\u001b[0m: name 'directory_sentinel_level_2_data' is not defined"
     ]
    }
   ],
   "source": [
    "directory_sentinel_level_2_data / 'S1A_IW_OCN__2SDV_20170403T222528_20170403T222553_015986_01A5DF_AE79.zip'"
   ]
  },
  {
   "cell_type": "code",
   "execution_count": null,
   "id": "97c830cc-95ab-4874-9fd2-8fc2933f7918",
   "metadata": {},
   "outputs": [],
   "source": []
  }
 ],
 "metadata": {
  "kernelspec": {
   "display_name": "Python (cris_env)",
   "language": "python",
   "name": "cris_env"
  },
  "language_info": {
   "codemirror_mode": {
    "name": "ipython",
    "version": 3
   },
   "file_extension": ".py",
   "mimetype": "text/x-python",
   "name": "python",
   "nbconvert_exporter": "python",
   "pygments_lexer": "ipython3",
   "version": "3.12.7"
  },
  "toc-autonumbering": true,
  "toc-showcode": true,
  "toc-showmarkdowntxt": true
 },
 "nbformat": 4,
 "nbformat_minor": 5
}
